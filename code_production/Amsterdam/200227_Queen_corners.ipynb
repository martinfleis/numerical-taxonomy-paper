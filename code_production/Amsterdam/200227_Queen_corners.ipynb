{
 "cells": [
  {
   "cell_type": "code",
   "execution_count": null,
   "metadata": {},
   "outputs": [],
   "source": [
    "import geopandas as gpd\n",
    "from tqdm import tqdm\n",
    "from shapely.geometry import Point, Polygon, MultiPolygon\n",
    "import shapely"
   ]
  },
  {
   "cell_type": "code",
   "execution_count": null,
   "metadata": {},
   "outputs": [],
   "source": [
    "def queen_corners(gdf, sensitivity=2):\n",
    "    \"\"\"\n",
    "    Experimental: Fix unprecise corners.\n",
    "    \"\"\"\n",
    "    tessellation = gdf.copy()\n",
    "    changes = {}\n",
    "    qid = 0\n",
    "    sindex = tessellation.sindex\n",
    "\n",
    "    for ix, row in tqdm(tessellation.iterrows(), total=tessellation.shape[0]):\n",
    "        corners = []\n",
    "        change = []\n",
    "\n",
    "        cell = row.geometry\n",
    "        coords = cell.exterior.coords\n",
    "        for i in coords:\n",
    "            point = Point(i)\n",
    "            possible_matches_index = list(sindex.intersection(point.bounds))\n",
    "            possible_matches = tessellation.iloc[possible_matches_index]\n",
    "            precise_matches = sum(possible_matches.intersects(point))\n",
    "            if precise_matches > 2:\n",
    "                corners.append(point)\n",
    "\n",
    "        if len(corners) > 2:\n",
    "            for c, it in enumerate(corners):\n",
    "                next_c = c + 1\n",
    "                if c == (len(corners) - 1):\n",
    "                    next_c = 0\n",
    "                if corners[c].distance(corners[next_c]) < sensitivity:\n",
    "                    change.append([corners[c], corners[next_c]])\n",
    "        elif len(corners) == 2:\n",
    "            if corners[0].distance(corners[1]) > 0:\n",
    "                if corners[0].distance(corners[1]) < sensitivity:\n",
    "                    change.append([corners[0], corners[1]])\n",
    "\n",
    "        if change:\n",
    "            for points in change:\n",
    "                x_new = np.mean([points[0].x, points[1].x])\n",
    "                y_new = np.mean([points[0].y, points[1].y])\n",
    "                new = [(x_new, y_new), id]\n",
    "                changes[(points[0].x, points[0].y)] = new\n",
    "                changes[(points[1].x, points[1].y)] = new\n",
    "                qid = qid + 1\n",
    "\n",
    "    for ix, row in tqdm(tessellation.iterrows(), total=tessellation.shape[0]):\n",
    "        cell = row.geometry\n",
    "        coords = list(cell.exterior.coords)\n",
    "\n",
    "        moves = {}\n",
    "        for x in coords:\n",
    "            if x in changes.keys():\n",
    "                moves[coords.index(x)] = changes[x]\n",
    "        keys = list(moves.keys())\n",
    "        delete_points = []\n",
    "        for move, k in enumerate(keys):\n",
    "            if move < len(keys) - 1:\n",
    "                if (\n",
    "                    moves[keys[move]][1] == moves[keys[move + 1]][1]\n",
    "                    and keys[move + 1] - keys[move] < 5\n",
    "                ):\n",
    "                    delete_points = delete_points + (\n",
    "                        coords[keys[move] : keys[move + 1]]\n",
    "                    )\n",
    "                    # change the code above to have if based on distance not number\n",
    "\n",
    "        newcoords = [changes[x][0] if x in changes.keys() else x for x in coords]\n",
    "        for coord in newcoords:\n",
    "            if coord in delete_points:\n",
    "                newcoords.remove(coord)\n",
    "        if coords != newcoords:\n",
    "            if not cell.interiors:\n",
    "                # newgeom = Polygon(newcoords).buffer(0)\n",
    "                be = Polygon(newcoords).exterior\n",
    "                mls = be.intersection(be)\n",
    "                if len(list(shapely.ops.polygonize(mls))) > 1:\n",
    "                    newgeom = MultiPolygon(shapely.ops.polygonize(mls))\n",
    "                    geoms = []\n",
    "                    for g, n in enumerate(newgeom):\n",
    "                        geoms.append(newgeom[g].area)\n",
    "                    newgeom = newgeom[geoms.index(max(geoms))]\n",
    "                else:\n",
    "                    newgeom = list(shapely.ops.polygonize(mls))[0]\n",
    "            else:\n",
    "                newgeom = Polygon(newcoords, holes=cell.interiors)\n",
    "            tessellation.loc[ix, \"geometry\"] = newgeom\n",
    "    return tessellation"
   ]
  },
  {
   "cell_type": "code",
   "execution_count": null,
   "metadata": {},
   "outputs": [],
   "source": [
    "path = 'folder/AMS'\n",
    "tess = gpd.read_file(path + '/elements.gpkg', layer='tessellation')"
   ]
  },
  {
   "cell_type": "code",
   "execution_count": null,
   "metadata": {},
   "outputs": [],
   "source": [
    "queen = queen_corners(tess)"
   ]
  },
  {
   "cell_type": "code",
   "execution_count": null,
   "metadata": {},
   "outputs": [],
   "source": [
    "queen.to_file(path + 'queen.gpkg', layer='tessellation', driver='GPKG')"
   ]
  }
 ],
 "metadata": {
  "kernelspec": {
   "display_name": "geo_dev",
   "language": "python",
   "name": "geo_dev"
  },
  "language_info": {
   "codemirror_mode": {
    "name": "ipython",
    "version": 3
   },
   "file_extension": ".py",
   "mimetype": "text/x-python",
   "name": "python",
   "nbconvert_exporter": "python",
   "pygments_lexer": "ipython3",
   "version": "3.8.0"
  }
 },
 "nbformat": 4,
 "nbformat_minor": 4
}
