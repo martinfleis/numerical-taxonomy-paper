{
 "cells": [
  {
   "cell_type": "code",
   "execution_count": 1,
   "metadata": {},
   "outputs": [],
   "source": [
    "import geopandas as gpd\n",
    "import fiona"
   ]
  },
  {
   "cell_type": "code",
   "execution_count": 2,
   "metadata": {},
   "outputs": [
    {
     "output_type": "execute_result",
     "data": {
      "text/plain": "'0.7.0+52.gc086056'"
     },
     "metadata": {},
     "execution_count": 2
    }
   ],
   "source": [
    "gpd.__version__"
   ]
  },
  {
   "cell_type": "code",
   "execution_count": 3,
   "metadata": {},
   "outputs": [],
   "source": [
    "path = '/Users/martin/Dropbox/Academia/Data/Geo/Amsterdam/raw/bag3d_2020-01-25.gpkg'"
   ]
  },
  {
   "cell_type": "code",
   "execution_count": 4,
   "metadata": {},
   "outputs": [
    {
     "output_type": "execute_result",
     "data": {
      "text/plain": "['pand3d']"
     },
     "metadata": {},
     "execution_count": 4
    }
   ],
   "source": [
    "fiona.listlayers(path)"
   ]
  },
  {
   "cell_type": "code",
   "execution_count": 5,
   "metadata": {},
   "outputs": [],
   "source": [
    "mask = gpd.read_file('/Users/martin/Dropbox/Academia/Data/Geo/Amsterdam/data.gpkg', layer='boundary')"
   ]
  },
  {
   "cell_type": "code",
   "execution_count": 22,
   "metadata": {},
   "outputs": [
    {
     "data": {
      "text/plain": [
       "<matplotlib.axes._subplots.AxesSubplot at 0x7f9f93933bd0>"
      ]
     },
     "execution_count": 22,
     "metadata": {},
     "output_type": "execute_result"
    },
    {
     "data": {
      "image/png": "[encoded data removed]",
      "text/plain": [
       "<Figure size 432x288 with 1 Axes>"
      ]
     },
     "metadata": {
      "needs_background": "light"
     },
     "output_type": "display_data"
    }
   ],
   "source": [
    "mask.plot()"
   ]
  },
  {
   "cell_type": "code",
   "execution_count": 6,
   "metadata": {},
   "outputs": [],
   "source": [
    "amsterdam = gpd.read_file(path, mask=mask)"
   ]
  },
  {
   "cell_type": "code",
   "execution_count": 7,
   "metadata": {},
   "outputs": [
    {
     "output_type": "execute_result",
     "data": {
      "text/plain": "(415178, 37)"
     },
     "metadata": {},
     "execution_count": 7
    }
   ],
   "source": [
    "amsterdam.shape"
   ]
  },
  {
   "cell_type": "code",
   "execution_count": 12,
   "metadata": {},
   "outputs": [
    {
     "data": {
      "text/html": [
       "<div>\n",
       "<style scoped>\n",
       "    .dataframe tbody tr th:only-of-type {\n",
       "        vertical-align: middle;\n",
       "    }\n",
       "\n",
       "    .dataframe tbody tr th {\n",
       "        vertical-align: top;\n",
       "    }\n",
       "\n",
       "    .dataframe thead th {\n",
       "        text-align: right;\n",
       "    }\n",
       "</style>\n",
       "<table border=\"1\" class=\"dataframe\">\n",
       "  <thead>\n",
       "    <tr style=\"text-align: right;\">\n",
       "      <th></th>\n",
       "      <th>identificatie</th>\n",
       "      <th>aanduidingrecordinactief</th>\n",
       "      <th>aanduidingrecordcorrectie</th>\n",
       "      <th>officieel</th>\n",
       "      <th>inonderzoek</th>\n",
       "      <th>documentnummer</th>\n",
       "      <th>documentdatum</th>\n",
       "      <th>bouwjaar</th>\n",
       "      <th>begindatumtijdvakgeldigheid</th>\n",
       "      <th>einddatumtijdvakgeldigheid</th>\n",
       "      <th>...</th>\n",
       "      <th>roof-0.99</th>\n",
       "      <th>rmse-0.99</th>\n",
       "      <th>roof_flat</th>\n",
       "      <th>nr_ground_pts</th>\n",
       "      <th>nr_roof_pts</th>\n",
       "      <th>ahn_file_date</th>\n",
       "      <th>ahn_version</th>\n",
       "      <th>height_valid</th>\n",
       "      <th>tile_id</th>\n",
       "      <th>geometry</th>\n",
       "    </tr>\n",
       "  </thead>\n",
       "  <tbody>\n",
       "    <tr>\n",
       "      <th>0</th>\n",
       "      <td>0384100000003464</td>\n",
       "      <td>False</td>\n",
       "      <td>0</td>\n",
       "      <td>False</td>\n",
       "      <td>False</td>\n",
       "      <td>GD10.00424</td>\n",
       "      <td>2010-11-02</td>\n",
       "      <td>1980-01-01</td>\n",
       "      <td>None</td>\n",
       "      <td>None</td>\n",
       "      <td>...</td>\n",
       "      <td>4.59</td>\n",
       "      <td>0.34</td>\n",
       "      <td>True</td>\n",
       "      <td>50</td>\n",
       "      <td>1218</td>\n",
       "      <td>None</td>\n",
       "      <td>3</td>\n",
       "      <td>True</td>\n",
       "      <td>25hn1</td>\n",
       "      <td>POLYGON Z ((130331.253 483337.251 0.000, 13033...</td>\n",
       "    </tr>\n",
       "    <tr>\n",
       "      <th>1</th>\n",
       "      <td>0384100000003889</td>\n",
       "      <td>False</td>\n",
       "      <td>0</td>\n",
       "      <td>False</td>\n",
       "      <td>False</td>\n",
       "      <td>GD10.00424</td>\n",
       "      <td>2010-11-02</td>\n",
       "      <td>1980-01-01</td>\n",
       "      <td>None</td>\n",
       "      <td>None</td>\n",
       "      <td>...</td>\n",
       "      <td>3.43</td>\n",
       "      <td>0.46</td>\n",
       "      <td>True</td>\n",
       "      <td>82</td>\n",
       "      <td>869</td>\n",
       "      <td>None</td>\n",
       "      <td>3</td>\n",
       "      <td>True</td>\n",
       "      <td>25hn1</td>\n",
       "      <td>POLYGON Z ((130374.022 483428.300 0.000, 13038...</td>\n",
       "    </tr>\n",
       "    <tr>\n",
       "      <th>2</th>\n",
       "      <td>0305100000000149</td>\n",
       "      <td>False</td>\n",
       "      <td>0</td>\n",
       "      <td>False</td>\n",
       "      <td>False</td>\n",
       "      <td>10/formalisering25/0</td>\n",
       "      <td>2010-05-25</td>\n",
       "      <td>1980-01-01</td>\n",
       "      <td>None</td>\n",
       "      <td>None</td>\n",
       "      <td>...</td>\n",
       "      <td>3.80</td>\n",
       "      <td>0.87</td>\n",
       "      <td>False</td>\n",
       "      <td>89</td>\n",
       "      <td>2542</td>\n",
       "      <td>None</td>\n",
       "      <td>3</td>\n",
       "      <td>True</td>\n",
       "      <td>25gz1</td>\n",
       "      <td>POLYGON Z ((124352.680 476826.680 0.000, 12432...</td>\n",
       "    </tr>\n",
       "    <tr>\n",
       "      <th>3</th>\n",
       "      <td>0305100000000097</td>\n",
       "      <td>False</td>\n",
       "      <td>0</td>\n",
       "      <td>False</td>\n",
       "      <td>False</td>\n",
       "      <td>2011BAG0008</td>\n",
       "      <td>2011-03-28</td>\n",
       "      <td>1993-01-01</td>\n",
       "      <td>None</td>\n",
       "      <td>None</td>\n",
       "      <td>...</td>\n",
       "      <td>5.67</td>\n",
       "      <td>1.23</td>\n",
       "      <td>False</td>\n",
       "      <td>122</td>\n",
       "      <td>13611</td>\n",
       "      <td>None</td>\n",
       "      <td>3</td>\n",
       "      <td>True</td>\n",
       "      <td>25gz1</td>\n",
       "      <td>POLYGON Z ((123803.120 476872.458 0.000, 12379...</td>\n",
       "    </tr>\n",
       "    <tr>\n",
       "      <th>4</th>\n",
       "      <td>0305100000000150</td>\n",
       "      <td>False</td>\n",
       "      <td>0</td>\n",
       "      <td>False</td>\n",
       "      <td>False</td>\n",
       "      <td>10/formalisering25/0</td>\n",
       "      <td>2010-05-25</td>\n",
       "      <td>1882-01-01</td>\n",
       "      <td>None</td>\n",
       "      <td>None</td>\n",
       "      <td>...</td>\n",
       "      <td>7.19</td>\n",
       "      <td>1.19</td>\n",
       "      <td>False</td>\n",
       "      <td>40</td>\n",
       "      <td>4255</td>\n",
       "      <td>None</td>\n",
       "      <td>3</td>\n",
       "      <td>True</td>\n",
       "      <td>25gz1</td>\n",
       "      <td>POLYGON Z ((124354.600 476868.600 0.000, 12434...</td>\n",
       "    </tr>\n",
       "  </tbody>\n",
       "</table>\n",
       "<p>5 rows × 37 columns</p>\n",
       "</div>"
      ],
      "text/plain": [
       "      identificatie  aanduidingrecordinactief  aanduidingrecordcorrectie  \\\n",
       "0  0384100000003464                     False                          0   \n",
       "1  0384100000003889                     False                          0   \n",
       "2  0305100000000149                     False                          0   \n",
       "3  0305100000000097                     False                          0   \n",
       "4  0305100000000150                     False                          0   \n",
       "\n",
       "   officieel  inonderzoek        documentnummer documentdatum    bouwjaar  \\\n",
       "0      False        False            GD10.00424    2010-11-02  1980-01-01   \n",
       "1      False        False            GD10.00424    2010-11-02  1980-01-01   \n",
       "2      False        False  10/formalisering25/0    2010-05-25  1980-01-01   \n",
       "3      False        False           2011BAG0008    2011-03-28  1993-01-01   \n",
       "4      False        False  10/formalisering25/0    2010-05-25  1882-01-01   \n",
       "\n",
       "  begindatumtijdvakgeldigheid einddatumtijdvakgeldigheid  ... roof-0.99  \\\n",
       "0                        None                       None  ...      4.59   \n",
       "1                        None                       None  ...      3.43   \n",
       "2                        None                       None  ...      3.80   \n",
       "3                        None                       None  ...      5.67   \n",
       "4                        None                       None  ...      7.19   \n",
       "\n",
       "   rmse-0.99  roof_flat  nr_ground_pts  nr_roof_pts  ahn_file_date  \\\n",
       "0       0.34       True             50         1218           None   \n",
       "1       0.46       True             82          869           None   \n",
       "2       0.87      False             89         2542           None   \n",
       "3       1.23      False            122        13611           None   \n",
       "4       1.19      False             40         4255           None   \n",
       "\n",
       "   ahn_version  height_valid  tile_id  \\\n",
       "0            3          True    25hn1   \n",
       "1            3          True    25hn1   \n",
       "2            3          True    25gz1   \n",
       "3            3          True    25gz1   \n",
       "4            3          True    25gz1   \n",
       "\n",
       "                                            geometry  \n",
       "0  POLYGON Z ((130331.253 483337.251 0.000, 13033...  \n",
       "1  POLYGON Z ((130374.022 483428.300 0.000, 13038...  \n",
       "2  POLYGON Z ((124352.680 476826.680 0.000, 12432...  \n",
       "3  POLYGON Z ((123803.120 476872.458 0.000, 12379...  \n",
       "4  POLYGON Z ((124354.600 476868.600 0.000, 12434...  \n",
       "\n",
       "[5 rows x 37 columns]"
      ]
     },
     "execution_count": 12,
     "metadata": {},
     "output_type": "execute_result"
    }
   ],
   "source": [
    "amsterdam.head()"
   ]
  },
  {
   "cell_type": "code",
   "execution_count": 13,
   "metadata": {},
   "outputs": [],
   "source": [
    "filt = amsterdam.geometry.area > 30"
   ]
  },
  {
   "cell_type": "code",
   "execution_count": 14,
   "metadata": {},
   "outputs": [
    {
     "data": {
      "text/plain": [
       "275132"
      ]
     },
     "execution_count": 14,
     "metadata": {},
     "output_type": "execute_result"
    }
   ],
   "source": [
    "filt.sum()"
   ]
  },
  {
   "cell_type": "code",
   "execution_count": 8,
   "metadata": {},
   "outputs": [],
   "source": [
    "amsterdam.to_file('/Users/martin/Dropbox/Academia/Data/Geo/Amsterdam/data.gpkg', layer='3dbag', driver='GPKG')"
   ]
  },
  {
   "cell_type": "code",
   "execution_count": null,
   "metadata": {},
   "outputs": [],
   "source": []
  }
 ],
 "metadata": {
  "kernelspec": {
   "display_name": "geo_dev",
   "language": "python",
   "name": "geo_dev"
  },
  "language_info": {
   "codemirror_mode": {
    "name": "ipython",
    "version": 3
   },
   "file_extension": ".py",
   "mimetype": "text/x-python",
   "name": "python",
   "nbconvert_exporter": "python",
   "pygments_lexer": "ipython3",
   "version": "3.8.2-final"
  }
 },
 "nbformat": 4,
 "nbformat_minor": 4
}