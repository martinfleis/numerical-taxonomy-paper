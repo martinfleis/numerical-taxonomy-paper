{
 "cells": [
  {
   "cell_type": "code",
   "execution_count": 1,
   "metadata": {},
   "outputs": [],
   "source": [
    "import geopandas as gpd"
   ]
  },
  {
   "cell_type": "code",
   "execution_count": 2,
   "metadata": {},
   "outputs": [],
   "source": [
    "path = '/Users/martin/Dropbox/Academia/Data/Geo/Amsterdam/elements.gpkg'\n",
    "buildings = gpd.read_file(path, layer='buildings')"
   ]
  },
  {
   "cell_type": "code",
   "execution_count": 3,
   "metadata": {},
   "outputs": [
    {
     "data": {
      "text/plain": [
       "Index(['identificatie', 'aanduidingrecordinactief',\n",
       "       'aanduidingrecordcorrectie', 'officieel', 'inonderzoek',\n",
       "       'documentnummer', 'documentdatum', 'bouwjaar',\n",
       "       'begindatumtijdvakgeldigheid', 'einddatumtijdvakgeldigheid',\n",
       "       'gemeentecode', 'ground-0.00', 'ground-0.10', 'ground-0.20',\n",
       "       'ground-0.30', 'ground-0.40', 'ground-0.50', 'roof-0.25', 'rmse-0.25',\n",
       "       'roof-0.50', 'rmse-0.50', 'roof-0.75', 'rmse-0.75', 'roof-0.90',\n",
       "       'rmse-0.90', 'roof-0.95', 'rmse-0.95', 'roof-0.99', 'rmse-0.99',\n",
       "       'roof_flat', 'nr_ground_pts', 'nr_roof_pts', 'ahn_file_date',\n",
       "       'ahn_version', 'height_valid', 'tile_id', 'uID', 'issues', 'geometry'],\n",
       "      dtype='object')"
      ]
     },
     "execution_count": 3,
     "metadata": {},
     "output_type": "execute_result"
    }
   ],
   "source": [
    "buildings.columns"
   ]
  },
  {
   "cell_type": "code",
   "execution_count": 4,
   "metadata": {},
   "outputs": [],
   "source": [
    "buildings['sdbHei'] = buildings['roof-0.75'].apply(lambda x: x if x > 3 else 3)"
   ]
  },
  {
   "cell_type": "code",
   "execution_count": 6,
   "metadata": {},
   "outputs": [
    {
     "data": {
      "text/plain": [
       "3.0"
      ]
     },
     "execution_count": 6,
     "metadata": {},
     "output_type": "execute_result"
    }
   ],
   "source": [
    "buildings['sdbHei']"
   ]
  },
  {
   "cell_type": "code",
   "execution_count": 7,
   "metadata": {},
   "outputs": [],
   "source": [
    "buildings[['uID', 'sdbHei', 'geometry']].to_file(path, layer='buildings', driver='GPKG')"
   ]
  },
  {
   "cell_type": "code",
   "execution_count": 8,
   "metadata": {},
   "outputs": [],
   "source": [
    "import fiona"
   ]
  },
  {
   "cell_type": "code",
   "execution_count": 9,
   "metadata": {},
   "outputs": [
    {
     "data": {
      "text/plain": [
       "['tessellation', 'buildings']"
      ]
     },
     "execution_count": 9,
     "metadata": {},
     "output_type": "execute_result"
    }
   ],
   "source": [
    "fiona.listlayers(path)"
   ]
  },
  {
   "cell_type": "code",
   "execution_count": 16,
   "metadata": {},
   "outputs": [
    {
     "data": {
      "text/plain": [
       "['tempnet',\n",
       " 'polygonized',\n",
       " 'possible',\n",
       " 'invalid',\n",
       " 'network_simplified',\n",
       " 'manual_fix']"
      ]
     },
     "execution_count": 16,
     "metadata": {},
     "output_type": "execute_result"
    }
   ],
   "source": [
    "fiona.listlayers(n_path)"
   ]
  },
  {
   "cell_type": "code",
   "execution_count": null,
   "metadata": {},
   "outputs": [],
   "source": []
  }
 ],
 "metadata": {
  "kernelspec": {
   "display_name": "geo_dev",
   "language": "python",
   "name": "geo_dev"
  },
  "language_info": {
   "codemirror_mode": {
    "name": "ipython",
    "version": 3
   },
   "file_extension": ".py",
   "mimetype": "text/x-python",
   "name": "python",
   "nbconvert_exporter": "python",
   "pygments_lexer": "ipython3",
   "version": "3.8.0"
  }
 },
 "nbformat": 4,
 "nbformat_minor": 4
}
