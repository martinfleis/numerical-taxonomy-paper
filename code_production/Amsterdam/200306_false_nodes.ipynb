{
 "cells": [
  {
   "cell_type": "code",
   "execution_count": 1,
   "metadata": {},
   "outputs": [],
   "source": [
    "import geopandas as gpd\n",
    "import momepy as mm"
   ]
  },
  {
   "cell_type": "code",
   "execution_count": 8,
   "metadata": {},
   "outputs": [],
   "source": [
    "zipfile = 'zip://files/AMS/ams.zip!ams'"
   ]
  },
  {
   "cell_type": "code",
   "execution_count": 9,
   "metadata": {},
   "outputs": [],
   "source": [
    "network = gpd.read_file(zipfile)"
   ]
  },
  {
   "cell_type": "code",
   "execution_count": 10,
   "metadata": {
    "collapsed": true,
    "jupyter": {
     "outputs_hidden": true
    }
   },
   "outputs": [
    {
     "name": "stdout",
     "output_type": "stream",
     "text": [
      "<class 'geopandas.geodataframe.GeoDataFrame'>\n",
      "RangeIndex: 40121 entries, 0 to 40120\n",
      "Data columns (total 63 columns):\n",
      "Join_Count    39937 non-null float64\n",
      "TARGET_FID    39937 non-null float64\n",
      "Id            39937 non-null float64\n",
      "fid_1         39937 non-null float64\n",
      "wvk_id        40120 non-null float64\n",
      "wvk_begdat    40120 non-null object\n",
      "jte_id_beg    40120 non-null float64\n",
      "jte_id_end    40120 non-null float64\n",
      "wegbehsrt     40120 non-null object\n",
      "wegnummer     1396 non-null object\n",
      "wegdeelltr    40120 non-null object\n",
      "hecto_lttr    40120 non-null object\n",
      "bst_code      5223 non-null object\n",
      "rpe_code      40120 non-null object\n",
      "admrichtng    1413 non-null object\n",
      "rijrichtng    2459 non-null object\n",
      "stt_naam      40120 non-null object\n",
      "stt_bron      40120 non-null object\n",
      "wpsnaamnen    40120 non-null object\n",
      "gme_id        40120 non-null float64\n",
      "gme_naam      40120 non-null object\n",
      "hnrstrlnks    22102 non-null object\n",
      "hnrstrrhts    24240 non-null object\n",
      "e_hnr_lnks    40120 non-null float64\n",
      "e_hnr_rhts    40120 non-null float64\n",
      "l_hnr_lnks    40120 non-null float64\n",
      "l_hnr_rhts    40120 non-null float64\n",
      "begafstand    40120 non-null float64\n",
      "endafstand    40120 non-null float64\n",
      "beginkm       40120 non-null float64\n",
      "eindkm        40120 non-null float64\n",
      "pos_tv_wol    1329 non-null object\n",
      "wegbehcode    40120 non-null object\n",
      "wegbehnaam    40120 non-null object\n",
      "distrcode     40120 non-null float64\n",
      "distrnaam     1081 non-null object\n",
      "dienstcode    1081 non-null object\n",
      "dienstnaam    1081 non-null object\n",
      "wegtype       308 non-null object\n",
      "wgtype_oms    308 non-null object\n",
      "routeltr      779 non-null object\n",
      "routenr       40120 non-null float64\n",
      "routeltr2     218 non-null object\n",
      "routenr2      40120 non-null float64\n",
      "routeltr3     0 non-null object\n",
      "routenr3      40120 non-null float64\n",
      "routeltr4     0 non-null object\n",
      "routenr4      40120 non-null float64\n",
      "wegnr_aw      1081 non-null object\n",
      "wegnr_hmp     1396 non-null object\n",
      "geobron_id    40120 non-null float64\n",
      "geobron_nm    40120 non-null object\n",
      "bronjaar      40120 non-null float64\n",
      "openlr        40120 non-null object\n",
      "FREQUENCY     39937 non-null float64\n",
      "S_ID          39937 non-null float64\n",
      "ORIG_FID      39937 non-null float64\n",
      "Shape_Leng    39937 non-null float64\n",
      "InLine_FID    39937 non-null float64\n",
      "SimLnFlag     39937 non-null float64\n",
      "MaxSimpTol    39937 non-null float64\n",
      "MinSimpTol    39937 non-null float64\n",
      "geometry      40121 non-null geometry\n",
      "dtypes: float64(31), geometry(1), object(31)\n",
      "memory usage: 19.3+ MB\n"
     ]
    }
   ],
   "source": [
    "network.info()"
   ]
  },
  {
   "cell_type": "code",
   "execution_count": 11,
   "metadata": {},
   "outputs": [
    {
     "name": "stderr",
     "output_type": "stream",
     "text": [
      "  0%|          | 32/40121 [00:00<02:06, 317.56it/s]"
     ]
    },
    {
     "name": "stdout",
     "output_type": "stream",
     "text": [
      "Identifying false points...\n"
     ]
    },
    {
     "name": "stderr",
     "output_type": "stream",
     "text": [
      "100%|██████████| 40121/40121 [02:06<00:00, 315.94it/s]\n",
      "  0%|          | 0/1167 [00:00<?, ?it/s]"
     ]
    },
    {
     "name": "stdout",
     "output_type": "stream",
     "text": [
      "Merging segments...\n"
     ]
    },
    {
     "name": "stderr",
     "output_type": "stream",
     "text": [
      " 80%|████████  | 937/1167 [03:47<00:54,  4.21it/s]/home/arch_ubuntu/Documents/mf/momepy/momepy/utils.py:603: UserWarning: An exception during merging occured. Lines at point [118807.481, 477734.236] were not merged.\n",
      "  x=point.x, y=point.y\n",
      "100%|██████████| 1167/1167 [04:42<00:00,  4.13it/s]\n"
     ]
    }
   ],
   "source": [
    "cleaned = mm.network_false_nodes(network)"
   ]
  },
  {
   "cell_type": "code",
   "execution_count": 12,
   "metadata": {},
   "outputs": [],
   "source": [
    "cleaned['nID'] = range(len(cleaned))"
   ]
  },
  {
   "cell_type": "code",
   "execution_count": 13,
   "metadata": {},
   "outputs": [],
   "source": [
    "cleaned.to_file('files/AMS/elements.gpkg', layer='network', driver='GPKG')"
   ]
  },
  {
   "cell_type": "code",
   "execution_count": null,
   "metadata": {},
   "outputs": [],
   "source": []
  }
 ],
 "metadata": {
  "kernelspec": {
   "display_name": "momepy_env",
   "language": "python",
   "name": "momepy_env"
  },
  "language_info": {
   "codemirror_mode": {
    "name": "ipython",
    "version": 3
   },
   "file_extension": ".py",
   "mimetype": "text/x-python",
   "name": "python",
   "nbconvert_exporter": "python",
   "pygments_lexer": "ipython3",
   "version": "3.7.6"
  }
 },
 "nbformat": 4,
 "nbformat_minor": 4
}
