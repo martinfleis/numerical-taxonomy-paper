{
 "cells": [
  {
   "cell_type": "code",
   "execution_count": 1,
   "metadata": {},
   "outputs": [],
   "source": [
    "import geopandas as gpd\n",
    "import momepy as mm\n",
    "import libpysal"
   ]
  },
  {
   "cell_type": "code",
   "execution_count": 2,
   "metadata": {},
   "outputs": [],
   "source": [
    "buildings = gpd.read_file('files/AMS/data.gpkg', layer='3dbag')"
   ]
  },
  {
   "cell_type": "code",
   "execution_count": 8,
   "metadata": {},
   "outputs": [],
   "source": [
    "buildings = buildings.loc[buildings.geometry.area > 30].copy()\n",
    "buildings['uID'] = mm.unique_id(buildings)"
   ]
  },
  {
   "cell_type": "code",
   "execution_count": 10,
   "metadata": {},
   "outputs": [
    {
     "data": {
      "text/plain": [
       "Index(['identificatie', 'aanduidingrecordinactief',\n",
       "       'aanduidingrecordcorrectie', 'officieel', 'inonderzoek',\n",
       "       'documentnummer', 'documentdatum', 'bouwjaar',\n",
       "       'begindatumtijdvakgeldigheid', 'einddatumtijdvakgeldigheid',\n",
       "       'gemeentecode', 'ground-0.00', 'ground-0.10', 'ground-0.20',\n",
       "       'ground-0.30', 'ground-0.40', 'ground-0.50', 'roof-0.25', 'rmse-0.25',\n",
       "       'roof-0.50', 'rmse-0.50', 'roof-0.75', 'rmse-0.75', 'roof-0.90',\n",
       "       'rmse-0.90', 'roof-0.95', 'rmse-0.95', 'roof-0.99', 'rmse-0.99',\n",
       "       'roof_flat', 'nr_ground_pts', 'nr_roof_pts', 'ahn_file_date',\n",
       "       'ahn_version', 'height_valid', 'tile_id', 'geometry', 'uID'],\n",
       "      dtype='object')"
      ]
     },
     "execution_count": 10,
     "metadata": {},
     "output_type": "execute_result"
    }
   ],
   "source": [
    "buildings.columns"
   ]
  },
  {
   "cell_type": "code",
   "execution_count": 18,
   "metadata": {},
   "outputs": [],
   "source": [
    "buildings = buildings.loc[buildings.height_valid].copy()\n",
    "buildings['uID'] = mm.unique_id(buildings)"
   ]
  },
  {
   "cell_type": "code",
   "execution_count": 19,
   "metadata": {},
   "outputs": [],
   "source": [
    "buildings.to_file('files/AMS/elements.gpkg', layer='buildings', driver='GPKG')"
   ]
  }
 ],
 "metadata": {
  "kernelspec": {
   "display_name": "geo_dev",
   "language": "python",
   "name": "geo_dev"
  },
  "language_info": {
   "codemirror_mode": {
    "name": "ipython",
    "version": 3
   },
   "file_extension": ".py",
   "mimetype": "text/x-python",
   "name": "python",
   "nbconvert_exporter": "python",
   "pygments_lexer": "ipython3",
   "version": "3.8.0"
  }
 },
 "nbformat": 4,
 "nbformat_minor": 4
}
