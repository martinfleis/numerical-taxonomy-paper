{
 "cells": [
  {
   "cell_type": "code",
   "execution_count": 1,
   "metadata": {},
   "outputs": [],
   "source": [
    "import geopandas as gpd"
   ]
  },
  {
   "cell_type": "code",
   "execution_count": 2,
   "metadata": {},
   "outputs": [],
   "source": [
    "bag = gpd.read_file('/Users/martin/Dropbox/Academia/Data/Geo/Amsterdam/data.gpkg', layer='3dbag')\n",
    "buildings = gpd.read_file('/Users/martin/Dropbox/Academia/Data/Geo/Amsterdam/clustering/geometry.gpkg', layer='buildings')"
   ]
  },
  {
   "cell_type": "code",
   "execution_count": 3,
   "metadata": {},
   "outputs": [],
   "source": [
    "bag['geometry'] = bag.geometry.centroid"
   ]
  },
  {
   "cell_type": "code",
   "execution_count": 4,
   "metadata": {},
   "outputs": [],
   "source": [
    "join = gpd.sjoin(buildings, bag, how='left')"
   ]
  },
  {
   "cell_type": "code",
   "execution_count": 5,
   "metadata": {},
   "outputs": [
    {
     "output_type": "execute_result",
     "data": {
      "text/plain": "   uID  bID      nID   nodeID  \\\n0    0  0.0  35435.0  13440.0   \n1    1  0.0  35435.0  13440.0   \n\n                                            geometry  index_right  \\\n0  POLYGON Z ((130331.253 483337.251 0.000, 13033...          0.0   \n1  POLYGON Z ((130374.022 483428.300 0.000, 13038...          1.0   \n\n      identificatie aanduidingrecordinactief  aanduidingrecordcorrectie  \\\n0  0384100000003464                    False                        0.0   \n1  0384100000003889                    False                        0.0   \n\n  officieel  ... rmse-0.95 roof-0.99 rmse-0.99 roof_flat nr_ground_pts  \\\n0     False  ...      0.34      4.59      0.34      True          50.0   \n1     False  ...      0.46      3.43      0.46      True          82.0   \n\n  nr_roof_pts ahn_file_date  ahn_version  height_valid  tile_id  \n0      1218.0          None          3.0          True    25hn1  \n1       869.0          None          3.0          True    25hn1  \n\n[2 rows x 42 columns]",
      "text/html": "<div>\n<style scoped>\n    .dataframe tbody tr th:only-of-type {\n        vertical-align: middle;\n    }\n\n    .dataframe tbody tr th {\n        vertical-align: top;\n    }\n\n    .dataframe thead th {\n        text-align: right;\n    }\n</style>\n<table border=\"1\" class=\"dataframe\">\n  <thead>\n    <tr style=\"text-align: right;\">\n      <th></th>\n      <th>uID</th>\n      <th>bID</th>\n      <th>nID</th>\n      <th>nodeID</th>\n      <th>geometry</th>\n      <th>index_right</th>\n      <th>identificatie</th>\n      <th>aanduidingrecordinactief</th>\n      <th>aanduidingrecordcorrectie</th>\n      <th>officieel</th>\n      <th>...</th>\n      <th>rmse-0.95</th>\n      <th>roof-0.99</th>\n      <th>rmse-0.99</th>\n      <th>roof_flat</th>\n      <th>nr_ground_pts</th>\n      <th>nr_roof_pts</th>\n      <th>ahn_file_date</th>\n      <th>ahn_version</th>\n      <th>height_valid</th>\n      <th>tile_id</th>\n    </tr>\n  </thead>\n  <tbody>\n    <tr>\n      <th>0</th>\n      <td>0</td>\n      <td>0.0</td>\n      <td>35435.0</td>\n      <td>13440.0</td>\n      <td>POLYGON Z ((130331.253 483337.251 0.000, 13033...</td>\n      <td>0.0</td>\n      <td>0384100000003464</td>\n      <td>False</td>\n      <td>0.0</td>\n      <td>False</td>\n      <td>...</td>\n      <td>0.34</td>\n      <td>4.59</td>\n      <td>0.34</td>\n      <td>True</td>\n      <td>50.0</td>\n      <td>1218.0</td>\n      <td>None</td>\n      <td>3.0</td>\n      <td>True</td>\n      <td>25hn1</td>\n    </tr>\n    <tr>\n      <th>1</th>\n      <td>1</td>\n      <td>0.0</td>\n      <td>35435.0</td>\n      <td>13440.0</td>\n      <td>POLYGON Z ((130374.022 483428.300 0.000, 13038...</td>\n      <td>1.0</td>\n      <td>0384100000003889</td>\n      <td>False</td>\n      <td>0.0</td>\n      <td>False</td>\n      <td>...</td>\n      <td>0.46</td>\n      <td>3.43</td>\n      <td>0.46</td>\n      <td>True</td>\n      <td>82.0</td>\n      <td>869.0</td>\n      <td>None</td>\n      <td>3.0</td>\n      <td>True</td>\n      <td>25hn1</td>\n    </tr>\n  </tbody>\n</table>\n<p>2 rows × 42 columns</p>\n</div>"
     },
     "metadata": {},
     "execution_count": 5
    }
   ],
   "source": [
    "join.head(2)"
   ]
  },
  {
   "cell_type": "code",
   "execution_count": 6,
   "metadata": {},
   "outputs": [],
   "source": [
    "join.drop(columns=['nID', 'nodeID', 'geometry']).to_parquet('/Users/martin/Dropbox/Academia/Data/Geo/Amsterdam/raw/bag_data.pq')"
   ]
  },
  {
   "cell_type": "code",
   "execution_count": null,
   "metadata": {},
   "outputs": [],
   "source": []
  }
 ],
 "metadata": {
  "language_info": {
   "codemirror_mode": {
    "name": "ipython",
    "version": 3
   },
   "file_extension": ".py",
   "mimetype": "text/x-python",
   "name": "python",
   "nbconvert_exporter": "python",
   "pygments_lexer": "ipython3",
   "version": "3.8.2-final"
  },
  "orig_nbformat": 2,
  "kernelspec": {
   "name": "geo_dev",
   "display_name": "geo_dev"
  }
 },
 "nbformat": 4,
 "nbformat_minor": 2
}