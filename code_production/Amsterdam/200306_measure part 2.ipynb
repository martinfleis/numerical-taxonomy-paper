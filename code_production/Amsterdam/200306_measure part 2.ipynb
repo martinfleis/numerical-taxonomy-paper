{
 "cells": [
  {
   "cell_type": "code",
   "execution_count": 1,
   "metadata": {},
   "outputs": [],
   "source": [
    "import momepy as mm\n",
    "import geopandas as gpd"
   ]
  },
  {
   "cell_type": "code",
   "execution_count": 2,
   "metadata": {},
   "outputs": [],
   "source": [
    "path = 'files/AMS/elements.gpkg'"
   ]
  },
  {
   "cell_type": "code",
   "execution_count": 3,
   "metadata": {},
   "outputs": [],
   "source": [
    "tess = gpd.read_file(path, layer=\"tessellation\")\n",
    "blg = gpd.read_file(path, layer=\"buildings\")\n",
    "streets = gpd.read_file(path, layer=\"network\")"
   ]
  },
  {
   "cell_type": "code",
   "execution_count": 4,
   "metadata": {},
   "outputs": [
    {
     "name": "stdout",
     "output_type": "stream",
     "text": [
      "Generating centroids...\n",
      "Generating rtree...\n"
     ]
    },
    {
     "name": "stderr",
     "output_type": "stream",
     "text": [
      "Snapping: 100%|██████████| 252385/252385 [17:10<00:00, 244.84it/s]\n",
      "/home/arch_ubuntu/Documents/mf/momepy/momepy/elements.py:731: UserWarning: Some objects were not attached to the network. Set larger min_size. 71 affected elements\n",
      "  \"Set larger min_size. {} affected elements\".format(sum(series.isnull()))\n"
     ]
    }
   ],
   "source": [
    "blg['nID'] = mm.get_network_id(blg, streets, 'nID', min_size=300)\n",
    "tess = tess.merge(blg[['uID', 'nID']], on='uID', how='left')"
   ]
  },
  {
   "cell_type": "code",
   "execution_count": 9,
   "metadata": {},
   "outputs": [],
   "source": [
    "tess.to_file(path, layer=\"tessellation\", driver=\"GPKG\")\n",
    "blg.to_file(path, layer=\"buildings\", driver=\"GPKG\")"
   ]
  },
  {
   "cell_type": "code",
   "execution_count": 4,
   "metadata": {},
   "outputs": [
    {
     "name": "stderr",
     "output_type": "stream",
     "text": [
      "100%|██████████| 252385/252385 [08:09<00:00, 515.61it/s]\n",
      "100%|██████████| 252385/252385 [08:09<00:00, 515.50it/s]\n",
      "100%|██████████| 38963/38963 [14:15:07<00:00,  1.32s/it]   \n",
      "100%|██████████| 38963/38963 [00:10<00:00, 3783.63it/s]\n",
      "100%|██████████| 38963/38963 [02:01<00:00, 320.64it/s]\n"
     ]
    }
   ],
   "source": [
    "streets[\"sdsLen\"] = mm.Perimeter(streets).series\n",
    "tess[\"stcSAl\"] = mm.StreetAlignment(tess, streets, \"stcOri\", \"nID\").series\n",
    "blg[\"stbSAl\"] = mm.StreetAlignment(blg, streets, \"stbOri\", \"nID\").series\n",
    "\n",
    "profile = mm.StreetProfile(streets, blg, heights='sdbHei', distance=3)\n",
    "streets[\"sdsSPW\"] = profile.w\n",
    "streets[\"sdsSPH\"] = profile.h\n",
    "streets[\"sdsSPR\"] = profile.p\n",
    "streets[\"sdsSPO\"] = profile.o\n",
    "streets[\"sdsSWD\"] = profile.wd\n",
    "streets[\"sdsSHD\"] = profile.hd\n",
    " \n",
    "streets[\"sssLin\"] = mm.Linearity(streets).series\n",
    "streets[\"sdsAre\"] = mm.Reached(streets, tess, \"nID\", \"nID\", mode=\"sum\", values=\"sdcAre\").series\n",
    "streets[\"sisBpM\"] = mm.Count(streets, blg, \"nID\", \"nID\", weighted=True).series"
   ]
  },
  {
   "cell_type": "code",
   "execution_count": 5,
   "metadata": {},
   "outputs": [],
   "source": [
    "tess.to_file(path, layer=\"tessellation\", driver=\"GPKG\")\n",
    "blg.to_file(path, layer=\"buildings\", driver=\"GPKG\")\n",
    "streets.to_file(path, layer=\"network\", driver=\"GPKG\")"
   ]
  },
  {
   "cell_type": "code",
   "execution_count": 7,
   "metadata": {},
   "outputs": [
    {
     "name": "stderr",
     "output_type": "stream",
     "text": [
      "/home/arch_ubuntu/miniconda/envs/momepy_env/lib/python3.7/site-packages/libpysal/weights/weights.py:165: UserWarning: The weights matrix is not fully connected: \n",
      " There are 33 disconnected components.\n",
      " There are 24 islands with ids: 4947, 9743, 11845, 11847, 12236, 13201, 13384, 17845, 19228, 20095, 22403, 23066, 24566, 27980, 28348, 28569, 34489, 34499, 34517, 34774, 34961, 35169, 35609, 38739.\n",
      "  warnings.warn(message)\n",
      "100%|██████████| 38963/38963 [00:40<00:00, 959.31it/s]\n",
      "100%|██████████| 38963/38963 [03:51<00:00, 168.38it/s]\n"
     ]
    }
   ],
   "source": [
    "import libpysal\n",
    "\n",
    "str_q1 = libpysal.weights.contiguity.Queen.from_dataframe(streets)\n",
    " \n",
    "streets[\"misRea\"] = mm.Reached(\n",
    "    streets, tess, \"nID\", \"nID\", spatial_weights=str_q1, mode=\"count\"\n",
    ").series\n",
    "streets[\"mdsAre\"] = mm.Reached(streets, tess, \"nID\", \"nID\", spatial_weights=str_q1,\n",
    "                               mode=\"sum\").series\n",
    " "
   ]
  },
  {
   "cell_type": "code",
   "execution_count": 8,
   "metadata": {},
   "outputs": [
    {
     "name": "stdout",
     "output_type": "stream",
     "text": [
      "node degree\n",
      "subgraph\n"
     ]
    },
    {
     "name": "stderr",
     "output_type": "stream",
     "text": [
      "100%|██████████| 28185/28185 [01:30<00:00, 311.31it/s]\n"
     ]
    },
    {
     "name": "stdout",
     "output_type": "stream",
     "text": [
      "cds length\n"
     ]
    },
    {
     "name": "stderr",
     "output_type": "stream",
     "text": [
      "100%|██████████| 28185/28185 [00:31<00:00, 897.76it/s] \n"
     ]
    },
    {
     "name": "stdout",
     "output_type": "stream",
     "text": [
      "clustering\n",
      "mean_node_dist\n"
     ]
    },
    {
     "name": "stderr",
     "output_type": "stream",
     "text": [
      "100%|██████████| 28185/28185 [00:01<00:00, 25632.28it/s]\n",
      "/home/arch_ubuntu/miniconda/envs/momepy_env/lib/python3.7/site-packages/libpysal/weights/weights.py:165: UserWarning: The weights matrix is not fully connected: \n",
      " There are 41 disconnected components.\n",
      "  warnings.warn(message)\n"
     ]
    },
    {
     "name": "stdout",
     "output_type": "stream",
     "text": [
      "saving\n"
     ]
    },
    {
     "name": "stderr",
     "output_type": "stream",
     "text": [
      "100%|██████████| 38963/38963 [00:15<00:00, 2460.74it/s]\n",
      "100%|██████████| 38963/38963 [00:45<00:00, 861.33it/s]\n",
      "100%|██████████| 38963/38963 [04:40<00:00, 138.82it/s]\n",
      "100%|██████████| 28185/28185 [01:02<00:00, 451.89it/s]\n",
      "100%|██████████| 28185/28185 [01:35<00:00, 294.75it/s]\n",
      "100%|██████████| 252385/252385 [19:18<00:00, 217.78it/s]\n",
      "100%|██████████| 28185/28185 [00:29<00:00, 940.39it/s]\n",
      "100%|██████████| 28185/28185 [03:23<00:00, 138.51it/s]\n",
      "100%|██████████| 28185/28185 [01:25<00:00, 328.85it/s]\n",
      "100%|██████████| 28185/28185 [00:29<00:00, 946.04it/s]\n",
      "100%|██████████| 28185/28185 [02:22<00:00, 197.33it/s]\n"
     ]
    },
    {
     "name": "stdout",
     "output_type": "stream",
     "text": [
      "saving\n"
     ]
    }
   ],
   "source": [
    "graph = mm.gdf_to_nx(streets)\n",
    " \n",
    "print(\"node degree\")\n",
    "graph = mm.node_degree(graph)\n",
    " \n",
    "print(\"subgraph\")\n",
    "graph = mm.subgraph(\n",
    "    graph,\n",
    "    radius=5,\n",
    "    meshedness=True,\n",
    "    cds_length=False,\n",
    "    mode=\"sum\",\n",
    "    degree=\"degree\",\n",
    "    length=\"mm_len\",\n",
    "    mean_node_degree=False,\n",
    "    proportion={0: True, 3: True, 4: True},\n",
    "    cyclomatic=False,\n",
    "    edge_node_ratio=False,\n",
    "    gamma=False,\n",
    "    local_closeness=True,\n",
    "    closeness_weight=\"mm_len\",\n",
    ")\n",
    "print(\"cds length\")\n",
    "graph = mm.cds_length(graph, radius=3, name=\"ldsCDL\")\n",
    " \n",
    "print(\"clustering\")\n",
    "graph = mm.clustering(graph, name=\"xcnSCl\")\n",
    " \n",
    "print(\"mean_node_dist\")\n",
    "graph = mm.mean_node_dist(graph, name=\"mtdMDi\")\n",
    " \n",
    "nodes, edges, sw = mm.nx_to_gdf(graph, spatial_weights=True)\n",
    " \n",
    "print(\"saving\")\n",
    "nodes.to_file(path, layer=\"nodes\", driver=\"GPKG\")\n",
    "edges.to_file(path, layer=\"edges\", driver=\"GPKG\")\n",
    " \n",
    "fo = libpysal.io.open(\"files/AMS/AMSnodes.gal\", \"w\")\n",
    "fo.write(sw)\n",
    "fo.close()\n",
    " \n",
    "edges_w3 = mm.sw_high(k=3, gdf=edges)\n",
    "edges[\"ldsMSL\"] = mm.SegmentsLength(edges, spatial_weights=edges_w3, mean=True).series\n",
    " \n",
    "edges[\"ldsRea\"] = mm.Reached(edges, tess, \"nID\", \"nID\", spatial_weights=edges_w3).series\n",
    "edges[\"ldsRea\"] = mm.Reached(\n",
    "    edges, tess, \"nID\", \"nID\", spatial_weights=edges_w3, mode=\"sum\", values=\"sdcAre\"\n",
    ").series\n",
    " \n",
    "nodes_w5 = mm.sw_high(k=5, weights=sw)\n",
    "nodes[\"lddNDe\"] = mm.NodeDensity(nodes, edges, nodes_w5).series\n",
    "nodes[\"linWID\"] = mm.NodeDensity(\n",
    "    nodes, edges, nodes_w5, weighted=True, node_degree=\"degree\"\n",
    ").series\n",
    " \n",
    "blg[\"nodeID\"] = mm.get_node_id(blg, nodes, edges, \"nodeID\", \"nID\")\n",
    "tess = tess.merge(blg[[\"uID\", \"nodeID\"]], on=\"uID\", how=\"left\")\n",
    " \n",
    "nodes_w3 = mm.sw_high(k=3, weights=sw)\n",
    " \n",
    "nodes[\"lddRea\"] = mm.Reached(nodes, tess, \"nodeID\", \"nodeID\", nodes_w3).series\n",
    "nodes[\"lddARe\"] = mm.Reached(\n",
    "    nodes, tess, \"nodeID\", \"nodeID\", nodes_w3, mode=\"sum\", values=\"sdcAre\"\n",
    ").series\n",
    " \n",
    "nodes[\"sddAre\"] = mm.Reached(\n",
    "    nodes, tess, \"nodeID\", \"nodeID\", mode=\"sum\", values=\"sdcAre\"\n",
    ").series\n",
    "nodes[\"midRea\"] = mm.Reached(nodes, tess, \"nodeID\", \"nodeID\", spatial_weights=sw).series\n",
    "nodes[\"midAre\"] = mm.Reached(\n",
    "    nodes, tess, \"nodeID\", \"nodeID\", spatial_weights=sw, mode=\"sum\", values=\"sdcAre\"\n",
    ").series\n",
    " \n",
    "nodes.rename(\n",
    "    columns={\n",
    "        \"degree\": \"mtdDeg\",\n",
    "        \"meshedness\": \"lcdMes\",\n",
    "        \"local_closeness\": \"lcnClo\",\n",
    "        \"proportion_3\": \"linP3W\",\n",
    "        \"proportion_4\": \"linP4W\",\n",
    "        \"proportion_0\": \"linPDE\",\n",
    "    }, inplace=True\n",
    ")\n",
    " \n",
    "print(\"saving\")\n",
    "nodes.to_file(path, layer=\"nodes\", driver=\"GPKG\")\n",
    "edges.to_file(path, layer=\"edges\", driver=\"GPKG\")\n",
    "tess.to_file(path, layer=\"tessellation\", driver=\"GPKG\")\n",
    "blg.to_file(path, layer=\"buildings\", driver=\"GPKG\")"
   ]
  },
  {
   "cell_type": "code",
   "execution_count": null,
   "metadata": {},
   "outputs": [],
   "source": []
  }
 ],
 "metadata": {
  "kernelspec": {
   "display_name": "momepy_env",
   "language": "python",
   "name": "momepy_env"
  },
  "language_info": {
   "codemirror_mode": {
    "name": "ipython",
    "version": 3
   },
   "file_extension": ".py",
   "mimetype": "text/x-python",
   "name": "python",
   "nbconvert_exporter": "python",
   "pygments_lexer": "ipython3",
   "version": "3.7.6"
  }
 },
 "nbformat": 4,
 "nbformat_minor": 4
}
