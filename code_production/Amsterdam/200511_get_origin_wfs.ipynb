{
 "cells": [
  {
   "cell_type": "code",
   "execution_count": 105,
   "metadata": {},
   "outputs": [],
   "source": [
    "import json\n",
    "import geojson\n",
    "import geopandas as gpd\n",
    "\n",
    "from owslib.wfs import WebFeatureService"
   ]
  },
  {
   "cell_type": "code",
   "execution_count": 108,
   "metadata": {},
   "outputs": [
    {
     "output_type": "execute_result",
     "data": {
      "text/plain": "['BAG3D:pand3d']"
     },
     "metadata": {},
     "execution_count": 108
    }
   ],
   "source": [
    "url = 'http://3dbag.bk.tudelft.nl/data/wfs?request=getcapabilities'\n",
    "wfs = WebFeatureService(url=url, version='2.0.0')\n",
    "list(wfs.contents)"
   ]
  },
  {
   "cell_type": "code",
   "execution_count": 3,
   "metadata": {},
   "outputs": [],
   "source": [
    "layer = list(wfs.contents)[0]"
   ]
  },
  {
   "cell_type": "code",
   "execution_count": 62,
   "metadata": {},
   "outputs": [
    {
     "output_type": "execute_result",
     "data": {
      "text/plain": "array([105930.05913104, 469531.34692156, 134592.68634946, 504711.25826418])"
     },
     "metadata": {},
     "execution_count": 62
    }
   ],
   "source": [
    "boundary = gpd.read_file('/Users/martin/Dropbox/Academia/Data/Geo/Amsterdam/data.gpkg', layer='boundary').to_crs(28992)\n",
    "bbox = boundary.total_bounds\n",
    "bbox"
   ]
  },
  {
   "cell_type": "code",
   "execution_count": 113,
   "metadata": {},
   "outputs": [],
   "source": [
    "response = wfs.getfeature(typename=layer, bbox=(bbox[0], bbox[1], bbox[1], bbox[3]), outputFormat='json',)"
   ]
  },
  {
   "cell_type": "code",
   "execution_count": 114,
   "metadata": {},
   "outputs": [],
   "source": [
    "df = gpd.GeoDataFrame.from_features(json.loads(response.read()))"
   ]
  },
  {
   "cell_type": "code",
   "execution_count": 115,
   "metadata": {},
   "outputs": [
    {
     "output_type": "execute_result",
     "data": {
      "text/plain": "(1000, 39)"
     },
     "metadata": {},
     "execution_count": 115
    }
   ],
   "source": [
    "df.shape"
   ]
  },
  {
   "cell_type": "code",
   "execution_count": 116,
   "metadata": {},
   "outputs": [
    {
     "output_type": "execute_result",
     "data": {
      "text/plain": "                                              geometry       gid  \\\n0    POLYGON Z ((128556.101 493681.735 0.000, 12855...  13076576   \n1    POLYGON Z ((128597.167 493677.610 0.000, 12859...  13076577   \n2    POLYGON Z ((128587.509 493675.194 0.000, 12858...  13076578   \n3    POLYGON Z ((128588.152 493671.087 0.000, 12858...  13076579   \n4    POLYGON Z ((128584.058 493665.435 0.000, 12858...  13076580   \n..                                                 ...       ...   \n995  POLYGON Z ((125349.408 497405.927 0.000, 12534...  13077917   \n996  POLYGON Z ((125767.911 498191.647 0.000, 12574...  13077918   \n997  POLYGON Z ((125766.665 498141.577 0.000, 12576...  13077919   \n998  POLYGON Z ((125488.279 497753.620 0.000, 12548...  13077921   \n999  POLYGON Z ((125557.545 496988.394 0.000, 12556...  13077923   \n\n        identificatie  aanduidingrecordinactief  aanduidingrecordcorrectie  \\\n0    0852100000000847                     False                          0   \n1    0852100000000848                     False                          0   \n2    0852100000000849                     False                          0   \n3    0852100000000850                     False                          0   \n4    0852100000000851                     False                          0   \n..                ...                       ...                        ...   \n995  0852100000001893                     False                          0   \n996  0852100000001894                     False                          0   \n997  0852100000001895                     False                          0   \n998  0852100000001896                     False                          0   \n999  0852100000001897                     False                          0   \n\n     officieel  inonderzoek documentnummer documentdatum     bouwjaar  ...  \\\n0        False        False         83-026   1983-10-03Z  1984-01-01Z  ...   \n1        False        False         79-025   1979-06-11Z  1980-01-01Z  ...   \n2        False        False         79-025   1979-06-11Z  1980-01-01Z  ...   \n3        False        False         79-025   1979-06-11Z  1980-01-01Z  ...   \n4        False        False         79-025   1979-06-11Z  1980-01-01Z  ...   \n..         ...          ...            ...           ...          ...  ...   \n995      False        False         99-330   1999-11-15Z  1997-01-01Z  ...   \n996      False        False         93-206   1994-05-31Z  1994-01-01Z  ...   \n997      False        False         93-206   1994-05-31Z  1994-01-01Z  ...   \n998      False        False      B10.00475   2010-11-02Z  1970-01-01Z  ...   \n999      False        False      B10.00475   2010-11-02Z  1987-01-01Z  ...   \n\n    roof-0.99 rmse-0.99 roof_flat  nr_ground_pts  nr_roof_pts  \\\n0         NaN       NaN      True              0            0   \n1         NaN       NaN      True              0            0   \n2         NaN       NaN      True              0            0   \n3         NaN       NaN      True              0            0   \n4         NaN       NaN      True              0            0   \n..        ...       ...       ...            ...          ...   \n995      9.35      1.09     False            162         4033   \n996      5.84      1.12     False             25         6601   \n997      6.68      1.14     False             23         1201   \n998      1.60      0.60      True             24           86   \n999      1.20      0.31      True             12           84   \n\n            ahn_file_date  ahn_version  height_valid  tile_id  \\\n0    2014-02-01T23:00:00Z            3         False    25ez2   \n1    2014-02-01T23:00:00Z            3         False    25ez2   \n2    2014-02-01T23:00:00Z            3         False    25ez2   \n3    2014-02-01T23:00:00Z            3         False    25ez2   \n4    2014-02-01T23:00:00Z            3         False    25ez2   \n..                    ...          ...           ...      ...   \n995  2016-01-16T23:00:00Z            3          True    25en2   \n996  2016-01-16T23:00:00Z            3          True    25en2   \n997  2016-01-16T23:00:00Z            3          True    25en2   \n998  2016-01-16T23:00:00Z            3          True    25en2   \n999  2016-01-16T23:00:00Z            3          True    25en2   \n\n                                                 bbox  \n0    [128555.506, 493675.716, 128566.937, 493681.735]  \n1    [128585.393, 493675.194, 128600.389, 493683.384]  \n2     [128587.509, 493671.087, 128601.534, 493677.61]  \n3    [128584.055, 493665.435, 128601.979, 493673.119]  \n4    [128584.058, 493660.185, 128599.109, 493667.327]  \n..                                                ...  \n995  [125349.329, 497400.557, 125373.941, 497411.728]  \n996    [125742.985, 498159.831, 125767.911, 498193.3]  \n997  [125763.975, 498131.198, 125776.991, 498144.449]  \n998   [125488.279, 497751.326, 125491.576, 497753.78]  \n999  [125555.283, 496988.394, 125560.093, 496996.116]  \n\n[1000 rows x 39 columns]",
      "text/html": "<div>\n<style scoped>\n    .dataframe tbody tr th:only-of-type {\n        vertical-align: middle;\n    }\n\n    .dataframe tbody tr th {\n        vertical-align: top;\n    }\n\n    .dataframe thead th {\n        text-align: right;\n    }\n</style>\n<table border=\"1\" class=\"dataframe\">\n  <thead>\n    <tr style=\"text-align: right;\">\n      <th></th>\n      <th>geometry</th>\n      <th>gid</th>\n      <th>identificatie</th>\n      <th>aanduidingrecordinactief</th>\n      <th>aanduidingrecordcorrectie</th>\n      <th>officieel</th>\n      <th>inonderzoek</th>\n      <th>documentnummer</th>\n      <th>documentdatum</th>\n      <th>bouwjaar</th>\n      <th>...</th>\n      <th>roof-0.99</th>\n      <th>rmse-0.99</th>\n      <th>roof_flat</th>\n      <th>nr_ground_pts</th>\n      <th>nr_roof_pts</th>\n      <th>ahn_file_date</th>\n      <th>ahn_version</th>\n      <th>height_valid</th>\n      <th>tile_id</th>\n      <th>bbox</th>\n    </tr>\n  </thead>\n  <tbody>\n    <tr>\n      <th>0</th>\n      <td>POLYGON Z ((128556.101 493681.735 0.000, 12855...</td>\n      <td>13076576</td>\n      <td>0852100000000847</td>\n      <td>False</td>\n      <td>0</td>\n      <td>False</td>\n      <td>False</td>\n      <td>83-026</td>\n      <td>1983-10-03Z</td>\n      <td>1984-01-01Z</td>\n      <td>...</td>\n      <td>NaN</td>\n      <td>NaN</td>\n      <td>True</td>\n      <td>0</td>\n      <td>0</td>\n      <td>2014-02-01T23:00:00Z</td>\n      <td>3</td>\n      <td>False</td>\n      <td>25ez2</td>\n      <td>[128555.506, 493675.716, 128566.937, 493681.735]</td>\n    </tr>\n    <tr>\n      <th>1</th>\n      <td>POLYGON Z ((128597.167 493677.610 0.000, 12859...</td>\n      <td>13076577</td>\n      <td>0852100000000848</td>\n      <td>False</td>\n      <td>0</td>\n      <td>False</td>\n      <td>False</td>\n      <td>79-025</td>\n      <td>1979-06-11Z</td>\n      <td>1980-01-01Z</td>\n      <td>...</td>\n      <td>NaN</td>\n      <td>NaN</td>\n      <td>True</td>\n      <td>0</td>\n      <td>0</td>\n      <td>2014-02-01T23:00:00Z</td>\n      <td>3</td>\n      <td>False</td>\n      <td>25ez2</td>\n      <td>[128585.393, 493675.194, 128600.389, 493683.384]</td>\n    </tr>\n    <tr>\n      <th>2</th>\n      <td>POLYGON Z ((128587.509 493675.194 0.000, 12858...</td>\n      <td>13076578</td>\n      <td>0852100000000849</td>\n      <td>False</td>\n      <td>0</td>\n      <td>False</td>\n      <td>False</td>\n      <td>79-025</td>\n      <td>1979-06-11Z</td>\n      <td>1980-01-01Z</td>\n      <td>...</td>\n      <td>NaN</td>\n      <td>NaN</td>\n      <td>True</td>\n      <td>0</td>\n      <td>0</td>\n      <td>2014-02-01T23:00:00Z</td>\n      <td>3</td>\n      <td>False</td>\n      <td>25ez2</td>\n      <td>[128587.509, 493671.087, 128601.534, 493677.61]</td>\n    </tr>\n    <tr>\n      <th>3</th>\n      <td>POLYGON Z ((128588.152 493671.087 0.000, 12858...</td>\n      <td>13076579</td>\n      <td>0852100000000850</td>\n      <td>False</td>\n      <td>0</td>\n      <td>False</td>\n      <td>False</td>\n      <td>79-025</td>\n      <td>1979-06-11Z</td>\n      <td>1980-01-01Z</td>\n      <td>...</td>\n      <td>NaN</td>\n      <td>NaN</td>\n      <td>True</td>\n      <td>0</td>\n      <td>0</td>\n      <td>2014-02-01T23:00:00Z</td>\n      <td>3</td>\n      <td>False</td>\n      <td>25ez2</td>\n      <td>[128584.055, 493665.435, 128601.979, 493673.119]</td>\n    </tr>\n    <tr>\n      <th>4</th>\n      <td>POLYGON Z ((128584.058 493665.435 0.000, 12858...</td>\n      <td>13076580</td>\n      <td>0852100000000851</td>\n      <td>False</td>\n      <td>0</td>\n      <td>False</td>\n      <td>False</td>\n      <td>79-025</td>\n      <td>1979-06-11Z</td>\n      <td>1980-01-01Z</td>\n      <td>...</td>\n      <td>NaN</td>\n      <td>NaN</td>\n      <td>True</td>\n      <td>0</td>\n      <td>0</td>\n      <td>2014-02-01T23:00:00Z</td>\n      <td>3</td>\n      <td>False</td>\n      <td>25ez2</td>\n      <td>[128584.058, 493660.185, 128599.109, 493667.327]</td>\n    </tr>\n    <tr>\n      <th>...</th>\n      <td>...</td>\n      <td>...</td>\n      <td>...</td>\n      <td>...</td>\n      <td>...</td>\n      <td>...</td>\n      <td>...</td>\n      <td>...</td>\n      <td>...</td>\n      <td>...</td>\n      <td>...</td>\n      <td>...</td>\n      <td>...</td>\n      <td>...</td>\n      <td>...</td>\n      <td>...</td>\n      <td>...</td>\n      <td>...</td>\n      <td>...</td>\n      <td>...</td>\n      <td>...</td>\n    </tr>\n    <tr>\n      <th>995</th>\n      <td>POLYGON Z ((125349.408 497405.927 0.000, 12534...</td>\n      <td>13077917</td>\n      <td>0852100000001893</td>\n      <td>False</td>\n      <td>0</td>\n      <td>False</td>\n      <td>False</td>\n      <td>99-330</td>\n      <td>1999-11-15Z</td>\n      <td>1997-01-01Z</td>\n      <td>...</td>\n      <td>9.35</td>\n      <td>1.09</td>\n      <td>False</td>\n      <td>162</td>\n      <td>4033</td>\n      <td>2016-01-16T23:00:00Z</td>\n      <td>3</td>\n      <td>True</td>\n      <td>25en2</td>\n      <td>[125349.329, 497400.557, 125373.941, 497411.728]</td>\n    </tr>\n    <tr>\n      <th>996</th>\n      <td>POLYGON Z ((125767.911 498191.647 0.000, 12574...</td>\n      <td>13077918</td>\n      <td>0852100000001894</td>\n      <td>False</td>\n      <td>0</td>\n      <td>False</td>\n      <td>False</td>\n      <td>93-206</td>\n      <td>1994-05-31Z</td>\n      <td>1994-01-01Z</td>\n      <td>...</td>\n      <td>5.84</td>\n      <td>1.12</td>\n      <td>False</td>\n      <td>25</td>\n      <td>6601</td>\n      <td>2016-01-16T23:00:00Z</td>\n      <td>3</td>\n      <td>True</td>\n      <td>25en2</td>\n      <td>[125742.985, 498159.831, 125767.911, 498193.3]</td>\n    </tr>\n    <tr>\n      <th>997</th>\n      <td>POLYGON Z ((125766.665 498141.577 0.000, 12576...</td>\n      <td>13077919</td>\n      <td>0852100000001895</td>\n      <td>False</td>\n      <td>0</td>\n      <td>False</td>\n      <td>False</td>\n      <td>93-206</td>\n      <td>1994-05-31Z</td>\n      <td>1994-01-01Z</td>\n      <td>...</td>\n      <td>6.68</td>\n      <td>1.14</td>\n      <td>False</td>\n      <td>23</td>\n      <td>1201</td>\n      <td>2016-01-16T23:00:00Z</td>\n      <td>3</td>\n      <td>True</td>\n      <td>25en2</td>\n      <td>[125763.975, 498131.198, 125776.991, 498144.449]</td>\n    </tr>\n    <tr>\n      <th>998</th>\n      <td>POLYGON Z ((125488.279 497753.620 0.000, 12548...</td>\n      <td>13077921</td>\n      <td>0852100000001896</td>\n      <td>False</td>\n      <td>0</td>\n      <td>False</td>\n      <td>False</td>\n      <td>B10.00475</td>\n      <td>2010-11-02Z</td>\n      <td>1970-01-01Z</td>\n      <td>...</td>\n      <td>1.60</td>\n      <td>0.60</td>\n      <td>True</td>\n      <td>24</td>\n      <td>86</td>\n      <td>2016-01-16T23:00:00Z</td>\n      <td>3</td>\n      <td>True</td>\n      <td>25en2</td>\n      <td>[125488.279, 497751.326, 125491.576, 497753.78]</td>\n    </tr>\n    <tr>\n      <th>999</th>\n      <td>POLYGON Z ((125557.545 496988.394 0.000, 12556...</td>\n      <td>13077923</td>\n      <td>0852100000001897</td>\n      <td>False</td>\n      <td>0</td>\n      <td>False</td>\n      <td>False</td>\n      <td>B10.00475</td>\n      <td>2010-11-02Z</td>\n      <td>1987-01-01Z</td>\n      <td>...</td>\n      <td>1.20</td>\n      <td>0.31</td>\n      <td>True</td>\n      <td>12</td>\n      <td>84</td>\n      <td>2016-01-16T23:00:00Z</td>\n      <td>3</td>\n      <td>True</td>\n      <td>25en2</td>\n      <td>[125555.283, 496988.394, 125560.093, 496996.116]</td>\n    </tr>\n  </tbody>\n</table>\n<p>1000 rows × 39 columns</p>\n</div>"
     },
     "metadata": {},
     "execution_count": 116
    }
   ],
   "source": [
    "df"
   ]
  },
  {
   "cell_type": "code",
   "execution_count": 138,
   "metadata": {},
   "outputs": [
    {
     "output_type": "execute_result",
     "data": {
      "text/plain": "                                              geometry       gid  \\\n0    POLYGON Z ((113721.864 471308.985 0.000, 11371...   9319187   \n1    POLYGON Z ((113863.462 471303.476 0.000, 11385...   9319188   \n2    POLYGON Z ((113769.673 471176.454 0.000, 11378...   9319206   \n3    POLYGON Z ((114447.891 471079.576 0.000, 11445...   9319606   \n4    POLYGON Z ((113877.304 471294.358 0.000, 11387...   9319644   \n..                                                 ...       ...   \n995  POLYGON Z ((125997.831 474080.253 0.000, 12599...  11295123   \n996  POLYGON Z ((126006.425 474089.270 0.000, 12599...  11295125   \n997  POLYGON Z ((126015.079 474098.341 0.000, 12600...  11295127   \n998  POLYGON Z ((126023.688 474107.398 0.000, 12601...  11295129   \n999  POLYGON Z ((125951.504 474209.204 0.000, 12594...  11295130   \n\n        identificatie  aanduidingrecordinactief  aanduidingrecordcorrectie  \\\n0    0569100000000079                     False                          0   \n1    0569100000000080                     False                          0   \n2    0569100000000092                     False                          0   \n3    0569100000000291                     False                          0   \n4    0569100000000308                     False                          0   \n..                ...                       ...                        ...   \n995  0736100000001809                     False                          0   \n996  0736100000001810                     False                          0   \n997  0736100000001811                     False                          0   \n998  0736100000001812                     False                          0   \n999  0736100000001813                     False                          0   \n\n     officieel  inonderzoek  documentnummer documentdatum     bouwjaar  ...  \\\n0        False        False        11.05358   2011-04-07Z  1984-01-01Z  ...   \n1        False        False        10.12719   2010-09-02Z  1923-01-01Z  ...   \n2        False        False  ARCGEO-NWK-002   2013-09-23Z  1965-01-01Z  ...   \n3        False        False  ARCGEO-NWK-002   2013-09-23Z  1962-01-01Z  ...   \n4        False        False        11.08619   2011-06-06Z  1998-01-01Z  ...   \n..         ...          ...             ...           ...          ...  ...   \n995      False        False     2011BAG0009   2011-03-28Z  2002-01-01Z  ...   \n996      False        False     2011BAG0009   2011-03-28Z  2002-01-01Z  ...   \n997      False        False     2011BAG0009   2011-03-28Z  2002-01-01Z  ...   \n998      False        False     2011BAG0009   2011-03-28Z  2002-01-01Z  ...   \n999      False        False      2010A00722   2010-08-17Z  2002-01-01Z  ...   \n\n    roof-0.99 rmse-0.99 roof_flat  nr_ground_pts  nr_roof_pts  \\\n0        5.74      0.35     False            161        16949   \n1        8.31      1.11     False             26         1312   \n2        6.11      1.03     False            155         2679   \n3        7.27      1.05     False             89         1545   \n4        8.59      1.23     False            173         2677   \n..        ...       ...       ...            ...          ...   \n995      4.72      0.86     False             16          639   \n996      4.68      0.86     False             25          709   \n997      4.67      0.78     False             32          790   \n998      4.72      0.81     False             27          802   \n999      4.97      0.85     False              0          612   \n\n            ahn_file_date  ahn_version  height_valid  tile_id  \\\n0    2014-03-07T23:00:00Z            3          True    31bn1   \n1    2014-03-07T23:00:00Z            3          True    31bn1   \n2    2014-03-07T23:00:00Z            3          True    31bn1   \n3    2014-03-07T23:00:00Z            3          True    31bn1   \n4    2014-03-07T23:00:00Z            3          True    31bn1   \n..                    ...          ...           ...      ...   \n995  2014-02-01T23:00:00Z            3          True    31en2   \n996  2014-02-01T23:00:00Z            3          True    31en2   \n997  2014-02-01T23:00:00Z            3          True    31en2   \n998  2014-02-01T23:00:00Z            3          True    31en2   \n999  2014-02-01T23:00:00Z            3          True    31en2   \n\n                                                 bbox  \n0    [113668.364, 471292.627, 113728.065, 471311.189]  \n1      [113854.35, 471295.972, 113863.462, 471306.03]  \n2     [113769.673, 471174.633, 113792.18, 471183.922]  \n3     [114447.891, 471075.43, 114455.565, 471089.126]  \n4    [113864.881, 471272.537, 113883.472, 471294.358]  \n..                                                ...  \n995  [125986.727, 474076.366, 125997.831, 474087.307]  \n996  [125995.322, 474085.372, 126006.425, 474096.325]  \n997    [126003.97, 474094.463, 126015.079, 474105.39]  \n998  [126012.598, 474103.505, 126023.688, 474114.463]  \n999   [125941.032, 474202.29, 125951.504, 474212.931]  \n\n[1000 rows x 39 columns]",
      "text/html": "<div>\n<style scoped>\n    .dataframe tbody tr th:only-of-type {\n        vertical-align: middle;\n    }\n\n    .dataframe tbody tr th {\n        vertical-align: top;\n    }\n\n    .dataframe thead th {\n        text-align: right;\n    }\n</style>\n<table border=\"1\" class=\"dataframe\">\n  <thead>\n    <tr style=\"text-align: right;\">\n      <th></th>\n      <th>geometry</th>\n      <th>gid</th>\n      <th>identificatie</th>\n      <th>aanduidingrecordinactief</th>\n      <th>aanduidingrecordcorrectie</th>\n      <th>officieel</th>\n      <th>inonderzoek</th>\n      <th>documentnummer</th>\n      <th>documentdatum</th>\n      <th>bouwjaar</th>\n      <th>...</th>\n      <th>roof-0.99</th>\n      <th>rmse-0.99</th>\n      <th>roof_flat</th>\n      <th>nr_ground_pts</th>\n      <th>nr_roof_pts</th>\n      <th>ahn_file_date</th>\n      <th>ahn_version</th>\n      <th>height_valid</th>\n      <th>tile_id</th>\n      <th>bbox</th>\n    </tr>\n  </thead>\n  <tbody>\n    <tr>\n      <th>0</th>\n      <td>POLYGON Z ((113721.864 471308.985 0.000, 11371...</td>\n      <td>9319187</td>\n      <td>0569100000000079</td>\n      <td>False</td>\n      <td>0</td>\n      <td>False</td>\n      <td>False</td>\n      <td>11.05358</td>\n      <td>2011-04-07Z</td>\n      <td>1984-01-01Z</td>\n      <td>...</td>\n      <td>5.74</td>\n      <td>0.35</td>\n      <td>False</td>\n      <td>161</td>\n      <td>16949</td>\n      <td>2014-03-07T23:00:00Z</td>\n      <td>3</td>\n      <td>True</td>\n      <td>31bn1</td>\n      <td>[113668.364, 471292.627, 113728.065, 471311.189]</td>\n    </tr>\n    <tr>\n      <th>1</th>\n      <td>POLYGON Z ((113863.462 471303.476 0.000, 11385...</td>\n      <td>9319188</td>\n      <td>0569100000000080</td>\n      <td>False</td>\n      <td>0</td>\n      <td>False</td>\n      <td>False</td>\n      <td>10.12719</td>\n      <td>2010-09-02Z</td>\n      <td>1923-01-01Z</td>\n      <td>...</td>\n      <td>8.31</td>\n      <td>1.11</td>\n      <td>False</td>\n      <td>26</td>\n      <td>1312</td>\n      <td>2014-03-07T23:00:00Z</td>\n      <td>3</td>\n      <td>True</td>\n      <td>31bn1</td>\n      <td>[113854.35, 471295.972, 113863.462, 471306.03]</td>\n    </tr>\n    <tr>\n      <th>2</th>\n      <td>POLYGON Z ((113769.673 471176.454 0.000, 11378...</td>\n      <td>9319206</td>\n      <td>0569100000000092</td>\n      <td>False</td>\n      <td>0</td>\n      <td>False</td>\n      <td>False</td>\n      <td>ARCGEO-NWK-002</td>\n      <td>2013-09-23Z</td>\n      <td>1965-01-01Z</td>\n      <td>...</td>\n      <td>6.11</td>\n      <td>1.03</td>\n      <td>False</td>\n      <td>155</td>\n      <td>2679</td>\n      <td>2014-03-07T23:00:00Z</td>\n      <td>3</td>\n      <td>True</td>\n      <td>31bn1</td>\n      <td>[113769.673, 471174.633, 113792.18, 471183.922]</td>\n    </tr>\n    <tr>\n      <th>3</th>\n      <td>POLYGON Z ((114447.891 471079.576 0.000, 11445...</td>\n      <td>9319606</td>\n      <td>0569100000000291</td>\n      <td>False</td>\n      <td>0</td>\n      <td>False</td>\n      <td>False</td>\n      <td>ARCGEO-NWK-002</td>\n      <td>2013-09-23Z</td>\n      <td>1962-01-01Z</td>\n      <td>...</td>\n      <td>7.27</td>\n      <td>1.05</td>\n      <td>False</td>\n      <td>89</td>\n      <td>1545</td>\n      <td>2014-03-07T23:00:00Z</td>\n      <td>3</td>\n      <td>True</td>\n      <td>31bn1</td>\n      <td>[114447.891, 471075.43, 114455.565, 471089.126]</td>\n    </tr>\n    <tr>\n      <th>4</th>\n      <td>POLYGON Z ((113877.304 471294.358 0.000, 11387...</td>\n      <td>9319644</td>\n      <td>0569100000000308</td>\n      <td>False</td>\n      <td>0</td>\n      <td>False</td>\n      <td>False</td>\n      <td>11.08619</td>\n      <td>2011-06-06Z</td>\n      <td>1998-01-01Z</td>\n      <td>...</td>\n      <td>8.59</td>\n      <td>1.23</td>\n      <td>False</td>\n      <td>173</td>\n      <td>2677</td>\n      <td>2014-03-07T23:00:00Z</td>\n      <td>3</td>\n      <td>True</td>\n      <td>31bn1</td>\n      <td>[113864.881, 471272.537, 113883.472, 471294.358]</td>\n    </tr>\n    <tr>\n      <th>...</th>\n      <td>...</td>\n      <td>...</td>\n      <td>...</td>\n      <td>...</td>\n      <td>...</td>\n      <td>...</td>\n      <td>...</td>\n      <td>...</td>\n      <td>...</td>\n      <td>...</td>\n      <td>...</td>\n      <td>...</td>\n      <td>...</td>\n      <td>...</td>\n      <td>...</td>\n      <td>...</td>\n      <td>...</td>\n      <td>...</td>\n      <td>...</td>\n      <td>...</td>\n      <td>...</td>\n    </tr>\n    <tr>\n      <th>995</th>\n      <td>POLYGON Z ((125997.831 474080.253 0.000, 12599...</td>\n      <td>11295123</td>\n      <td>0736100000001809</td>\n      <td>False</td>\n      <td>0</td>\n      <td>False</td>\n      <td>False</td>\n      <td>2011BAG0009</td>\n      <td>2011-03-28Z</td>\n      <td>2002-01-01Z</td>\n      <td>...</td>\n      <td>4.72</td>\n      <td>0.86</td>\n      <td>False</td>\n      <td>16</td>\n      <td>639</td>\n      <td>2014-02-01T23:00:00Z</td>\n      <td>3</td>\n      <td>True</td>\n      <td>31en2</td>\n      <td>[125986.727, 474076.366, 125997.831, 474087.307]</td>\n    </tr>\n    <tr>\n      <th>996</th>\n      <td>POLYGON Z ((126006.425 474089.270 0.000, 12599...</td>\n      <td>11295125</td>\n      <td>0736100000001810</td>\n      <td>False</td>\n      <td>0</td>\n      <td>False</td>\n      <td>False</td>\n      <td>2011BAG0009</td>\n      <td>2011-03-28Z</td>\n      <td>2002-01-01Z</td>\n      <td>...</td>\n      <td>4.68</td>\n      <td>0.86</td>\n      <td>False</td>\n      <td>25</td>\n      <td>709</td>\n      <td>2014-02-01T23:00:00Z</td>\n      <td>3</td>\n      <td>True</td>\n      <td>31en2</td>\n      <td>[125995.322, 474085.372, 126006.425, 474096.325]</td>\n    </tr>\n    <tr>\n      <th>997</th>\n      <td>POLYGON Z ((126015.079 474098.341 0.000, 12600...</td>\n      <td>11295127</td>\n      <td>0736100000001811</td>\n      <td>False</td>\n      <td>0</td>\n      <td>False</td>\n      <td>False</td>\n      <td>2011BAG0009</td>\n      <td>2011-03-28Z</td>\n      <td>2002-01-01Z</td>\n      <td>...</td>\n      <td>4.67</td>\n      <td>0.78</td>\n      <td>False</td>\n      <td>32</td>\n      <td>790</td>\n      <td>2014-02-01T23:00:00Z</td>\n      <td>3</td>\n      <td>True</td>\n      <td>31en2</td>\n      <td>[126003.97, 474094.463, 126015.079, 474105.39]</td>\n    </tr>\n    <tr>\n      <th>998</th>\n      <td>POLYGON Z ((126023.688 474107.398 0.000, 12601...</td>\n      <td>11295129</td>\n      <td>0736100000001812</td>\n      <td>False</td>\n      <td>0</td>\n      <td>False</td>\n      <td>False</td>\n      <td>2011BAG0009</td>\n      <td>2011-03-28Z</td>\n      <td>2002-01-01Z</td>\n      <td>...</td>\n      <td>4.72</td>\n      <td>0.81</td>\n      <td>False</td>\n      <td>27</td>\n      <td>802</td>\n      <td>2014-02-01T23:00:00Z</td>\n      <td>3</td>\n      <td>True</td>\n      <td>31en2</td>\n      <td>[126012.598, 474103.505, 126023.688, 474114.463]</td>\n    </tr>\n    <tr>\n      <th>999</th>\n      <td>POLYGON Z ((125951.504 474209.204 0.000, 12594...</td>\n      <td>11295130</td>\n      <td>0736100000001813</td>\n      <td>False</td>\n      <td>0</td>\n      <td>False</td>\n      <td>False</td>\n      <td>2010A00722</td>\n      <td>2010-08-17Z</td>\n      <td>2002-01-01Z</td>\n      <td>...</td>\n      <td>4.97</td>\n      <td>0.85</td>\n      <td>False</td>\n      <td>0</td>\n      <td>612</td>\n      <td>2014-02-01T23:00:00Z</td>\n      <td>3</td>\n      <td>True</td>\n      <td>31en2</td>\n      <td>[125941.032, 474202.29, 125951.504, 474212.931]</td>\n    </tr>\n  </tbody>\n</table>\n<p>1000 rows × 39 columns</p>\n</div>"
     },
     "metadata": {},
     "execution_count": 138
    }
   ],
   "source": [
    "response = wfs.getfeature(typename=layer, bbox=(bbox[0], bbox[1], bbox[1], bbox[3]), outputFormat='json')\n",
    "df2 = gpd.GeoDataFrame.from_features(json.loads(response.read()))\n",
    "df2"
   ]
  },
  {
   "cell_type": "code",
   "execution_count": 110,
   "metadata": {},
   "outputs": [
    {
     "output_type": "stream",
     "name": "stdout",
     "text": "Help on WebFeatureService_2_0_0 in module owslib.feature.wfs200 object:\n\nclass WebFeatureService_2_0_0(owslib.feature.WebFeatureService_)\n |  WebFeatureService_2_0_0(url, version, xml, parse_remote_metadata=False, timeout=30, headers=None, username=None, password=None, auth=None)\n |  \n |  Abstraction for OGC Web Feature Service (WFS).\n |  \n |  Implements IWebFeatureService.\n |  \n |  Method resolution order:\n |      WebFeatureService_2_0_0\n |      owslib.feature.WebFeatureService_\n |      builtins.object\n |  \n |  Methods defined here:\n |  \n |  __getitem__(self, name)\n |      check contents dictionary to allow dict like access to service layers\n |  \n |  __init__(self, url, version, xml=None, parse_remote_metadata=False, timeout=30, headers=None, username=None, password=None, auth=None)\n |      Initialize.\n |  \n |  getOperationByName(self, name)\n |      Return a named content item.\n |  \n |  getcapabilities(self)\n |      Request and return capabilities document from the WFS as a\n |      file-like object.\n |      NOTE: this is effectively redundant now\n |  \n |  getfeature(self, typename=None, filter=None, bbox=None, featureid=None, featureversion=None, propertyname=None, maxfeatures=None, storedQueryID=None, storedQueryParams=None, method='Get', outputFormat=None, startindex=None, sortby=None)\n |      Request and return feature data as a file-like object.\n |      #TODO: NOTE: have changed property name from ['*'] to None - check the use of this in WFS 2.0\n |      Parameters\n |      ----------\n |      typename : list\n |          List of typenames (string)\n |      filter : string\n |          XML-encoded OGC filter expression.\n |      bbox : tuple\n |          (left, bottom, right, top) in the feature type's coordinates == (minx, miny, maxx, maxy)\n |      featureid : list\n |          List of unique feature ids (string)\n |      featureversion : string\n |          Default is most recent feature version.\n |      propertyname : list\n |          List of feature property names. '*' matches all.\n |      maxfeatures : int\n |          Maximum number of features to be returned.\n |      method : string\n |          Qualified name of the HTTP DCP method to use.\n |      outputFormat: string (optional)\n |          Requested response format of the request.\n |      startindex: int (optional)\n |          Start position to return feature set (paging in combination with maxfeatures)\n |      sortby: list (optional)\n |          List of property names whose values should be used to order\n |          (upon presentation) the set of feature instances that\n |          satify the query.\n |      \n |      There are 3 different modes of use\n |      \n |      1) typename and bbox (simple spatial query)\n |      2) typename and filter (==query) (more expressive)\n |      3) featureid (direct access to known features)\n |  \n |  getpropertyvalue(self, query=None, storedquery_id=None, valuereference=None, typename=None, method='{http://www.opengis.net/ows/1.1}Get', **kwargs)\n |      the WFS GetPropertyValue method\n |  \n |  items(self)\n |      supports dict-like items() access\n |  \n |  ----------------------------------------------------------------------\n |  Static methods defined here:\n |  \n |  __new__(self, url, version, xml, parse_remote_metadata=False, timeout=30, headers=None, username=None, password=None, auth=None)\n |      overridden __new__ method\n |      \n |      @type url: string\n |      @param url: url of WFS capabilities document\n |      @type xml: string\n |      @param xml: elementtree object\n |      @type parse_remote_metadata: boolean\n |      @param parse_remote_metadata: whether to fully process MetadataURL elements\n |      @param headers: HTTP headers to send with requests\n |      @param timeout: time (in seconds) after which requests should timeout\n |      @param username: service authentication username\n |      @param password: service authentication password\n |      @param auth: instance of owslib.util.Authentication\n |      @return: initialized WebFeatureService_2_0_0 object\n |  \n |  ----------------------------------------------------------------------\n |  Readonly properties defined here:\n |  \n |  storedqueries\n |      gets descriptions of the stored queries available on the server\n |  \n |  ----------------------------------------------------------------------\n |  Methods inherited from owslib.feature.WebFeatureService_:\n |  \n |  getBBOXKVP(self, bbox, typename)\n |      Formate bounding box for KVP request type (HTTP GET)\n |      \n |      @param bbox: (minx,miny,maxx,maxy[,srs])\n |      @type bbox: List\n |      @param typename:  feature name\n |      @type typename: String\n |      @returns: String properly formated according to version and\n |          coordinate reference system\n |  \n |  getGETGetFeatureRequest(self, typename=None, filter=None, bbox=None, featureid=None, featureversion=None, propertyname=None, maxfeatures=None, storedQueryID=None, storedQueryParams=None, outputFormat=None, method='Get', startindex=None, sortby=None)\n |      Formulate proper GetFeature request using KVP encoding\n |      ----------\n |      typename : list\n |          List of typenames (string)\n |      filter : string\n |          XML-encoded OGC filter expression.\n |      bbox : tuple\n |          (left, bottom, right, top) in the feature type's coordinates == (minx, miny, maxx, maxy)\n |      featureid : list\n |          List of unique feature ids (string)\n |      featureversion : string\n |          Default is most recent feature version.\n |      propertyname : list\n |          List of feature property names. '*' matches all.\n |      maxfeatures : int\n |          Maximum number of features to be returned.\n |      method : string\n |          Qualified name of the HTTP DCP method to use.\n |      outputFormat: string (optional)\n |          Requested response format of the request.\n |      startindex: int (optional)\n |          Start position to return feature set (paging in combination with maxfeatures)\n |      sortby: list (optional)\n |          List of property names whose values should be used to order\n |          (upon presentation) the set of feature instances that\n |          satify the query.\n |      \n |      There are 3 different modes of use\n |      \n |      1) typename and bbox (simple spatial query)\n |      2) typename and filter (==query) (more expressive)\n |      3) featureid (direct access to known features)\n |  \n |  getSRS(self, srsname, typename)\n |      Returns None or Crs object for given name\n |      \n |      @param typename:  feature name\n |      @type typename: String\n |  \n |  get_schema(self, typename)\n |      Get layer schema compatible with :class:`fiona` schema object\n |  \n |  ----------------------------------------------------------------------\n |  Data descriptors inherited from owslib.feature.WebFeatureService_:\n |  \n |  __dict__\n |      dictionary for instance variables (if defined)\n |  \n |  __weakref__\n |      list of weak references to the object (if defined)\n\n"
    }
   ],
   "source": [
    "help(wfs)"
   ]
  },
  {
   "cell_type": "code",
   "execution_count": 135,
   "metadata": {},
   "outputs": [],
   "source": [
    "import requests\n",
    "\n",
    "params = dict(service='WFS', version=\"1.0.0\", request='GetFeature',\n",
    "      typeName=layer, outputFormat='json', bbox=(bbox[0], bbox[1], bbox[2], bbox[3]))"
   ]
  },
  {
   "cell_type": "code",
   "execution_count": 136,
   "metadata": {},
   "outputs": [],
   "source": [
    "# Fetch data from WFS using requests\n",
    "r = requests.get(url, params=params)"
   ]
  },
  {
   "cell_type": "code",
   "execution_count": 137,
   "metadata": {},
   "outputs": [
    {
     "output_type": "execute_result",
     "data": {
      "text/plain": "b'<?xml version=\"1.0\" encoding=\"UTF-8\"?><ows:ExceptionReport xmlns:xs=\"http://www.w3.org/2001/XMLSchema\" xmlns:ows=\"http://www.opengis.net/ows\" xmlns:xsi=\"http://www.w3.org/2001/XMLSchema-instance\" version=\"1.0.0\" xsi:schemaLocation=\"http://www.opengis.net/ows http://godzilla.bk.tudelft.nl:8090/geoserver/schemas/ows/1.0.0/owsExceptionReport.xsd\">\\n  <ows:Exception exceptionCode=\"InvalidParameterValue\" locator=\"request\">\\n    <ows:ExceptionText>Single value expected for request parameter request but instead found: [getcapabilities, GetFeature]</ows:ExceptionText>\\n  </ows:Exception>\\n</ows:ExceptionReport>\\n'"
     },
     "metadata": {},
     "execution_count": 137
    }
   ],
   "source": [
    "r.content"
   ]
  },
  {
   "cell_type": "code",
   "execution_count": null,
   "metadata": {},
   "outputs": [],
   "source": []
  }
 ],
 "metadata": {
  "language_info": {
   "codemirror_mode": {
    "name": "ipython",
    "version": 3
   },
   "file_extension": ".py",
   "mimetype": "text/x-python",
   "name": "python",
   "nbconvert_exporter": "python",
   "pygments_lexer": "ipython3",
   "version": "3.8.2-final"
  },
  "orig_nbformat": 2,
  "kernelspec": {
   "name": "geo_dev",
   "display_name": "geo_dev"
  }
 },
 "nbformat": 4,
 "nbformat_minor": 2
}