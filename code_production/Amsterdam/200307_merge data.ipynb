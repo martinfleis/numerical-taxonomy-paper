{
 "cells": [
  {
   "cell_type": "code",
   "execution_count": 1,
   "metadata": {},
   "outputs": [],
   "source": [
    "import geopandas as gpd\n",
    "import pandas as pd"
   ]
  },
  {
   "cell_type": "code",
   "execution_count": 3,
   "metadata": {},
   "outputs": [],
   "source": [
    "path = \"/Users/martin/Dropbox/Academia/Data/Geo/Amsterdam/elements.gpkg\""
   ]
  },
  {
   "cell_type": "code",
   "execution_count": 4,
   "metadata": {},
   "outputs": [],
   "source": [
    "tess = gpd.read_file(path, layer=\"tessellation\")\n",
    "blg = gpd.read_file(path, layer=\"buildings\")\n",
    "blocks = gpd.read_file(path, layer=\"blocks\")\n",
    "edges = gpd.read_file(path, layer=\"edges\")\n",
    "nodes = gpd.read_file(path, layer=\"nodes\")"
   ]
  },
  {
   "cell_type": "code",
   "execution_count": 5,
   "metadata": {},
   "outputs": [
    {
     "data": {
      "text/plain": [
       "Index(['uID', 'bID', 'stcOri', 'sdcLAL', 'sdcAre', 'sscCCo', 'sscERI',\n",
       "       'sicCAR', 'sicFAR', 'mtcWNe', 'mdcAre', 'licGDe', 'ltcWRB', 'nID',\n",
       "       'stcSAl', 'nodeID', 'geometry'],\n",
       "      dtype='object')"
      ]
     },
     "execution_count": 5,
     "metadata": {},
     "output_type": "execute_result"
    }
   ],
   "source": [
    "tess.columns"
   ]
  },
  {
   "cell_type": "code",
   "execution_count": 6,
   "metadata": {},
   "outputs": [
    {
     "data": {
      "text/plain": [
       "Index(['uID', 'sdbHei', 'bID', 'sdbAre', 'sdbVol', 'sdbPer', 'sdbCoA',\n",
       "       'ssbFoF', 'ssbVFR', 'ssbCCo', 'ssbCor', 'ssbSqu', 'ssbERI', 'ssbElo',\n",
       "       'stbOri', 'mtbSWR', 'mtbAli', 'mtbNDi', 'libNCo', 'ldbPWL', 'ltbIBD',\n",
       "       'ltcBuA', 'ssbCCM', 'ssbCCD', 'stbCeA', 'nID', 'stbSAl', 'nodeID',\n",
       "       'geometry'],\n",
       "      dtype='object')"
      ]
     },
     "execution_count": 6,
     "metadata": {},
     "output_type": "execute_result"
    }
   ],
   "source": [
    "blg.columns"
   ]
  },
  {
   "cell_type": "code",
   "execution_count": 7,
   "metadata": {},
   "outputs": [],
   "source": [
    "merged = tess.merge(blg.drop(columns=['nID', 'bID', 'nodeID', 'geometry']))"
   ]
  },
  {
   "cell_type": "code",
   "execution_count": 8,
   "metadata": {},
   "outputs": [],
   "source": [
    "merged = merged.merge(blocks.drop(columns='geometry'), on='bID', how='left')"
   ]
  },
  {
   "cell_type": "code",
   "execution_count": 9,
   "metadata": {},
   "outputs": [],
   "source": [
    "merged = merged.merge(edges.drop(columns='geometry'), on='nID', how='left')"
   ]
  },
  {
   "cell_type": "code",
   "execution_count": 10,
   "metadata": {},
   "outputs": [],
   "source": [
    "merged = merged.merge(nodes.drop(columns='geometry'), on='nodeID', how='left')"
   ]
  },
  {
   "cell_type": "code",
   "execution_count": 11,
   "metadata": {},
   "outputs": [
    {
     "data": {
      "text/plain": [
       "Index(['uID', 'bID', 'stcOri', 'sdcLAL', 'sdcAre', 'sscCCo', 'sscERI',\n",
       "       'sicCAR', 'sicFAR', 'mtcWNe', 'mdcAre', 'licGDe', 'ltcWRB', 'nID',\n",
       "       'stcSAl', 'nodeID', 'geometry', 'sdbHei', 'sdbAre', 'sdbVol', 'sdbPer',\n",
       "       'sdbCoA', 'ssbFoF', 'ssbVFR', 'ssbCCo', 'ssbCor', 'ssbSqu', 'ssbERI',\n",
       "       'ssbElo', 'stbOri', 'mtbSWR', 'mtbAli', 'mtbNDi', 'libNCo', 'ldbPWL',\n",
       "       'ltbIBD', 'ltcBuA', 'ssbCCM', 'ssbCCD', 'stbCeA', 'stbSAl', 'ldkAre',\n",
       "       'ldkPer', 'lskCCo', 'lskERI', 'lskCWA', 'ltkOri', 'ltkWNB', 'likWBB',\n",
       "       'sdsLen', 'sdsSPW', 'sdsSPH', 'sdsSPR', 'sdsSPO', 'sdsSWD', 'sdsSHD',\n",
       "       'sssLin', 'sdsAre', 'sisBpM', 'misRea', 'mdsAre', 'mm_len', 'cdsbool',\n",
       "       'node_start', 'node_end', 'ldsMSL', 'ldsRea', 'mtdDeg', 'lcdMes',\n",
       "       'linP3W', 'linP4W', 'linPDE', 'lcnClo', 'ldsCDL', 'xcnSCl', 'mtdMDi',\n",
       "       'lddNDe', 'linWID', 'lddRea', 'lddARe', 'sddAre', 'midRea', 'midAre'],\n",
       "      dtype='object')"
      ]
     },
     "execution_count": 11,
     "metadata": {},
     "output_type": "execute_result"
    }
   ],
   "source": [
    "merged.columns"
   ]
  },
  {
   "cell_type": "code",
   "execution_count": 12,
   "metadata": {},
   "outputs": [
    {
     "data": {
      "text/plain": [
       "(252385, 83)"
      ]
     },
     "execution_count": 12,
     "metadata": {},
     "output_type": "execute_result"
    }
   ],
   "source": [
    "merged.shape"
   ]
  },
  {
   "cell_type": "code",
   "execution_count": 13,
   "metadata": {},
   "outputs": [],
   "source": [
    "primary = merged.drop(columns=['nID', 'bID', 'nodeID', 'mm_len', 'cdsbool', 'node_start', 'node_end', 'geometry'])"
   ]
  },
  {
   "cell_type": "code",
   "execution_count": 15,
   "metadata": {},
   "outputs": [],
   "source": [
    "primary.to_csv('/Users/martin/Dropbox/Academia/Data/Geo/Amsterdam/clustering/primary.csv')"
   ]
  },
  {
   "cell_type": "code",
   "execution_count": 16,
   "metadata": {},
   "outputs": [],
   "source": [
    "gpath = '/Users/martin/Dropbox/Academia/Data/Geo/Amsterdam/clustering/geometry.gpkg'"
   ]
  },
  {
   "cell_type": "code",
   "execution_count": 19,
   "metadata": {},
   "outputs": [],
   "source": [
    "blg[['uID', 'bID', 'nID', 'nodeID', 'geometry']].to_file(gpath, layer='buildings', driver='GPKG')"
   ]
  },
  {
   "cell_type": "code",
   "execution_count": 20,
   "metadata": {},
   "outputs": [],
   "source": [
    "tess[['uID', 'bID', 'nID', 'nodeID', 'geometry']].to_file(gpath, layer='tessellation', driver='GPKG')"
   ]
  },
  {
   "cell_type": "code",
   "execution_count": 21,
   "metadata": {},
   "outputs": [],
   "source": [
    "blocks[['bID', 'geometry']].to_file(gpath, layer='blocks', driver='GPKG')"
   ]
  },
  {
   "cell_type": "code",
   "execution_count": 22,
   "metadata": {},
   "outputs": [],
   "source": [
    "edges[['nID', 'geometry']].to_file(gpath, layer='edges', driver='GPKG')"
   ]
  },
  {
   "cell_type": "code",
   "execution_count": 23,
   "metadata": {},
   "outputs": [],
   "source": [
    "nodes[['nodeID', 'geometry']].to_file(gpath, layer='nodes', driver='GPKG')"
   ]
  },
  {
   "cell_type": "code",
   "execution_count": null,
   "metadata": {},
   "outputs": [],
   "source": []
  }
 ],
 "metadata": {
  "kernelspec": {
   "display_name": "geo_dev",
   "language": "python",
   "name": "geo_dev"
  },
  "language_info": {
   "codemirror_mode": {
    "name": "ipython",
    "version": 3
   },
   "file_extension": ".py",
   "mimetype": "text/x-python",
   "name": "python",
   "nbconvert_exporter": "python",
   "pygments_lexer": "ipython3",
   "version": "3.8.0"
  }
 },
 "nbformat": 4,
 "nbformat_minor": 4
}
