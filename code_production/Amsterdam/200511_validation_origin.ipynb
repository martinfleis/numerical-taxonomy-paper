{
 "cells": [
  {
   "cell_type": "code",
   "execution_count": 1,
   "metadata": {},
   "outputs": [],
   "source": [
    "import pandas as pd\n",
    "import geopandas as gpd\n",
    "import seaborn as sns\n",
    "import matplotlib.pyplot as plt\n",
    "import husl\n",
    "from legendgram import legendgram\n",
    "import mapclassify\n",
    "from matplotlib_scalebar.scalebar import ScaleBar\n",
    "from matplotlib.colors import ListedColormap\n",
    "from shapely.geometry import Point\n",
    "\n",
    "from tqdm import tqdm"
   ]
  },
  {
   "cell_type": "code",
   "execution_count": 2,
   "metadata": {},
   "outputs": [],
   "source": [
    "clusters = pd.read_csv('/Users/martin/Dropbox/Academia/Data/Geo/Amsterdam/clustering/200309_clusters_complete_n30.csv', index_col=0)"
   ]
  },
  {
   "cell_type": "code",
   "execution_count": 3,
   "metadata": {},
   "outputs": [
    {
     "output_type": "execute_result",
     "data": {
      "text/plain": "          uID  cluster\n0           0       15\n1           1       15\n2           2       15\n3           3       15\n4           4       15\n...       ...      ...\n252380  19452       12\n252381  19453       12\n252382  19454       22\n252383  19455       22\n252384  19457       22\n\n[252385 rows x 2 columns]",
      "text/html": "<div>\n<style scoped>\n    .dataframe tbody tr th:only-of-type {\n        vertical-align: middle;\n    }\n\n    .dataframe tbody tr th {\n        vertical-align: top;\n    }\n\n    .dataframe thead th {\n        text-align: right;\n    }\n</style>\n<table border=\"1\" class=\"dataframe\">\n  <thead>\n    <tr style=\"text-align: right;\">\n      <th></th>\n      <th>uID</th>\n      <th>cluster</th>\n    </tr>\n  </thead>\n  <tbody>\n    <tr>\n      <th>0</th>\n      <td>0</td>\n      <td>15</td>\n    </tr>\n    <tr>\n      <th>1</th>\n      <td>1</td>\n      <td>15</td>\n    </tr>\n    <tr>\n      <th>2</th>\n      <td>2</td>\n      <td>15</td>\n    </tr>\n    <tr>\n      <th>3</th>\n      <td>3</td>\n      <td>15</td>\n    </tr>\n    <tr>\n      <th>4</th>\n      <td>4</td>\n      <td>15</td>\n    </tr>\n    <tr>\n      <th>...</th>\n      <td>...</td>\n      <td>...</td>\n    </tr>\n    <tr>\n      <th>252380</th>\n      <td>19452</td>\n      <td>12</td>\n    </tr>\n    <tr>\n      <th>252381</th>\n      <td>19453</td>\n      <td>12</td>\n    </tr>\n    <tr>\n      <th>252382</th>\n      <td>19454</td>\n      <td>22</td>\n    </tr>\n    <tr>\n      <th>252383</th>\n      <td>19455</td>\n      <td>22</td>\n    </tr>\n    <tr>\n      <th>252384</th>\n      <td>19457</td>\n      <td>22</td>\n    </tr>\n  </tbody>\n</table>\n<p>252385 rows × 2 columns</p>\n</div>"
     },
     "metadata": {},
     "execution_count": 3
    }
   ],
   "source": [
    "clusters"
   ]
  },
  {
   "cell_type": "code",
   "execution_count": 4,
   "metadata": {},
   "outputs": [],
   "source": [
    "years = pd.read_parquet('/Users/martin/Dropbox/Academia/Data/Geo/Amsterdam/raw/bag_data.pq')"
   ]
  },
  {
   "cell_type": "code",
   "execution_count": 7,
   "metadata": {},
   "outputs": [
    {
     "output_type": "execute_result",
     "data": {
      "text/plain": "Index(['uID', 'bID', 'index_right', 'identificatie',\n       'aanduidingrecordinactief', 'aanduidingrecordcorrectie', 'officieel',\n       'inonderzoek', 'documentnummer', 'documentdatum', 'bouwjaar',\n       'begindatumtijdvakgeldigheid', 'einddatumtijdvakgeldigheid',\n       'gemeentecode', 'ground-0.00', 'ground-0.10', 'ground-0.20',\n       'ground-0.30', 'ground-0.40', 'ground-0.50', 'roof-0.25', 'rmse-0.25',\n       'roof-0.50', 'rmse-0.50', 'roof-0.75', 'rmse-0.75', 'roof-0.90',\n       'rmse-0.90', 'roof-0.95', 'rmse-0.95', 'roof-0.99', 'rmse-0.99',\n       'roof_flat', 'nr_ground_pts', 'nr_roof_pts', 'ahn_file_date',\n       'ahn_version', 'height_valid', 'tile_id'],\n      dtype='object')"
     },
     "metadata": {},
     "execution_count": 7
    }
   ],
   "source": [
    "years.columns"
   ]
  },
  {
   "cell_type": "code",
   "execution_count": 5,
   "metadata": {},
   "outputs": [],
   "source": [
    "years = years[['uID','bouwjaar']]"
   ]
  },
  {
   "cell_type": "code",
   "execution_count": 6,
   "metadata": {},
   "outputs": [],
   "source": [
    "years['year'] = years['bouwjaar'].apply(lambda x: x[:4] if x else None)"
   ]
  },
  {
   "cell_type": "code",
   "execution_count": 7,
   "metadata": {},
   "outputs": [
    {
     "output_type": "execute_result",
     "data": {
      "text/plain": "1005    7443\n1990    4514\n1960    4485\n1930    4315\n1970    3944\n        ... \n1832       1\n1823       1\n1643       1\n1834       1\n1480       1\nName: year, Length: 387, dtype: int64"
     },
     "metadata": {},
     "execution_count": 7
    }
   ],
   "source": [
    "years['year'].value_counts()"
   ]
  },
  {
   "cell_type": "code",
   "execution_count": 8,
   "metadata": {},
   "outputs": [],
   "source": [
    "bins = [0, 1800, 1850, 1900, 1930, 1945, 1960, 1975, 1985, 1995, 2005, 2020]"
   ]
  },
  {
   "cell_type": "code",
   "execution_count": 9,
   "metadata": {},
   "outputs": [],
   "source": [
    "years = years.dropna()\n",
    "years['year'] = pd.cut(years['year'].astype(int), bins)"
   ]
  },
  {
   "cell_type": "code",
   "execution_count": 10,
   "metadata": {},
   "outputs": [],
   "source": [
    "joined = clusters.merge(years[['uID', 'year']], on='uID', how='left')"
   ]
  },
  {
   "cell_type": "code",
   "execution_count": 11,
   "metadata": {},
   "outputs": [
    {
     "output_type": "execute_result",
     "data": {
      "text/plain": "   uID  cluster          year\n0    0       15  (1975, 1985]\n1    1       15  (1975, 1985]\n2    2       15  (1975, 1985]\n3    3       15  (1985, 1995]",
      "text/html": "<div>\n<style scoped>\n    .dataframe tbody tr th:only-of-type {\n        vertical-align: middle;\n    }\n\n    .dataframe tbody tr th {\n        vertical-align: top;\n    }\n\n    .dataframe thead th {\n        text-align: right;\n    }\n</style>\n<table border=\"1\" class=\"dataframe\">\n  <thead>\n    <tr style=\"text-align: right;\">\n      <th></th>\n      <th>uID</th>\n      <th>cluster</th>\n      <th>year</th>\n    </tr>\n  </thead>\n  <tbody>\n    <tr>\n      <th>0</th>\n      <td>0</td>\n      <td>15</td>\n      <td>(1975, 1985]</td>\n    </tr>\n    <tr>\n      <th>1</th>\n      <td>1</td>\n      <td>15</td>\n      <td>(1975, 1985]</td>\n    </tr>\n    <tr>\n      <th>2</th>\n      <td>2</td>\n      <td>15</td>\n      <td>(1975, 1985]</td>\n    </tr>\n    <tr>\n      <th>3</th>\n      <td>3</td>\n      <td>15</td>\n      <td>(1985, 1995]</td>\n    </tr>\n  </tbody>\n</table>\n</div>"
     },
     "metadata": {},
     "execution_count": 11
    }
   ],
   "source": [
    "joined.head(4)"
   ]
  },
  {
   "cell_type": "code",
   "execution_count": 12,
   "metadata": {},
   "outputs": [],
   "source": [
    "buildings = gpd.read_file('/Users/martin/Dropbox/Academia/Data/Geo/Amsterdam/clustering/geometry.gpkg', layer='buildings')"
   ]
  },
  {
   "cell_type": "code",
   "execution_count": 13,
   "metadata": {},
   "outputs": [],
   "source": [
    "buildings = buildings.merge(joined, on='uID', how='left')"
   ]
  },
  {
   "cell_type": "code",
   "execution_count": 33,
   "metadata": {},
   "outputs": [
    {
     "output_type": "execute_result",
     "data": {
      "text/plain": "           uID     bID      nID   nodeID  \\\n0            0     0.0  35435.0  13440.0   \n1            1     0.0  35435.0  13440.0   \n2            2     1.0   8112.0  10037.0   \n3            3     2.0   8112.0  10037.0   \n4            4     1.0   8112.0  10037.0   \n...        ...     ...      ...      ...   \n252679  252571  4099.0   6076.0   8462.0   \n252680  252572  5424.0  25037.0   9770.0   \n252681  252573  5423.0  21501.0  21867.0   \n252682  252574  5424.0  25037.0  23131.0   \n252683  252575  5424.0  21501.0  21867.0   \n\n                                                 geometry  cluster  \\\n0       POLYGON Z ((130331.253 483337.251 0.000, 13033...       15   \n1       POLYGON Z ((130374.022 483428.300 0.000, 13038...       15   \n2       POLYGON Z ((124352.680 476826.680 0.000, 12432...       15   \n3       POLYGON Z ((123803.120 476872.458 0.000, 12379...       15   \n4       POLYGON Z ((124354.600 476868.600 0.000, 12434...       15   \n...                                                   ...      ...   \n252679  POLYGON Z ((123168.118 490375.432 0.000, 12316...       14   \n252680  POLYGON Z ((123096.733 490259.270 0.000, 12309...       14   \n252681  POLYGON Z ((123054.897 490248.150 0.000, 12304...        1   \n252682  POLYGON Z ((123097.931 490240.936 0.000, 12309...       14   \n252683  POLYGON Z ((123073.540 490243.270 0.000, 12306...       10   \n\n                year  \n0       (1975, 1985]  \n1       (1975, 1985]  \n2       (1975, 1985]  \n3       (1985, 1995]  \n4       (1850, 1900]  \n...              ...  \n252679  (1930, 1945]  \n252680  (1900, 1930]  \n252681  (1900, 1930]  \n252682  (1900, 1930]  \n252683  (1900, 1930]  \n\n[252684 rows x 7 columns]",
      "text/html": "<div>\n<style scoped>\n    .dataframe tbody tr th:only-of-type {\n        vertical-align: middle;\n    }\n\n    .dataframe tbody tr th {\n        vertical-align: top;\n    }\n\n    .dataframe thead th {\n        text-align: right;\n    }\n</style>\n<table border=\"1\" class=\"dataframe\">\n  <thead>\n    <tr style=\"text-align: right;\">\n      <th></th>\n      <th>uID</th>\n      <th>bID</th>\n      <th>nID</th>\n      <th>nodeID</th>\n      <th>geometry</th>\n      <th>cluster</th>\n      <th>year</th>\n    </tr>\n  </thead>\n  <tbody>\n    <tr>\n      <th>0</th>\n      <td>0</td>\n      <td>0.0</td>\n      <td>35435.0</td>\n      <td>13440.0</td>\n      <td>POLYGON Z ((130331.253 483337.251 0.000, 13033...</td>\n      <td>15</td>\n      <td>(1975, 1985]</td>\n    </tr>\n    <tr>\n      <th>1</th>\n      <td>1</td>\n      <td>0.0</td>\n      <td>35435.0</td>\n      <td>13440.0</td>\n      <td>POLYGON Z ((130374.022 483428.300 0.000, 13038...</td>\n      <td>15</td>\n      <td>(1975, 1985]</td>\n    </tr>\n    <tr>\n      <th>2</th>\n      <td>2</td>\n      <td>1.0</td>\n      <td>8112.0</td>\n      <td>10037.0</td>\n      <td>POLYGON Z ((124352.680 476826.680 0.000, 12432...</td>\n      <td>15</td>\n      <td>(1975, 1985]</td>\n    </tr>\n    <tr>\n      <th>3</th>\n      <td>3</td>\n      <td>2.0</td>\n      <td>8112.0</td>\n      <td>10037.0</td>\n      <td>POLYGON Z ((123803.120 476872.458 0.000, 12379...</td>\n      <td>15</td>\n      <td>(1985, 1995]</td>\n    </tr>\n    <tr>\n      <th>4</th>\n      <td>4</td>\n      <td>1.0</td>\n      <td>8112.0</td>\n      <td>10037.0</td>\n      <td>POLYGON Z ((124354.600 476868.600 0.000, 12434...</td>\n      <td>15</td>\n      <td>(1850, 1900]</td>\n    </tr>\n    <tr>\n      <th>...</th>\n      <td>...</td>\n      <td>...</td>\n      <td>...</td>\n      <td>...</td>\n      <td>...</td>\n      <td>...</td>\n      <td>...</td>\n    </tr>\n    <tr>\n      <th>252679</th>\n      <td>252571</td>\n      <td>4099.0</td>\n      <td>6076.0</td>\n      <td>8462.0</td>\n      <td>POLYGON Z ((123168.118 490375.432 0.000, 12316...</td>\n      <td>14</td>\n      <td>(1930, 1945]</td>\n    </tr>\n    <tr>\n      <th>252680</th>\n      <td>252572</td>\n      <td>5424.0</td>\n      <td>25037.0</td>\n      <td>9770.0</td>\n      <td>POLYGON Z ((123096.733 490259.270 0.000, 12309...</td>\n      <td>14</td>\n      <td>(1900, 1930]</td>\n    </tr>\n    <tr>\n      <th>252681</th>\n      <td>252573</td>\n      <td>5423.0</td>\n      <td>21501.0</td>\n      <td>21867.0</td>\n      <td>POLYGON Z ((123054.897 490248.150 0.000, 12304...</td>\n      <td>1</td>\n      <td>(1900, 1930]</td>\n    </tr>\n    <tr>\n      <th>252682</th>\n      <td>252574</td>\n      <td>5424.0</td>\n      <td>25037.0</td>\n      <td>23131.0</td>\n      <td>POLYGON Z ((123097.931 490240.936 0.000, 12309...</td>\n      <td>14</td>\n      <td>(1900, 1930]</td>\n    </tr>\n    <tr>\n      <th>252683</th>\n      <td>252575</td>\n      <td>5424.0</td>\n      <td>21501.0</td>\n      <td>21867.0</td>\n      <td>POLYGON Z ((123073.540 490243.270 0.000, 12306...</td>\n      <td>10</td>\n      <td>(1900, 1930]</td>\n    </tr>\n  </tbody>\n</table>\n<p>252684 rows × 7 columns</p>\n</div>"
     },
     "metadata": {},
     "execution_count": 33
    }
   ],
   "source": [
    "buildings"
   ]
  },
  {
   "cell_type": "code",
   "execution_count": 34,
   "metadata": {},
   "outputs": [
    {
     "output_type": "execute_result",
     "data": {
      "text/plain": "[(1975, 1985], (1985, 1995], (1850, 1900], (1960, 1975], (1995, 2005], ..., NaN, (1945.0, 1960.0], (1930.0, 1945.0], (0.0, 1800.0], (1800.0, 1850.0]]\nLength: 12\nCategories (11, interval[int64]): [(0, 1800] < (1800, 1850] < (1850, 1900] < (1900, 1930] ... (1975, 1985] < (1985, 1995] < (1995, 2005] < (2005, 2020]]"
     },
     "metadata": {},
     "execution_count": 34
    }
   ],
   "source": [
    "buildings.year.unique()"
   ]
  },
  {
   "cell_type": "markdown",
   "metadata": {},
   "source": [
    "## plot"
   ]
  },
  {
   "cell_type": "code",
   "execution_count": 35,
   "metadata": {},
   "outputs": [],
   "source": [
    "def north_arrow(f, ax, rotation=0, loc=2, legend_size=(.1,.1), frameon=False, thick=.1, outline=3, edgecolor='k', facecolor='k'):\n",
    "    from legendgram.util import make_location\n",
    "    from matplotlib.transforms import Affine2D\n",
    "    \n",
    "    arrpos = make_location(ax, loc, legend_size=legend_size)\n",
    "    arrax = f.add_axes(arrpos)\n",
    "\n",
    "    circle = plt.Circle((0, 0), radius=1, edgecolor=edgecolor, facecolor='w', linewidth=outline)\n",
    "    arrax.add_patch(circle)\n",
    "\n",
    "    rectangle = plt.Rectangle((-0.05, 0), thick, 1, facecolor=facecolor)\n",
    "    t = Affine2D().rotate_deg(rotation) + arrax.transData\n",
    "    rectangle.set_transform(t)\n",
    "    arrax.add_patch(rectangle)\n",
    "    arrax.axis('scaled')\n",
    "    arrax.set_frame_on(frameon)\n",
    "    arrax.get_yaxis().set_visible(False)\n",
    "    arrax.get_xaxis().set_visible(False)\n",
    "    return arrax"
   ]
  },
  {
   "cell_type": "code",
   "execution_count": 47,
   "metadata": {},
   "outputs": [
    {
     "output_type": "display_data",
     "data": {
      "text/plain": "<Figure size 1440x360 with 1 Axes>",
      "image/svg+xml": "<?xml version=\"1.0\" encoding=\"utf-8\" standalone=\"no\"?>\n<!DOCTYPE svg PUBLIC \"-//W3C//DTD SVG 1.1//EN\"\n  \"http://www.w3.org/Graphics/SVG/1.1/DTD/svg11.dtd\">\n<!-- Created with matplotlib (https://matplotlib.org/) -->\n<svg height=\"133.44pt\" version=\"1.1\" viewBox=\"0 0 1130.4 133.44\" width=\"1130.4pt\" xmlns=\"http://www.w3.org/2000/svg\" xmlns:xlink=\"http://www.w3.org/1999/xlink\">\n <defs>\n  <style type=\"text/css\">\n*{stroke-linecap:butt;stroke-linejoin:round;}\n  </style>\n </defs>\n <g id=\"figure_1\">\n  <g id=\"patch_1\">\n   <path d=\"M 0 133.44 \nL 1130.4 133.44 \nL 1130.4 0 \nL 0 0 \nz\n\" style=\"fill:none;\"/>\n  </g>\n  <g id=\"axes_1\">\n   <g id=\"patch_2\">\n    <path clip-path=\"url(#pa7753c7e1b)\" d=\"M 44.4 78.624 \nC 47.556978 78.624 50.585079 77.369719 52.817399 75.137399 \nC 55.049719 72.905079 56.304 69.876978 56.304 66.72 \nC 56.304 63.563022 55.049719 60.534921 52.817399 58.302601 \nC 50.585079 56.070281 47.556978 54.816 44.4 54.816 \nC 41.243022 54.816 38.214921 56.070281 35.982601 58.302601 \nC 33.750281 60.534921 32.496 63.563022 32.496 66.72 \nC 32.496 69.876978 33.750281 72.905079 35.982601 75.137399 \nC 38.214921 77.369719 41.243022 78.624 44.4 78.624 \nz\n\" style=\"fill:#273e73;stroke:#273e73;stroke-linejoin:miter;\"/>\n   </g>\n   <g id=\"patch_3\">\n    <path clip-path=\"url(#pa7753c7e1b)\" d=\"M 74.16 78.624 \nC 77.316978 78.624 80.345079 77.369719 82.577399 75.137399 \nC 84.809719 72.905079 86.064 69.876978 86.064 66.72 \nC 86.064 63.563022 84.809719 60.534921 82.577399 58.302601 \nC 80.345079 56.070281 77.316978 54.816 74.16 54.816 \nC 71.003022 54.816 67.974921 56.070281 65.742601 58.302601 \nC 63.510281 60.534921 62.256 63.563022 62.256 66.72 \nC 62.256 69.876978 63.510281 72.905079 65.742601 75.137399 \nC 67.974921 77.369719 71.003022 78.624 74.16 78.624 \nz\n\" style=\"fill:#8997b5;stroke:#8997b5;stroke-linejoin:miter;\"/>\n   </g>\n   <g id=\"patch_4\">\n    <path clip-path=\"url(#pa7753c7e1b)\" d=\"M 103.92 78.624 \nC 107.076978 78.624 110.105079 77.369719 112.337399 75.137399 \nC 114.569719 72.905079 115.824 69.876978 115.824 66.72 \nC 115.824 63.563022 114.569719 60.534921 112.337399 58.302601 \nC 110.105079 56.070281 107.076978 54.816 103.92 54.816 \nC 100.763022 54.816 97.734921 56.070281 95.502601 58.302601 \nC 93.270281 60.534921 92.016 63.563022 92.016 66.72 \nC 92.016 69.876978 93.270281 72.905079 95.502601 75.137399 \nC 97.734921 77.369719 100.763022 78.624 103.92 78.624 \nz\n\" style=\"fill:#4c95da;stroke:#4c95da;stroke-linejoin:miter;\"/>\n   </g>\n   <g id=\"patch_5\">\n    <path clip-path=\"url(#pa7753c7e1b)\" d=\"M 133.68 78.624 \nC 136.836978 78.624 139.865079 77.369719 142.097399 75.137399 \nC 144.329719 72.905079 145.584 69.876978 145.584 66.72 \nC 145.584 63.563022 144.329719 60.534921 142.097399 58.302601 \nC 139.865079 56.070281 136.836978 54.816 133.68 54.816 \nC 130.523022 54.816 127.494921 56.070281 125.262601 58.302601 \nC 123.030281 60.534921 121.776 63.563022 121.776 66.72 \nC 121.776 69.876978 123.030281 72.905079 125.262601 75.137399 \nC 127.494921 77.369719 130.523022 78.624 133.68 78.624 \nz\n\" style=\"fill:#9bc4ea;stroke:#9bc4ea;stroke-linejoin:miter;\"/>\n   </g>\n   <g id=\"patch_6\">\n    <path clip-path=\"url(#pa7753c7e1b)\" d=\"M 163.44 78.624 \nC 166.596978 78.624 169.625079 77.369719 171.857399 75.137399 \nC 174.089719 72.905079 175.344 69.876978 175.344 66.72 \nC 175.344 63.563022 174.089719 60.534921 171.857399 58.302601 \nC 169.625079 56.070281 166.596978 54.816 163.44 54.816 \nC 160.283022 54.816 157.254921 56.070281 155.022601 58.302601 \nC 152.790281 60.534921 151.536 63.563022 151.536 66.72 \nC 151.536 69.876978 152.790281 72.905079 155.022601 75.137399 \nC 157.254921 77.369719 160.283022 78.624 163.44 78.624 \nz\n\" style=\"fill:#e6639d;stroke:#e6639d;stroke-linejoin:miter;\"/>\n   </g>\n   <g id=\"patch_7\">\n    <path clip-path=\"url(#pa7753c7e1b)\" d=\"M 193.2 78.624 \nC 196.356978 78.624 199.385079 77.369719 201.617399 75.137399 \nC 203.849719 72.905079 205.104 69.876978 205.104 66.72 \nC 205.104 63.563022 203.849719 60.534921 201.617399 58.302601 \nC 199.385079 56.070281 196.356978 54.816 193.2 54.816 \nC 190.043022 54.816 187.014921 56.070281 184.782601 58.302601 \nC 182.550281 60.534921 181.296 63.563022 181.296 66.72 \nC 181.296 69.876978 182.550281 72.905079 184.782601 75.137399 \nC 187.014921 77.369719 190.043022 78.624 193.2 78.624 \nz\n\" style=\"fill:#f0a6c7;stroke:#f0a6c7;stroke-linejoin:miter;\"/>\n   </g>\n   <g id=\"patch_8\">\n    <path clip-path=\"url(#pa7753c7e1b)\" d=\"M 222.96 78.624 \nC 226.116978 78.624 229.145079 77.369719 231.377399 75.137399 \nC 233.609719 72.905079 234.864 69.876978 234.864 66.72 \nC 234.864 63.563022 233.609719 60.534921 231.377399 58.302601 \nC 229.145079 56.070281 226.116978 54.816 222.96 54.816 \nC 219.803022 54.816 216.774921 56.070281 214.542601 58.302601 \nC 212.310281 60.534921 211.056 63.563022 211.056 66.72 \nC 211.056 69.876978 212.310281 72.905079 214.542601 75.137399 \nC 216.774921 77.369719 219.803022 78.624 222.96 78.624 \nz\n\" style=\"fill:#ecd543;stroke:#ecd543;stroke-linejoin:miter;\"/>\n   </g>\n   <g id=\"patch_9\">\n    <path clip-path=\"url(#pa7753c7e1b)\" d=\"M 252.72 78.624 \nC 255.876978 78.624 258.905079 77.369719 261.137399 75.137399 \nC 263.369719 72.905079 264.624 69.876978 264.624 66.72 \nC 264.624 63.563022 263.369719 60.534921 261.137399 58.302601 \nC 258.905079 56.070281 255.876978 54.816 252.72 54.816 \nC 249.563022 54.816 246.534921 56.070281 244.302601 58.302601 \nC 242.070281 60.534921 240.816 63.563022 240.816 66.72 \nC 240.816 69.876978 242.070281 72.905079 244.302601 75.137399 \nC 246.534921 77.369719 249.563022 78.624 252.72 78.624 \nz\n\" style=\"fill:#f5e795;stroke:#f5e795;stroke-linejoin:miter;\"/>\n   </g>\n   <g id=\"patch_10\">\n    <path clip-path=\"url(#pa7753c7e1b)\" d=\"M 282.48 78.624 \nC 285.636978 78.624 288.665079 77.369719 290.897399 75.137399 \nC 293.129719 72.905079 294.384 69.876978 294.384 66.72 \nC 294.384 63.563022 293.129719 60.534921 290.897399 58.302601 \nC 288.665079 56.070281 285.636978 54.816 282.48 54.816 \nC 279.323022 54.816 276.294921 56.070281 274.062601 58.302601 \nC 271.830281 60.534921 270.576 63.563022 270.576 66.72 \nC 270.576 69.876978 271.830281 72.905079 274.062601 75.137399 \nC 276.294921 77.369719 279.323022 78.624 282.48 78.624 \nz\n\" style=\"fill:#ee5951;stroke:#ee5951;stroke-linejoin:miter;\"/>\n   </g>\n   <g id=\"patch_11\">\n    <path clip-path=\"url(#pa7753c7e1b)\" d=\"M 312.24 78.624 \nC 315.396978 78.624 318.425079 77.369719 320.657399 75.137399 \nC 322.889719 72.905079 324.144 69.876978 324.144 66.72 \nC 324.144 63.563022 322.889719 60.534921 320.657399 58.302601 \nC 318.425079 56.070281 315.396978 54.816 312.24 54.816 \nC 309.083022 54.816 306.054921 56.070281 303.822601 58.302601 \nC 301.590281 60.534921 300.336 63.563022 300.336 66.72 \nC 300.336 69.876978 301.590281 72.905079 303.822601 75.137399 \nC 306.054921 77.369719 309.083022 78.624 312.24 78.624 \nz\n\" style=\"fill:#f5a19c;stroke:#f5a19c;stroke-linejoin:miter;\"/>\n   </g>\n   <g id=\"patch_12\">\n    <path clip-path=\"url(#pa7753c7e1b)\" d=\"M 342 78.624 \nC 345.156978 78.624 348.185079 77.369719 350.417399 75.137399 \nC 352.649719 72.905079 353.904 69.876978 353.904 66.72 \nC 353.904 63.563022 352.649719 60.534921 350.417399 58.302601 \nC 348.185079 56.070281 345.156978 54.816 342 54.816 \nC 338.843022 54.816 335.814921 56.070281 333.582601 58.302601 \nC 331.350281 60.534921 330.096 63.563022 330.096 66.72 \nC 330.096 69.876978 331.350281 72.905079 333.582601 75.137399 \nC 335.814921 77.369719 338.843022 78.624 342 78.624 \nz\n\" style=\"fill:#b2cd32;stroke:#b2cd32;stroke-linejoin:miter;\"/>\n   </g>\n   <g id=\"patch_13\">\n    <path clip-path=\"url(#pa7753c7e1b)\" d=\"M 371.76 78.624 \nC 374.916978 78.624 377.945079 77.369719 380.177399 75.137399 \nC 382.409719 72.905079 383.664 69.876978 383.664 66.72 \nC 383.664 63.563022 382.409719 60.534921 380.177399 58.302601 \nC 377.945079 56.070281 374.916978 54.816 371.76 54.816 \nC 368.603022 54.816 365.574921 56.070281 363.342601 58.302601 \nC 361.110281 60.534921 359.856 63.563022 359.856 66.72 \nC 359.856 69.876978 361.110281 72.905079 363.342601 75.137399 \nC 365.574921 77.369719 368.603022 78.624 371.76 78.624 \nz\n\" style=\"fill:#d4e38e;stroke:#d4e38e;stroke-linejoin:miter;\"/>\n   </g>\n  </g>\n </g>\n <defs>\n  <clipPath id=\"pa7753c7e1b\">\n   <rect height=\"119.04\" width=\"1116\" x=\"7.2\" y=\"7.2\"/>\n  </clipPath>\n </defs>\n</svg>\n",
      "image/png": "[encoded data removed]"
     },
     "metadata": {
      "needs_background": "light"
     }
    }
   ],
   "source": [
    "cols = []\n",
    "colors = [(98, 93, 78), (14, 79, 58), (75, 90, 85), (347, 72, 60), (246, 79, 60), (257, 71, 27)]\n",
    "\n",
    "for col in colors:\n",
    "    pal = sns.light_palette(col, input=\"husl\", n_colors=3)\n",
    "    for rgb in pal[1:]:\n",
    "        cols.append(rgb)\n",
    "cols.reverse()\n",
    "fig, ax = plt.subplots(figsize=(20, 5))\n",
    "for i, c in enumerate(cols):\n",
    "    ax.add_artist(plt.Circle((i, 0), 0.4, color=c))    \n",
    "    ax.set_axis_off()\n",
    "    ax.set_aspect(1)\n",
    "    plt.xlim(-1.25,36.25)\n",
    "    plt.ylim(-2,2)"
   ]
  },
  {
   "cell_type": "code",
   "execution_count": 7,
   "metadata": {},
   "outputs": [
    {
     "output_type": "error",
     "ename": "SyntaxError",
     "evalue": "'break' outside loop (<ipython-input-7-4db9ff3ac36f>, line 2)",
     "traceback": [
      "\u001b[0;36m  File \u001b[0;32m\"<ipython-input-7-4db9ff3ac36f>\"\u001b[0;36m, line \u001b[0;32m2\u001b[0m\n\u001b[0;31m    break\u001b[0m\n\u001b[0m    ^\u001b[0m\n\u001b[0;31mSyntaxError\u001b[0m\u001b[0;31m:\u001b[0m 'break' outside loop\n"
     ]
    }
   ],
   "source": [
    "color = (257, 71, 27)  # here for arrow, title, scalebar\n",
    "\n",
    "# plotting\n",
    "c = husl.husl_to_hex(*color)\n",
    "\n",
    "cmap = ListedColormap(cols)  \n",
    "\n",
    "ax = buildings.plot('year', categorical=True, figsize=(30, 30), cmap=cmap, legend=True,\n",
    "                   legend_kwds=dict(loc='center right', frameon=False))\n",
    "ax.set_axis_off()\n",
    "\n",
    "\n",
    "# add scalebar\n",
    "scalebar = ScaleBar(dx=1,\n",
    "                    color=c,\n",
    "                    location=1,\n",
    "                    height_fraction=0.001,\n",
    "                    #fixed_value=1000,\n",
    "                    label='historical period',\n",
    "                    label_loc='bottom'\n",
    "                    )\n",
    "ax.add_artist(scalebar)\n",
    "\n",
    "# add arrow\n",
    "north_arrow(plt.gcf(), ax, 0, legend_size=(.04,.04), outline=1, edgecolor=c, facecolor=c)\n",
    "for ext in ['pdf', 'png']:\n",
    "     plt.savefig('figures/AMS_origin.' + ext, bbox_inches='tight')"
   ]
  },
  {
   "cell_type": "code",
   "execution_count": 8,
   "metadata": {},
   "outputs": [
    {
     "output_type": "error",
     "ename": "SyntaxError",
     "evalue": "'break' outside loop (<ipython-input-8-304234a89a7f>, line 2)",
     "traceback": [
      "\u001b[0;36m  File \u001b[0;32m\"<ipython-input-8-304234a89a7f>\"\u001b[0;36m, line \u001b[0;32m2\u001b[0m\n\u001b[0;31m    break\u001b[0m\n\u001b[0m    ^\u001b[0m\n\u001b[0;31mSyntaxError\u001b[0m\u001b[0;31m:\u001b[0m 'break' outside loop\n"
     ]
    }
   ],
   "source": [
    "color = (257, 71, 27)  # here for arrow, title, scalebar\n",
    "\n",
    "# plotting\n",
    "c = husl.husl_to_hex(*color)\n",
    "\n",
    "cmap = ListedColormap(cols)  \n",
    "\n",
    "ax = buildings.cx[118000:126000, 480000:490000].plot('year', categorical=True, figsize=(30, 30), cmap=cmap, legend=True,\n",
    "                   legend_kwds=dict(loc='center right', frameon=False))\n",
    "ax.set_axis_off()\n",
    "\n",
    "\n",
    "# add scalebar\n",
    "scalebar = ScaleBar(dx=1,\n",
    "                    color=c,\n",
    "                    location=1,\n",
    "                    height_fraction=0.001,\n",
    "                    #fixed_value=1000,\n",
    "                    label='historical period',\n",
    "                    label_loc='bottom'\n",
    "                    )\n",
    "ax.add_artist(scalebar)\n",
    "\n",
    "# add arrow\n",
    "north_arrow(plt.gcf(), ax, 0, legend_size=(.04,.04), outline=1, edgecolor=c, facecolor=c)\n",
    "for ext in ['pdf', 'png']:\n",
    "    plt.savefig('figures/AMS_origin_detail.' + ext, bbox_inches='tight')"
   ]
  },
  {
   "cell_type": "code",
   "execution_count": 50,
   "metadata": {},
   "outputs": [],
   "source": [
    "import numpy as np\n",
    "\n",
    "def show_values_on_bars(axs):\n",
    "    def _show_on_single_plot(ax):        \n",
    "        for p in ax.patches:\n",
    "            _x = p.get_x() + p.get_width() / 2\n",
    "            _y = p.get_y() + p.get_height() + 0.02\n",
    "            value = '{:.2f}'.format(p.get_height())\n",
    "            ax.text(_x, _y, value, ha=\"center\") \n",
    "\n",
    "    if isinstance(axs, np.ndarray):\n",
    "        for idx, ax in np.ndenumerate(axs):\n",
    "            _show_on_single_plot(ax)\n",
    "    else:\n",
    "        _show_on_single_plot(axs)\n",
    "\n",
    "pal = [husl.husl_to_hex(*color) for color in colors]"
   ]
  },
  {
   "cell_type": "code",
   "execution_count": 60,
   "metadata": {},
   "outputs": [
    {
     "output_type": "display_data",
     "data": {
      "text/plain": "<Figure size 720x360 with 1 Axes>",
      "image/svg+xml": "<?xml version=\"1.0\" encoding=\"utf-8\" standalone=\"no\"?>\n<!DOCTYPE svg PUBLIC \"-//W3C//DTD SVG 1.1//EN\"\n  \"http://www.w3.org/Graphics/SVG/1.1/DTD/svg11.dtd\">\n<!-- Created with matplotlib (https://matplotlib.org/) -->\n<svg height=\"328.687187pt\" version=\"1.1\" viewBox=\"0 0 615.941 328.687187\" width=\"615.941pt\" xmlns=\"http://www.w3.org/2000/svg\" xmlns:xlink=\"http://www.w3.org/1999/xlink\">\n <defs>\n  <style type=\"text/css\">\n*{stroke-linecap:butt;stroke-linejoin:round;}\n  </style>\n </defs>\n <g id=\"figure_1\">\n  <g id=\"patch_1\">\n   <path d=\"M 0 328.687187 \nL 615.941 328.687187 \nL 615.941 0 \nL 0 0 \nz\n\" style=\"fill:#ffffff;\"/>\n  </g>\n  <g id=\"axes_1\">\n   <g id=\"patch_2\">\n    <path d=\"M 50.741 282.149437 \nL 608.741 282.149437 \nL 608.741 10.349437 \nL 50.741 10.349437 \nz\n\" style=\"fill:#ffffff;\"/>\n   </g>\n   <g id=\"matplotlib.axis_1\">\n    <g id=\"xtick_1\">\n     <g id=\"line2d_1\">\n      <defs>\n       <path d=\"M 0 0 \nL 0 4.8 \n\" id=\"me920e2081b\" style=\"stroke:#262626;\"/>\n      </defs>\n      <g>\n       <use style=\"fill:#262626;stroke:#262626;\" x=\"76.104636\" xlink:href=\"#me920e2081b\" y=\"292.149437\"/>\n      </g>\n     </g>\n     <g id=\"text_1\">\n      <!-- (0, 1800] -->\n      <defs>\n       <path d=\"M 23.390625 -21.046875 \nQ 16.109375 -11.859375 11.078125 0.4375 \nQ 6.0625 12.75 6.0625 25.921875 \nQ 6.0625 37.546875 9.8125 48.1875 \nQ 14.203125 60.546875 23.390625 72.796875 \nL 29.6875 72.796875 \nQ 23.78125 62.640625 21.875 58.296875 \nQ 18.890625 51.5625 17.1875 44.234375 \nQ 15.09375 35.109375 15.09375 25.875 \nQ 15.09375 2.390625 29.6875 -21.046875 \nz\n\" id=\"ArialMT-40\"/>\n       <path d=\"M 4.15625 35.296875 \nQ 4.15625 48 6.765625 55.734375 \nQ 9.375 63.484375 14.515625 67.671875 \nQ 19.671875 71.875 27.484375 71.875 \nQ 33.25 71.875 37.59375 69.546875 \nQ 41.9375 67.234375 44.765625 62.859375 \nQ 47.609375 58.5 49.21875 52.21875 \nQ 50.828125 45.953125 50.828125 35.296875 \nQ 50.828125 22.703125 48.234375 14.96875 \nQ 45.65625 7.234375 40.5 3 \nQ 35.359375 -1.21875 27.484375 -1.21875 \nQ 17.140625 -1.21875 11.234375 6.203125 \nQ 4.15625 15.140625 4.15625 35.296875 \nz\nM 13.1875 35.296875 \nQ 13.1875 17.671875 17.3125 11.828125 \nQ 21.4375 6 27.484375 6 \nQ 33.546875 6 37.671875 11.859375 \nQ 41.796875 17.71875 41.796875 35.296875 \nQ 41.796875 52.984375 37.671875 58.78125 \nQ 33.546875 64.59375 27.390625 64.59375 \nQ 21.34375 64.59375 17.71875 59.46875 \nQ 13.1875 52.9375 13.1875 35.296875 \nz\n\" id=\"ArialMT-48\"/>\n       <path d=\"M 8.890625 0 \nL 8.890625 10.015625 \nL 18.890625 10.015625 \nL 18.890625 0 \nQ 18.890625 -5.515625 16.9375 -8.90625 \nQ 14.984375 -12.3125 10.75 -14.15625 \nL 8.296875 -10.40625 \nQ 11.078125 -9.1875 12.390625 -6.8125 \nQ 13.71875 -4.4375 13.875 0 \nz\n\" id=\"ArialMT-44\"/>\n       <path id=\"ArialMT-32\"/>\n       <path d=\"M 37.25 0 \nL 28.46875 0 \nL 28.46875 56 \nQ 25.296875 52.984375 20.140625 49.953125 \nQ 14.984375 46.921875 10.890625 45.40625 \nL 10.890625 53.90625 \nQ 18.265625 57.375 23.78125 62.296875 \nQ 29.296875 67.234375 31.59375 71.875 \nL 37.25 71.875 \nz\n\" id=\"ArialMT-49\"/>\n       <path d=\"M 17.671875 38.8125 \nQ 12.203125 40.828125 9.5625 44.53125 \nQ 6.9375 48.25 6.9375 53.421875 \nQ 6.9375 61.234375 12.546875 66.546875 \nQ 18.171875 71.875 27.484375 71.875 \nQ 36.859375 71.875 42.578125 66.421875 \nQ 48.296875 60.984375 48.296875 53.171875 \nQ 48.296875 48.1875 45.671875 44.5 \nQ 43.0625 40.828125 37.75 38.8125 \nQ 44.34375 36.671875 47.78125 31.875 \nQ 51.21875 27.09375 51.21875 20.453125 \nQ 51.21875 11.28125 44.71875 5.03125 \nQ 38.234375 -1.21875 27.640625 -1.21875 \nQ 17.046875 -1.21875 10.546875 5.046875 \nQ 4.046875 11.328125 4.046875 20.703125 \nQ 4.046875 27.6875 7.59375 32.390625 \nQ 11.140625 37.109375 17.671875 38.8125 \nz\nM 15.921875 53.71875 \nQ 15.921875 48.640625 19.1875 45.40625 \nQ 22.46875 42.1875 27.6875 42.1875 \nQ 32.765625 42.1875 36.015625 45.375 \nQ 39.265625 48.578125 39.265625 53.21875 \nQ 39.265625 58.0625 35.90625 61.359375 \nQ 32.5625 64.65625 27.59375 64.65625 \nQ 22.5625 64.65625 19.234375 61.421875 \nQ 15.921875 58.203125 15.921875 53.71875 \nz\nM 13.09375 20.65625 \nQ 13.09375 16.890625 14.875 13.375 \nQ 16.65625 9.859375 20.171875 7.921875 \nQ 23.6875 6 27.734375 6 \nQ 34.03125 6 38.125 10.046875 \nQ 42.234375 14.109375 42.234375 20.359375 \nQ 42.234375 26.703125 38.015625 30.859375 \nQ 33.796875 35.015625 27.4375 35.015625 \nQ 21.234375 35.015625 17.15625 30.90625 \nQ 13.09375 26.8125 13.09375 20.65625 \nz\n\" id=\"ArialMT-56\"/>\n       <path d=\"M 21.296875 -19.875 \nL 1.90625 -19.875 \nL 1.90625 -12.59375 \nL 12.5 -12.59375 \nL 12.5 64.3125 \nL 1.90625 64.3125 \nL 1.90625 71.578125 \nL 21.296875 71.578125 \nz\n\" id=\"ArialMT-93\"/>\n      </defs>\n      <g style=\"fill:#262626;\" transform=\"translate(58.738386 306.855562)scale(0.088 -0.088)\">\n       <use xlink:href=\"#ArialMT-40\"/>\n       <use x=\"33.300781\" xlink:href=\"#ArialMT-48\"/>\n       <use x=\"88.916016\" xlink:href=\"#ArialMT-44\"/>\n       <use x=\"116.699219\" xlink:href=\"#ArialMT-32\"/>\n       <use x=\"144.482422\" xlink:href=\"#ArialMT-49\"/>\n       <use x=\"200.097656\" xlink:href=\"#ArialMT-56\"/>\n       <use x=\"255.712891\" xlink:href=\"#ArialMT-48\"/>\n       <use x=\"311.328125\" xlink:href=\"#ArialMT-48\"/>\n       <use x=\"366.943359\" xlink:href=\"#ArialMT-93\"/>\n      </g>\n     </g>\n    </g>\n    <g id=\"xtick_2\">\n     <g id=\"line2d_2\">\n      <g>\n       <use style=\"fill:#262626;stroke:#262626;\" x=\"126.831909\" xlink:href=\"#me920e2081b\" y=\"292.149437\"/>\n      </g>\n     </g>\n     <g id=\"text_2\">\n      <!-- (1800, 1850] -->\n      <defs>\n       <path d=\"M 4.15625 18.75 \nL 13.375 19.53125 \nQ 14.40625 12.796875 18.140625 9.390625 \nQ 21.875 6 27.15625 6 \nQ 33.5 6 37.890625 10.78125 \nQ 42.28125 15.578125 42.28125 23.484375 \nQ 42.28125 31 38.0625 35.34375 \nQ 33.84375 39.703125 27 39.703125 \nQ 22.75 39.703125 19.328125 37.765625 \nQ 15.921875 35.84375 13.96875 32.765625 \nL 5.71875 33.84375 \nL 12.640625 70.609375 \nL 48.25 70.609375 \nL 48.25 62.203125 \nL 19.671875 62.203125 \nL 15.828125 42.96875 \nQ 22.265625 47.46875 29.34375 47.46875 \nQ 38.71875 47.46875 45.15625 40.96875 \nQ 51.609375 34.46875 51.609375 24.265625 \nQ 51.609375 14.546875 45.953125 7.46875 \nQ 39.0625 -1.21875 27.15625 -1.21875 \nQ 17.390625 -1.21875 11.203125 4.25 \nQ 5.03125 9.71875 4.15625 18.75 \nz\n\" id=\"ArialMT-53\"/>\n      </defs>\n      <g style=\"fill:#262626;\" transform=\"translate(102.125222 306.855562)scale(0.088 -0.088)\">\n       <use xlink:href=\"#ArialMT-40\"/>\n       <use x=\"33.300781\" xlink:href=\"#ArialMT-49\"/>\n       <use x=\"88.916016\" xlink:href=\"#ArialMT-56\"/>\n       <use x=\"144.53125\" xlink:href=\"#ArialMT-48\"/>\n       <use x=\"200.146484\" xlink:href=\"#ArialMT-48\"/>\n       <use x=\"255.761719\" xlink:href=\"#ArialMT-44\"/>\n       <use x=\"283.544922\" xlink:href=\"#ArialMT-32\"/>\n       <use x=\"311.328125\" xlink:href=\"#ArialMT-49\"/>\n       <use x=\"366.943359\" xlink:href=\"#ArialMT-56\"/>\n       <use x=\"422.558594\" xlink:href=\"#ArialMT-53\"/>\n       <use x=\"478.173828\" xlink:href=\"#ArialMT-48\"/>\n       <use x=\"533.789062\" xlink:href=\"#ArialMT-93\"/>\n      </g>\n     </g>\n    </g>\n    <g id=\"xtick_3\">\n     <g id=\"line2d_3\">\n      <g>\n       <use style=\"fill:#262626;stroke:#262626;\" x=\"177.559182\" xlink:href=\"#me920e2081b\" y=\"292.149437\"/>\n      </g>\n     </g>\n     <g id=\"text_3\">\n      <!-- (1850, 1900] -->\n      <defs>\n       <path d=\"M 5.46875 16.546875 \nL 13.921875 17.328125 \nQ 14.984375 11.375 18.015625 8.6875 \nQ 21.046875 6 25.78125 6 \nQ 29.828125 6 32.875 7.859375 \nQ 35.9375 9.71875 37.890625 12.8125 \nQ 39.84375 15.921875 41.15625 21.1875 \nQ 42.484375 26.46875 42.484375 31.9375 \nQ 42.484375 32.515625 42.4375 33.6875 \nQ 39.796875 29.5 35.234375 26.875 \nQ 30.671875 24.265625 25.34375 24.265625 \nQ 16.453125 24.265625 10.296875 30.703125 \nQ 4.15625 37.15625 4.15625 47.703125 \nQ 4.15625 58.59375 10.578125 65.234375 \nQ 17 71.875 26.65625 71.875 \nQ 33.640625 71.875 39.421875 68.109375 \nQ 45.21875 64.359375 48.21875 57.390625 \nQ 51.21875 50.4375 51.21875 37.25 \nQ 51.21875 23.53125 48.234375 15.40625 \nQ 45.265625 7.28125 39.375 3.03125 \nQ 33.5 -1.21875 25.59375 -1.21875 \nQ 17.1875 -1.21875 11.859375 3.4375 \nQ 6.546875 8.109375 5.46875 16.546875 \nz\nM 41.453125 48.140625 \nQ 41.453125 55.71875 37.421875 60.15625 \nQ 33.40625 64.59375 27.734375 64.59375 \nQ 21.875 64.59375 17.53125 59.8125 \nQ 13.1875 55.03125 13.1875 47.40625 \nQ 13.1875 40.578125 17.3125 36.296875 \nQ 21.4375 32.03125 27.484375 32.03125 \nQ 33.59375 32.03125 37.515625 36.296875 \nQ 41.453125 40.578125 41.453125 48.140625 \nz\n\" id=\"ArialMT-57\"/>\n      </defs>\n      <g style=\"fill:#262626;\" transform=\"translate(152.852494 306.855562)scale(0.088 -0.088)\">\n       <use xlink:href=\"#ArialMT-40\"/>\n       <use x=\"33.300781\" xlink:href=\"#ArialMT-49\"/>\n       <use x=\"88.916016\" xlink:href=\"#ArialMT-56\"/>\n       <use x=\"144.53125\" xlink:href=\"#ArialMT-53\"/>\n       <use x=\"200.146484\" xlink:href=\"#ArialMT-48\"/>\n       <use x=\"255.761719\" xlink:href=\"#ArialMT-44\"/>\n       <use x=\"283.544922\" xlink:href=\"#ArialMT-32\"/>\n       <use x=\"311.328125\" xlink:href=\"#ArialMT-49\"/>\n       <use x=\"366.943359\" xlink:href=\"#ArialMT-57\"/>\n       <use x=\"422.558594\" xlink:href=\"#ArialMT-48\"/>\n       <use x=\"478.173828\" xlink:href=\"#ArialMT-48\"/>\n       <use x=\"533.789062\" xlink:href=\"#ArialMT-93\"/>\n      </g>\n     </g>\n    </g>\n    <g id=\"xtick_4\">\n     <g id=\"line2d_4\">\n      <g>\n       <use style=\"fill:#262626;stroke:#262626;\" x=\"228.286455\" xlink:href=\"#me920e2081b\" y=\"292.149437\"/>\n      </g>\n     </g>\n     <g id=\"text_4\">\n      <!-- (1900, 1930] -->\n      <defs>\n       <path d=\"M 4.203125 18.890625 \nL 12.984375 20.0625 \nQ 14.5 12.59375 18.140625 9.296875 \nQ 21.78125 6 27 6 \nQ 33.203125 6 37.46875 10.296875 \nQ 41.75 14.59375 41.75 20.953125 \nQ 41.75 27 37.796875 30.921875 \nQ 33.84375 34.859375 27.734375 34.859375 \nQ 25.25 34.859375 21.53125 33.890625 \nL 22.515625 41.609375 \nQ 23.390625 41.5 23.921875 41.5 \nQ 29.546875 41.5 34.03125 44.421875 \nQ 38.53125 47.359375 38.53125 53.46875 \nQ 38.53125 58.296875 35.25 61.46875 \nQ 31.984375 64.65625 26.8125 64.65625 \nQ 21.6875 64.65625 18.265625 61.421875 \nQ 14.84375 58.203125 13.875 51.765625 \nL 5.078125 53.328125 \nQ 6.6875 62.15625 12.390625 67.015625 \nQ 18.109375 71.875 26.609375 71.875 \nQ 32.46875 71.875 37.390625 69.359375 \nQ 42.328125 66.84375 44.9375 62.5 \nQ 47.5625 58.15625 47.5625 53.265625 \nQ 47.5625 48.640625 45.0625 44.828125 \nQ 42.578125 41.015625 37.703125 38.765625 \nQ 44.046875 37.3125 47.5625 32.6875 \nQ 51.078125 28.078125 51.078125 21.140625 \nQ 51.078125 11.765625 44.234375 5.25 \nQ 37.40625 -1.265625 26.953125 -1.265625 \nQ 17.53125 -1.265625 11.296875 4.34375 \nQ 5.078125 9.96875 4.203125 18.890625 \nz\n\" id=\"ArialMT-51\"/>\n      </defs>\n      <g style=\"fill:#262626;\" transform=\"translate(203.579767 306.855562)scale(0.088 -0.088)\">\n       <use xlink:href=\"#ArialMT-40\"/>\n       <use x=\"33.300781\" xlink:href=\"#ArialMT-49\"/>\n       <use x=\"88.916016\" xlink:href=\"#ArialMT-57\"/>\n       <use x=\"144.53125\" xlink:href=\"#ArialMT-48\"/>\n       <use x=\"200.146484\" xlink:href=\"#ArialMT-48\"/>\n       <use x=\"255.761719\" xlink:href=\"#ArialMT-44\"/>\n       <use x=\"283.544922\" xlink:href=\"#ArialMT-32\"/>\n       <use x=\"311.328125\" xlink:href=\"#ArialMT-49\"/>\n       <use x=\"366.943359\" xlink:href=\"#ArialMT-57\"/>\n       <use x=\"422.558594\" xlink:href=\"#ArialMT-51\"/>\n       <use x=\"478.173828\" xlink:href=\"#ArialMT-48\"/>\n       <use x=\"533.789062\" xlink:href=\"#ArialMT-93\"/>\n      </g>\n     </g>\n    </g>\n    <g id=\"xtick_5\">\n     <g id=\"line2d_5\">\n      <g>\n       <use style=\"fill:#262626;stroke:#262626;\" x=\"279.013727\" xlink:href=\"#me920e2081b\" y=\"292.149437\"/>\n      </g>\n     </g>\n     <g id=\"text_5\">\n      <!-- (1930, 1945] -->\n      <defs>\n       <path d=\"M 32.328125 0 \nL 32.328125 17.140625 \nL 1.265625 17.140625 \nL 1.265625 25.203125 \nL 33.9375 71.578125 \nL 41.109375 71.578125 \nL 41.109375 25.203125 \nL 50.78125 25.203125 \nL 50.78125 17.140625 \nL 41.109375 17.140625 \nL 41.109375 0 \nz\nM 32.328125 25.203125 \nL 32.328125 57.46875 \nL 9.90625 25.203125 \nz\n\" id=\"ArialMT-52\"/>\n      </defs>\n      <g style=\"fill:#262626;\" transform=\"translate(254.30704 306.855562)scale(0.088 -0.088)\">\n       <use xlink:href=\"#ArialMT-40\"/>\n       <use x=\"33.300781\" xlink:href=\"#ArialMT-49\"/>\n       <use x=\"88.916016\" xlink:href=\"#ArialMT-57\"/>\n       <use x=\"144.53125\" xlink:href=\"#ArialMT-51\"/>\n       <use x=\"200.146484\" xlink:href=\"#ArialMT-48\"/>\n       <use x=\"255.761719\" xlink:href=\"#ArialMT-44\"/>\n       <use x=\"283.544922\" xlink:href=\"#ArialMT-32\"/>\n       <use x=\"311.328125\" xlink:href=\"#ArialMT-49\"/>\n       <use x=\"366.943359\" xlink:href=\"#ArialMT-57\"/>\n       <use x=\"422.558594\" xlink:href=\"#ArialMT-52\"/>\n       <use x=\"478.173828\" xlink:href=\"#ArialMT-53\"/>\n       <use x=\"533.789062\" xlink:href=\"#ArialMT-93\"/>\n      </g>\n     </g>\n    </g>\n    <g id=\"xtick_6\">\n     <g id=\"line2d_6\">\n      <g>\n       <use style=\"fill:#262626;stroke:#262626;\" x=\"329.741\" xlink:href=\"#me920e2081b\" y=\"292.149437\"/>\n      </g>\n     </g>\n     <g id=\"text_6\">\n      <!-- (1945, 1960] -->\n      <defs>\n       <path d=\"M 49.75 54.046875 \nL 41.015625 53.375 \nQ 39.84375 58.546875 37.703125 60.890625 \nQ 34.125 64.65625 28.90625 64.65625 \nQ 24.703125 64.65625 21.53125 62.3125 \nQ 17.390625 59.28125 14.984375 53.46875 \nQ 12.59375 47.65625 12.5 36.921875 \nQ 15.671875 41.75 20.265625 44.09375 \nQ 24.859375 46.4375 29.890625 46.4375 \nQ 38.671875 46.4375 44.84375 39.96875 \nQ 51.03125 33.5 51.03125 23.25 \nQ 51.03125 16.5 48.125 10.71875 \nQ 45.21875 4.9375 40.140625 1.859375 \nQ 35.0625 -1.21875 28.609375 -1.21875 \nQ 17.625 -1.21875 10.6875 6.859375 \nQ 3.765625 14.9375 3.765625 33.5 \nQ 3.765625 54.25 11.421875 63.671875 \nQ 18.109375 71.875 29.4375 71.875 \nQ 37.890625 71.875 43.28125 67.140625 \nQ 48.6875 62.40625 49.75 54.046875 \nz\nM 13.875 23.1875 \nQ 13.875 18.65625 15.796875 14.5 \nQ 17.71875 10.359375 21.1875 8.171875 \nQ 24.65625 6 28.46875 6 \nQ 34.03125 6 38.03125 10.484375 \nQ 42.046875 14.984375 42.046875 22.703125 \nQ 42.046875 30.125 38.078125 34.390625 \nQ 34.125 38.671875 28.125 38.671875 \nQ 22.171875 38.671875 18.015625 34.390625 \nQ 13.875 30.125 13.875 23.1875 \nz\n\" id=\"ArialMT-54\"/>\n      </defs>\n      <g style=\"fill:#262626;\" transform=\"translate(305.034312 306.855562)scale(0.088 -0.088)\">\n       <use xlink:href=\"#ArialMT-40\"/>\n       <use x=\"33.300781\" xlink:href=\"#ArialMT-49\"/>\n       <use x=\"88.916016\" xlink:href=\"#ArialMT-57\"/>\n       <use x=\"144.53125\" xlink:href=\"#ArialMT-52\"/>\n       <use x=\"200.146484\" xlink:href=\"#ArialMT-53\"/>\n       <use x=\"255.761719\" xlink:href=\"#ArialMT-44\"/>\n       <use x=\"283.544922\" xlink:href=\"#ArialMT-32\"/>\n       <use x=\"311.328125\" xlink:href=\"#ArialMT-49\"/>\n       <use x=\"366.943359\" xlink:href=\"#ArialMT-57\"/>\n       <use x=\"422.558594\" xlink:href=\"#ArialMT-54\"/>\n       <use x=\"478.173828\" xlink:href=\"#ArialMT-48\"/>\n       <use x=\"533.789062\" xlink:href=\"#ArialMT-93\"/>\n      </g>\n     </g>\n    </g>\n    <g id=\"xtick_7\">\n     <g id=\"line2d_7\">\n      <g>\n       <use style=\"fill:#262626;stroke:#262626;\" x=\"380.468273\" xlink:href=\"#me920e2081b\" y=\"292.149437\"/>\n      </g>\n     </g>\n     <g id=\"text_7\">\n      <!-- (1960, 1975] -->\n      <defs>\n       <path d=\"M 4.734375 62.203125 \nL 4.734375 70.65625 \nL 51.078125 70.65625 \nL 51.078125 63.8125 \nQ 44.234375 56.546875 37.515625 44.484375 \nQ 30.8125 32.421875 27.15625 19.671875 \nQ 24.515625 10.6875 23.78125 0 \nL 14.75 0 \nQ 14.890625 8.453125 18.0625 20.40625 \nQ 21.234375 32.375 27.171875 43.484375 \nQ 33.109375 54.59375 39.796875 62.203125 \nz\n\" id=\"ArialMT-55\"/>\n      </defs>\n      <g style=\"fill:#262626;\" transform=\"translate(355.761585 306.855562)scale(0.088 -0.088)\">\n       <use xlink:href=\"#ArialMT-40\"/>\n       <use x=\"33.300781\" xlink:href=\"#ArialMT-49\"/>\n       <use x=\"88.916016\" xlink:href=\"#ArialMT-57\"/>\n       <use x=\"144.53125\" xlink:href=\"#ArialMT-54\"/>\n       <use x=\"200.146484\" xlink:href=\"#ArialMT-48\"/>\n       <use x=\"255.761719\" xlink:href=\"#ArialMT-44\"/>\n       <use x=\"283.544922\" xlink:href=\"#ArialMT-32\"/>\n       <use x=\"311.328125\" xlink:href=\"#ArialMT-49\"/>\n       <use x=\"366.943359\" xlink:href=\"#ArialMT-57\"/>\n       <use x=\"422.558594\" xlink:href=\"#ArialMT-55\"/>\n       <use x=\"478.173828\" xlink:href=\"#ArialMT-53\"/>\n       <use x=\"533.789062\" xlink:href=\"#ArialMT-93\"/>\n      </g>\n     </g>\n    </g>\n    <g id=\"xtick_8\">\n     <g id=\"line2d_8\">\n      <g>\n       <use style=\"fill:#262626;stroke:#262626;\" x=\"431.195545\" xlink:href=\"#me920e2081b\" y=\"292.149437\"/>\n      </g>\n     </g>\n     <g id=\"text_8\">\n      <!-- (1975, 1985] -->\n      <g style=\"fill:#262626;\" transform=\"translate(406.488858 306.855562)scale(0.088 -0.088)\">\n       <use xlink:href=\"#ArialMT-40\"/>\n       <use x=\"33.300781\" xlink:href=\"#ArialMT-49\"/>\n       <use x=\"88.916016\" xlink:href=\"#ArialMT-57\"/>\n       <use x=\"144.53125\" xlink:href=\"#ArialMT-55\"/>\n       <use x=\"200.146484\" xlink:href=\"#ArialMT-53\"/>\n       <use x=\"255.761719\" xlink:href=\"#ArialMT-44\"/>\n       <use x=\"283.544922\" xlink:href=\"#ArialMT-32\"/>\n       <use x=\"311.328125\" xlink:href=\"#ArialMT-49\"/>\n       <use x=\"366.943359\" xlink:href=\"#ArialMT-57\"/>\n       <use x=\"422.558594\" xlink:href=\"#ArialMT-56\"/>\n       <use x=\"478.173828\" xlink:href=\"#ArialMT-53\"/>\n       <use x=\"533.789062\" xlink:href=\"#ArialMT-93\"/>\n      </g>\n     </g>\n    </g>\n    <g id=\"xtick_9\">\n     <g id=\"line2d_9\">\n      <g>\n       <use style=\"fill:#262626;stroke:#262626;\" x=\"481.922818\" xlink:href=\"#me920e2081b\" y=\"292.149437\"/>\n      </g>\n     </g>\n     <g id=\"text_9\">\n      <!-- (1985, 1995] -->\n      <g style=\"fill:#262626;\" transform=\"translate(457.216131 306.855562)scale(0.088 -0.088)\">\n       <use xlink:href=\"#ArialMT-40\"/>\n       <use x=\"33.300781\" xlink:href=\"#ArialMT-49\"/>\n       <use x=\"88.916016\" xlink:href=\"#ArialMT-57\"/>\n       <use x=\"144.53125\" xlink:href=\"#ArialMT-56\"/>\n       <use x=\"200.146484\" xlink:href=\"#ArialMT-53\"/>\n       <use x=\"255.761719\" xlink:href=\"#ArialMT-44\"/>\n       <use x=\"283.544922\" xlink:href=\"#ArialMT-32\"/>\n       <use x=\"311.328125\" xlink:href=\"#ArialMT-49\"/>\n       <use x=\"366.943359\" xlink:href=\"#ArialMT-57\"/>\n       <use x=\"422.558594\" xlink:href=\"#ArialMT-57\"/>\n       <use x=\"478.173828\" xlink:href=\"#ArialMT-53\"/>\n       <use x=\"533.789062\" xlink:href=\"#ArialMT-93\"/>\n      </g>\n     </g>\n    </g>\n    <g id=\"xtick_10\">\n     <g id=\"line2d_10\">\n      <g>\n       <use style=\"fill:#262626;stroke:#262626;\" x=\"532.650091\" xlink:href=\"#me920e2081b\" y=\"292.149437\"/>\n      </g>\n     </g>\n     <g id=\"text_10\">\n      <!-- (1995, 2005] -->\n      <defs>\n       <path d=\"M 50.34375 8.453125 \nL 50.34375 0 \nL 3.03125 0 \nQ 2.9375 3.171875 4.046875 6.109375 \nQ 5.859375 10.9375 9.828125 15.625 \nQ 13.8125 20.3125 21.34375 26.46875 \nQ 33.015625 36.03125 37.109375 41.625 \nQ 41.21875 47.21875 41.21875 52.203125 \nQ 41.21875 57.421875 37.46875 61 \nQ 33.734375 64.59375 27.734375 64.59375 \nQ 21.390625 64.59375 17.578125 60.78125 \nQ 13.765625 56.984375 13.71875 50.25 \nL 4.6875 51.171875 \nQ 5.609375 61.28125 11.65625 66.578125 \nQ 17.71875 71.875 27.9375 71.875 \nQ 38.234375 71.875 44.234375 66.15625 \nQ 50.25 60.453125 50.25 52 \nQ 50.25 47.703125 48.484375 43.546875 \nQ 46.734375 39.40625 42.65625 34.8125 \nQ 38.578125 30.21875 29.109375 22.21875 \nQ 21.1875 15.578125 18.9375 13.203125 \nQ 16.703125 10.84375 15.234375 8.453125 \nz\n\" id=\"ArialMT-50\"/>\n      </defs>\n      <g style=\"fill:#262626;\" transform=\"translate(507.943403 306.855562)scale(0.088 -0.088)\">\n       <use xlink:href=\"#ArialMT-40\"/>\n       <use x=\"33.300781\" xlink:href=\"#ArialMT-49\"/>\n       <use x=\"88.916016\" xlink:href=\"#ArialMT-57\"/>\n       <use x=\"144.53125\" xlink:href=\"#ArialMT-57\"/>\n       <use x=\"200.146484\" xlink:href=\"#ArialMT-53\"/>\n       <use x=\"255.761719\" xlink:href=\"#ArialMT-44\"/>\n       <use x=\"283.544922\" xlink:href=\"#ArialMT-32\"/>\n       <use x=\"311.328125\" xlink:href=\"#ArialMT-50\"/>\n       <use x=\"366.943359\" xlink:href=\"#ArialMT-48\"/>\n       <use x=\"422.558594\" xlink:href=\"#ArialMT-48\"/>\n       <use x=\"478.173828\" xlink:href=\"#ArialMT-53\"/>\n       <use x=\"533.789062\" xlink:href=\"#ArialMT-93\"/>\n      </g>\n     </g>\n    </g>\n    <g id=\"xtick_11\">\n     <g id=\"line2d_11\">\n      <g>\n       <use style=\"fill:#262626;stroke:#262626;\" x=\"583.377364\" xlink:href=\"#me920e2081b\" y=\"292.149437\"/>\n      </g>\n     </g>\n     <g id=\"text_11\">\n      <!-- (2005, 2020] -->\n      <g style=\"fill:#262626;\" transform=\"translate(558.670676 306.855562)scale(0.088 -0.088)\">\n       <use xlink:href=\"#ArialMT-40\"/>\n       <use x=\"33.300781\" xlink:href=\"#ArialMT-50\"/>\n       <use x=\"88.916016\" xlink:href=\"#ArialMT-48\"/>\n       <use x=\"144.53125\" xlink:href=\"#ArialMT-48\"/>\n       <use x=\"200.146484\" xlink:href=\"#ArialMT-53\"/>\n       <use x=\"255.761719\" xlink:href=\"#ArialMT-44\"/>\n       <use x=\"283.544922\" xlink:href=\"#ArialMT-32\"/>\n       <use x=\"311.328125\" xlink:href=\"#ArialMT-50\"/>\n       <use x=\"366.943359\" xlink:href=\"#ArialMT-48\"/>\n       <use x=\"422.558594\" xlink:href=\"#ArialMT-50\"/>\n       <use x=\"478.173828\" xlink:href=\"#ArialMT-48\"/>\n       <use x=\"533.789062\" xlink:href=\"#ArialMT-93\"/>\n      </g>\n     </g>\n    </g>\n    <g id=\"text_12\">\n     <!-- historical period -->\n     <defs>\n      <path d=\"M 6.59375 0 \nL 6.59375 71.578125 \nL 15.375 71.578125 \nL 15.375 45.90625 \nQ 21.53125 53.03125 30.90625 53.03125 \nQ 36.671875 53.03125 40.921875 50.75 \nQ 45.171875 48.484375 47 44.484375 \nQ 48.828125 40.484375 48.828125 32.859375 \nL 48.828125 0 \nL 40.046875 0 \nL 40.046875 32.859375 \nQ 40.046875 39.453125 37.1875 42.453125 \nQ 34.328125 45.453125 29.109375 45.453125 \nQ 25.203125 45.453125 21.75 43.421875 \nQ 18.3125 41.40625 16.84375 37.9375 \nQ 15.375 34.46875 15.375 28.375 \nL 15.375 0 \nz\n\" id=\"ArialMT-104\"/>\n      <path d=\"M 6.640625 61.46875 \nL 6.640625 71.578125 \nL 15.4375 71.578125 \nL 15.4375 61.46875 \nz\nM 6.640625 0 \nL 6.640625 51.859375 \nL 15.4375 51.859375 \nL 15.4375 0 \nz\n\" id=\"ArialMT-105\"/>\n      <path d=\"M 3.078125 15.484375 \nL 11.765625 16.84375 \nQ 12.5 11.625 15.84375 8.84375 \nQ 19.1875 6.0625 25.203125 6.0625 \nQ 31.25 6.0625 34.171875 8.515625 \nQ 37.109375 10.984375 37.109375 14.3125 \nQ 37.109375 17.28125 34.515625 19 \nQ 32.71875 20.171875 25.53125 21.96875 \nQ 15.875 24.421875 12.140625 26.203125 \nQ 8.40625 27.984375 6.46875 31.125 \nQ 4.546875 34.28125 4.546875 38.09375 \nQ 4.546875 41.546875 6.125 44.5 \nQ 7.71875 47.46875 10.453125 49.421875 \nQ 12.5 50.921875 16.03125 51.96875 \nQ 19.578125 53.03125 23.640625 53.03125 \nQ 29.734375 53.03125 34.34375 51.265625 \nQ 38.96875 49.515625 41.15625 46.5 \nQ 43.359375 43.5 44.1875 38.484375 \nL 35.59375 37.3125 \nQ 35.015625 41.3125 32.203125 43.546875 \nQ 29.390625 45.796875 24.265625 45.796875 \nQ 18.21875 45.796875 15.625 43.796875 \nQ 13.03125 41.796875 13.03125 39.109375 \nQ 13.03125 37.40625 14.109375 36.03125 \nQ 15.1875 34.625 17.484375 33.6875 \nQ 18.796875 33.203125 25.25 31.453125 \nQ 34.578125 28.953125 38.25 27.359375 \nQ 41.9375 25.78125 44.03125 22.75 \nQ 46.140625 19.734375 46.140625 15.234375 \nQ 46.140625 10.84375 43.578125 6.953125 \nQ 41.015625 3.078125 36.171875 0.953125 \nQ 31.34375 -1.171875 25.25 -1.171875 \nQ 15.140625 -1.171875 9.84375 3.03125 \nQ 4.546875 7.234375 3.078125 15.484375 \nz\n\" id=\"ArialMT-115\"/>\n      <path d=\"M 25.78125 7.859375 \nL 27.046875 0.09375 \nQ 23.34375 -0.6875 20.40625 -0.6875 \nQ 15.625 -0.6875 12.984375 0.828125 \nQ 10.359375 2.34375 9.28125 4.8125 \nQ 8.203125 7.28125 8.203125 15.1875 \nL 8.203125 45.015625 \nL 1.765625 45.015625 \nL 1.765625 51.859375 \nL 8.203125 51.859375 \nL 8.203125 64.703125 \nL 16.9375 69.96875 \nL 16.9375 51.859375 \nL 25.78125 51.859375 \nL 25.78125 45.015625 \nL 16.9375 45.015625 \nL 16.9375 14.703125 \nQ 16.9375 10.9375 17.40625 9.859375 \nQ 17.875 8.796875 18.921875 8.15625 \nQ 19.96875 7.515625 21.921875 7.515625 \nQ 23.390625 7.515625 25.78125 7.859375 \nz\n\" id=\"ArialMT-116\"/>\n      <path d=\"M 3.328125 25.921875 \nQ 3.328125 40.328125 11.328125 47.265625 \nQ 18.015625 53.03125 27.640625 53.03125 \nQ 38.328125 53.03125 45.109375 46.015625 \nQ 51.90625 39.015625 51.90625 26.65625 \nQ 51.90625 16.65625 48.90625 10.90625 \nQ 45.90625 5.171875 40.15625 2 \nQ 34.421875 -1.171875 27.640625 -1.171875 \nQ 16.75 -1.171875 10.03125 5.8125 \nQ 3.328125 12.796875 3.328125 25.921875 \nz\nM 12.359375 25.921875 \nQ 12.359375 15.96875 16.703125 11.015625 \nQ 21.046875 6.0625 27.640625 6.0625 \nQ 34.1875 6.0625 38.53125 11.03125 \nQ 42.875 16.015625 42.875 26.21875 \nQ 42.875 35.84375 38.5 40.796875 \nQ 34.125 45.75 27.640625 45.75 \nQ 21.046875 45.75 16.703125 40.8125 \nQ 12.359375 35.890625 12.359375 25.921875 \nz\n\" id=\"ArialMT-111\"/>\n      <path d=\"M 6.5 0 \nL 6.5 51.859375 \nL 14.40625 51.859375 \nL 14.40625 44 \nQ 17.4375 49.515625 20 51.265625 \nQ 22.5625 53.03125 25.640625 53.03125 \nQ 30.078125 53.03125 34.671875 50.203125 \nL 31.640625 42.046875 \nQ 28.421875 43.953125 25.203125 43.953125 \nQ 22.3125 43.953125 20.015625 42.21875 \nQ 17.71875 40.484375 16.75 37.40625 \nQ 15.28125 32.71875 15.28125 27.15625 \nL 15.28125 0 \nz\n\" id=\"ArialMT-114\"/>\n      <path d=\"M 40.4375 19 \nL 49.078125 17.875 \nQ 47.65625 8.9375 41.8125 3.875 \nQ 35.984375 -1.171875 27.484375 -1.171875 \nQ 16.84375 -1.171875 10.375 5.78125 \nQ 3.90625 12.75 3.90625 25.734375 \nQ 3.90625 34.125 6.6875 40.421875 \nQ 9.46875 46.734375 15.15625 49.875 \nQ 20.84375 53.03125 27.546875 53.03125 \nQ 35.984375 53.03125 41.359375 48.75 \nQ 46.734375 44.484375 48.25 36.625 \nL 39.703125 35.296875 \nQ 38.484375 40.53125 35.375 43.15625 \nQ 32.28125 45.796875 27.875 45.796875 \nQ 21.234375 45.796875 17.078125 41.03125 \nQ 12.9375 36.28125 12.9375 25.984375 \nQ 12.9375 15.53125 16.9375 10.796875 \nQ 20.953125 6.0625 27.390625 6.0625 \nQ 32.5625 6.0625 36.03125 9.234375 \nQ 39.5 12.40625 40.4375 19 \nz\n\" id=\"ArialMT-99\"/>\n      <path d=\"M 40.4375 6.390625 \nQ 35.546875 2.25 31.03125 0.53125 \nQ 26.515625 -1.171875 21.34375 -1.171875 \nQ 12.796875 -1.171875 8.203125 3 \nQ 3.609375 7.171875 3.609375 13.671875 \nQ 3.609375 17.484375 5.34375 20.625 \nQ 7.078125 23.78125 9.890625 25.6875 \nQ 12.703125 27.59375 16.21875 28.5625 \nQ 18.796875 29.25 24.03125 29.890625 \nQ 34.671875 31.15625 39.703125 32.90625 \nQ 39.75 34.71875 39.75 35.203125 \nQ 39.75 40.578125 37.25 42.78125 \nQ 33.890625 45.75 27.25 45.75 \nQ 21.046875 45.75 18.09375 43.578125 \nQ 15.140625 41.40625 13.71875 35.890625 \nL 5.125 37.0625 \nQ 6.296875 42.578125 8.984375 45.96875 \nQ 11.671875 49.359375 16.75 51.1875 \nQ 21.828125 53.03125 28.515625 53.03125 \nQ 35.15625 53.03125 39.296875 51.46875 \nQ 43.453125 49.90625 45.40625 47.53125 \nQ 47.359375 45.171875 48.140625 41.546875 \nQ 48.578125 39.3125 48.578125 33.453125 \nL 48.578125 21.734375 \nQ 48.578125 9.46875 49.140625 6.21875 \nQ 49.703125 2.984375 51.375 0 \nL 42.1875 0 \nQ 40.828125 2.734375 40.4375 6.390625 \nz\nM 39.703125 26.03125 \nQ 34.90625 24.078125 25.34375 22.703125 \nQ 19.921875 21.921875 17.671875 20.9375 \nQ 15.4375 19.96875 14.203125 18.09375 \nQ 12.984375 16.21875 12.984375 13.921875 \nQ 12.984375 10.40625 15.640625 8.0625 \nQ 18.3125 5.71875 23.4375 5.71875 \nQ 28.515625 5.71875 32.46875 7.9375 \nQ 36.421875 10.15625 38.28125 14.015625 \nQ 39.703125 17 39.703125 22.796875 \nz\n\" id=\"ArialMT-97\"/>\n      <path d=\"M 6.390625 0 \nL 6.390625 71.578125 \nL 15.1875 71.578125 \nL 15.1875 0 \nz\n\" id=\"ArialMT-108\"/>\n      <path d=\"M 6.59375 -19.875 \nL 6.59375 51.859375 \nL 14.59375 51.859375 \nL 14.59375 45.125 \nQ 17.4375 49.078125 21 51.046875 \nQ 24.5625 53.03125 29.640625 53.03125 \nQ 36.28125 53.03125 41.359375 49.609375 \nQ 46.4375 46.1875 49.015625 39.953125 \nQ 51.609375 33.734375 51.609375 26.3125 \nQ 51.609375 18.359375 48.75 11.984375 \nQ 45.90625 5.609375 40.453125 2.21875 \nQ 35.015625 -1.171875 29 -1.171875 \nQ 24.609375 -1.171875 21.109375 0.6875 \nQ 17.625 2.546875 15.375 5.375 \nL 15.375 -19.875 \nz\nM 14.546875 25.640625 \nQ 14.546875 15.625 18.59375 10.84375 \nQ 22.65625 6.0625 28.421875 6.0625 \nQ 34.28125 6.0625 38.453125 11.015625 \nQ 42.625 15.96875 42.625 26.375 \nQ 42.625 36.28125 38.546875 41.203125 \nQ 34.46875 46.140625 28.8125 46.140625 \nQ 23.1875 46.140625 18.859375 40.890625 \nQ 14.546875 35.640625 14.546875 25.640625 \nz\n\" id=\"ArialMT-112\"/>\n      <path d=\"M 42.09375 16.703125 \nL 51.171875 15.578125 \nQ 49.03125 7.625 43.21875 3.21875 \nQ 37.40625 -1.171875 28.375 -1.171875 \nQ 17 -1.171875 10.328125 5.828125 \nQ 3.65625 12.84375 3.65625 25.484375 \nQ 3.65625 38.578125 10.390625 45.796875 \nQ 17.140625 53.03125 27.875 53.03125 \nQ 38.28125 53.03125 44.875 45.953125 \nQ 51.46875 38.875 51.46875 26.03125 \nQ 51.46875 25.25 51.421875 23.6875 \nL 12.75 23.6875 \nQ 13.234375 15.140625 17.578125 10.59375 \nQ 21.921875 6.0625 28.421875 6.0625 \nQ 33.25 6.0625 36.671875 8.59375 \nQ 40.09375 11.140625 42.09375 16.703125 \nz\nM 13.234375 30.90625 \nL 42.1875 30.90625 \nQ 41.609375 37.453125 38.875 40.71875 \nQ 34.671875 45.796875 27.984375 45.796875 \nQ 21.921875 45.796875 17.796875 41.75 \nQ 13.671875 37.703125 13.234375 30.90625 \nz\n\" id=\"ArialMT-101\"/>\n      <path d=\"M 40.234375 0 \nL 40.234375 6.546875 \nQ 35.296875 -1.171875 25.734375 -1.171875 \nQ 19.53125 -1.171875 14.328125 2.25 \nQ 9.125 5.671875 6.265625 11.796875 \nQ 3.421875 17.921875 3.421875 25.875 \nQ 3.421875 33.640625 6 39.96875 \nQ 8.59375 46.296875 13.765625 49.65625 \nQ 18.953125 53.03125 25.34375 53.03125 \nQ 30.03125 53.03125 33.6875 51.046875 \nQ 37.359375 49.078125 39.65625 45.90625 \nL 39.65625 71.578125 \nL 48.390625 71.578125 \nL 48.390625 0 \nz\nM 12.453125 25.875 \nQ 12.453125 15.921875 16.640625 10.984375 \nQ 20.84375 6.0625 26.5625 6.0625 \nQ 32.328125 6.0625 36.34375 10.765625 \nQ 40.375 15.484375 40.375 25.140625 \nQ 40.375 35.796875 36.265625 40.765625 \nQ 32.171875 45.75 26.171875 45.75 \nQ 20.3125 45.75 16.375 40.96875 \nQ 12.453125 36.1875 12.453125 25.875 \nz\n\" id=\"ArialMT-100\"/>\n     </defs>\n     <g style=\"fill:#262626;\" transform=\"translate(296.12675 319.579187)scale(0.096 -0.096)\">\n      <use xlink:href=\"#ArialMT-104\"/>\n      <use x=\"55.615234\" xlink:href=\"#ArialMT-105\"/>\n      <use x=\"77.832031\" xlink:href=\"#ArialMT-115\"/>\n      <use x=\"127.832031\" xlink:href=\"#ArialMT-116\"/>\n      <use x=\"155.615234\" xlink:href=\"#ArialMT-111\"/>\n      <use x=\"211.230469\" xlink:href=\"#ArialMT-114\"/>\n      <use x=\"244.53125\" xlink:href=\"#ArialMT-105\"/>\n      <use x=\"266.748047\" xlink:href=\"#ArialMT-99\"/>\n      <use x=\"316.748047\" xlink:href=\"#ArialMT-97\"/>\n      <use x=\"372.363281\" xlink:href=\"#ArialMT-108\"/>\n      <use x=\"394.580078\" xlink:href=\"#ArialMT-32\"/>\n      <use x=\"422.363281\" xlink:href=\"#ArialMT-112\"/>\n      <use x=\"477.978516\" xlink:href=\"#ArialMT-101\"/>\n      <use x=\"533.59375\" xlink:href=\"#ArialMT-114\"/>\n      <use x=\"566.894531\" xlink:href=\"#ArialMT-105\"/>\n      <use x=\"589.111328\" xlink:href=\"#ArialMT-111\"/>\n      <use x=\"644.726562\" xlink:href=\"#ArialMT-100\"/>\n     </g>\n    </g>\n   </g>\n   <g id=\"matplotlib.axis_2\">\n    <g id=\"ytick_1\">\n     <g id=\"line2d_12\">\n      <defs>\n       <path d=\"M 0 0 \nL -4.8 0 \n\" id=\"m24c6e1d586\" style=\"stroke:#262626;\"/>\n      </defs>\n      <g>\n       <use style=\"fill:#262626;stroke:#262626;\" x=\"40.741\" xlink:href=\"#m24c6e1d586\" y=\"282.149437\"/>\n      </g>\n     </g>\n     <g id=\"text_13\">\n      <!-- 0.0 -->\n      <defs>\n       <path d=\"M 9.078125 0 \nL 9.078125 10.015625 \nL 19.09375 10.015625 \nL 19.09375 0 \nz\n\" id=\"ArialMT-46\"/>\n      </defs>\n      <g style=\"fill:#262626;\" transform=\"translate(20.209 285.298875)scale(0.088 -0.088)\">\n       <use xlink:href=\"#ArialMT-48\"/>\n       <use x=\"55.615234\" xlink:href=\"#ArialMT-46\"/>\n       <use x=\"83.398438\" xlink:href=\"#ArialMT-48\"/>\n      </g>\n     </g>\n    </g>\n    <g id=\"ytick_2\">\n     <g id=\"line2d_13\">\n      <g>\n       <use style=\"fill:#262626;stroke:#262626;\" x=\"40.741\" xlink:href=\"#m24c6e1d586\" y=\"227.789437\"/>\n      </g>\n     </g>\n     <g id=\"text_14\">\n      <!-- 0.2 -->\n      <g style=\"fill:#262626;\" transform=\"translate(20.209 230.938875)scale(0.088 -0.088)\">\n       <use xlink:href=\"#ArialMT-48\"/>\n       <use x=\"55.615234\" xlink:href=\"#ArialMT-46\"/>\n       <use x=\"83.398438\" xlink:href=\"#ArialMT-50\"/>\n      </g>\n     </g>\n    </g>\n    <g id=\"ytick_3\">\n     <g id=\"line2d_14\">\n      <g>\n       <use style=\"fill:#262626;stroke:#262626;\" x=\"40.741\" xlink:href=\"#m24c6e1d586\" y=\"173.429437\"/>\n      </g>\n     </g>\n     <g id=\"text_15\">\n      <!-- 0.4 -->\n      <g style=\"fill:#262626;\" transform=\"translate(20.209 176.578875)scale(0.088 -0.088)\">\n       <use xlink:href=\"#ArialMT-48\"/>\n       <use x=\"55.615234\" xlink:href=\"#ArialMT-46\"/>\n       <use x=\"83.398438\" xlink:href=\"#ArialMT-52\"/>\n      </g>\n     </g>\n    </g>\n    <g id=\"ytick_4\">\n     <g id=\"line2d_15\">\n      <g>\n       <use style=\"fill:#262626;stroke:#262626;\" x=\"40.741\" xlink:href=\"#m24c6e1d586\" y=\"119.069437\"/>\n      </g>\n     </g>\n     <g id=\"text_16\">\n      <!-- 0.6 -->\n      <g style=\"fill:#262626;\" transform=\"translate(20.209 122.218875)scale(0.088 -0.088)\">\n       <use xlink:href=\"#ArialMT-48\"/>\n       <use x=\"55.615234\" xlink:href=\"#ArialMT-46\"/>\n       <use x=\"83.398438\" xlink:href=\"#ArialMT-54\"/>\n      </g>\n     </g>\n    </g>\n    <g id=\"ytick_5\">\n     <g id=\"line2d_16\">\n      <g>\n       <use style=\"fill:#262626;stroke:#262626;\" x=\"40.741\" xlink:href=\"#m24c6e1d586\" y=\"64.709437\"/>\n      </g>\n     </g>\n     <g id=\"text_17\">\n      <!-- 0.8 -->\n      <g style=\"fill:#262626;\" transform=\"translate(20.209 67.858875)scale(0.088 -0.088)\">\n       <use xlink:href=\"#ArialMT-48\"/>\n       <use x=\"55.615234\" xlink:href=\"#ArialMT-46\"/>\n       <use x=\"83.398438\" xlink:href=\"#ArialMT-56\"/>\n      </g>\n     </g>\n    </g>\n    <g id=\"ytick_6\">\n     <g id=\"line2d_17\">\n      <g>\n       <use style=\"fill:#262626;stroke:#262626;\" x=\"40.741\" xlink:href=\"#m24c6e1d586\" y=\"10.349437\"/>\n      </g>\n     </g>\n     <g id=\"text_18\">\n      <!-- 1.0 -->\n      <g style=\"fill:#262626;\" transform=\"translate(20.209 13.498875)scale(0.088 -0.088)\">\n       <use xlink:href=\"#ArialMT-49\"/>\n       <use x=\"55.615234\" xlink:href=\"#ArialMT-46\"/>\n       <use x=\"83.398438\" xlink:href=\"#ArialMT-48\"/>\n      </g>\n     </g>\n    </g>\n    <g id=\"text_19\">\n     <!-- frequency -->\n     <defs>\n      <path d=\"M 8.6875 0 \nL 8.6875 45.015625 \nL 0.921875 45.015625 \nL 0.921875 51.859375 \nL 8.6875 51.859375 \nL 8.6875 57.375 \nQ 8.6875 62.59375 9.625 65.140625 \nQ 10.890625 68.5625 14.078125 70.671875 \nQ 17.28125 72.796875 23.046875 72.796875 \nQ 26.765625 72.796875 31.25 71.921875 \nL 29.9375 64.265625 \nQ 27.203125 64.75 24.75 64.75 \nQ 20.75 64.75 19.09375 63.03125 \nQ 17.4375 61.328125 17.4375 56.640625 \nL 17.4375 51.859375 \nL 27.546875 51.859375 \nL 27.546875 45.015625 \nL 17.4375 45.015625 \nL 17.4375 0 \nz\n\" id=\"ArialMT-102\"/>\n      <path d=\"M 39.65625 -19.875 \nL 39.65625 5.515625 \nQ 37.59375 2.640625 33.90625 0.734375 \nQ 30.21875 -1.171875 26.078125 -1.171875 \nQ 16.84375 -1.171875 10.171875 6.203125 \nQ 3.515625 13.578125 3.515625 26.421875 \nQ 3.515625 34.234375 6.21875 40.421875 \nQ 8.9375 46.625 14.078125 49.828125 \nQ 19.234375 53.03125 25.390625 53.03125 \nQ 35.015625 53.03125 40.53125 44.921875 \nL 40.53125 51.859375 \nL 48.4375 51.859375 \nL 48.4375 -19.875 \nz\nM 12.546875 26.078125 \nQ 12.546875 16.0625 16.75 11.0625 \nQ 20.953125 6.0625 26.8125 6.0625 \nQ 32.421875 6.0625 36.46875 10.8125 \nQ 40.53125 15.578125 40.53125 25.296875 \nQ 40.53125 35.640625 36.25 40.859375 \nQ 31.984375 46.09375 26.21875 46.09375 \nQ 20.515625 46.09375 16.53125 41.234375 \nQ 12.546875 36.375 12.546875 26.078125 \nz\n\" id=\"ArialMT-113\"/>\n      <path d=\"M 40.578125 0 \nL 40.578125 7.625 \nQ 34.515625 -1.171875 24.125 -1.171875 \nQ 19.53125 -1.171875 15.546875 0.578125 \nQ 11.578125 2.34375 9.640625 5 \nQ 7.71875 7.671875 6.9375 11.53125 \nQ 6.390625 14.109375 6.390625 19.734375 \nL 6.390625 51.859375 \nL 15.1875 51.859375 \nL 15.1875 23.09375 \nQ 15.1875 16.21875 15.71875 13.8125 \nQ 16.546875 10.359375 19.234375 8.375 \nQ 21.921875 6.390625 25.875 6.390625 \nQ 29.828125 6.390625 33.296875 8.421875 \nQ 36.765625 10.453125 38.203125 13.9375 \nQ 39.65625 17.4375 39.65625 24.078125 \nL 39.65625 51.859375 \nL 48.4375 51.859375 \nL 48.4375 0 \nz\n\" id=\"ArialMT-117\"/>\n      <path d=\"M 6.59375 0 \nL 6.59375 51.859375 \nL 14.5 51.859375 \nL 14.5 44.484375 \nQ 20.21875 53.03125 31 53.03125 \nQ 35.6875 53.03125 39.625 51.34375 \nQ 43.5625 49.65625 45.515625 46.921875 \nQ 47.46875 44.1875 48.25 40.4375 \nQ 48.734375 37.984375 48.734375 31.890625 \nL 48.734375 0 \nL 39.9375 0 \nL 39.9375 31.546875 \nQ 39.9375 36.921875 38.90625 39.578125 \nQ 37.890625 42.234375 35.28125 43.8125 \nQ 32.671875 45.40625 29.15625 45.40625 \nQ 23.53125 45.40625 19.453125 41.84375 \nQ 15.375 38.28125 15.375 28.328125 \nL 15.375 0 \nz\n\" id=\"ArialMT-110\"/>\n      <path d=\"M 6.203125 -19.96875 \nL 5.21875 -11.71875 \nQ 8.109375 -12.5 10.25 -12.5 \nQ 13.1875 -12.5 14.9375 -11.515625 \nQ 16.703125 -10.546875 17.828125 -8.796875 \nQ 18.65625 -7.46875 20.515625 -2.25 \nQ 20.75 -1.515625 21.296875 -0.09375 \nL 1.609375 51.859375 \nL 11.078125 51.859375 \nL 21.875 21.828125 \nQ 23.96875 16.109375 25.640625 9.8125 \nQ 27.15625 15.875 29.25 21.625 \nL 40.328125 51.859375 \nL 49.125 51.859375 \nL 29.390625 -0.875 \nQ 26.21875 -9.421875 24.46875 -12.640625 \nQ 22.125 -17 19.09375 -19.015625 \nQ 16.0625 -21.046875 11.859375 -21.046875 \nQ 9.328125 -21.046875 6.203125 -19.96875 \nz\n\" id=\"ArialMT-121\"/>\n     </defs>\n     <g style=\"fill:#262626;\" transform=\"translate(14.1885 167.327437)rotate(-90)scale(0.096 -0.096)\">\n      <use xlink:href=\"#ArialMT-102\"/>\n      <use x=\"27.783203\" xlink:href=\"#ArialMT-114\"/>\n      <use x=\"61.083984\" xlink:href=\"#ArialMT-101\"/>\n      <use x=\"116.699219\" xlink:href=\"#ArialMT-113\"/>\n      <use x=\"172.314453\" xlink:href=\"#ArialMT-117\"/>\n      <use x=\"227.929688\" xlink:href=\"#ArialMT-101\"/>\n      <use x=\"283.544922\" xlink:href=\"#ArialMT-110\"/>\n      <use x=\"339.160156\" xlink:href=\"#ArialMT-99\"/>\n      <use x=\"389.160156\" xlink:href=\"#ArialMT-121\"/>\n     </g>\n    </g>\n   </g>\n   <g id=\"patch_3\">\n    <path clip-path=\"url(#p4cbffb6cff)\" d=\"M 55.813727 282.149437 \nL 96.395545 282.149437 \nL 96.395545 278.963423 \nL 55.813727 278.963423 \nz\n\" style=\"fill:#304269;\"/>\n   </g>\n   <g id=\"patch_4\">\n    <path clip-path=\"url(#p4cbffb6cff)\" d=\"M 106.541 282.149437 \nL 147.122818 282.149437 \nL 147.122818 281.490262 \nL 106.541 281.490262 \nz\n\" style=\"fill:#8e99b0;\"/>\n   </g>\n   <g id=\"patch_5\">\n    <path clip-path=\"url(#p4cbffb6cff)\" d=\"M 157.268273 282.149437 \nL 197.850091 282.149437 \nL 197.850091 276.656309 \nL 157.268273 276.656309 \nz\n\" style=\"fill:#5e95c8;\"/>\n   </g>\n   <g id=\"patch_6\">\n    <path clip-path=\"url(#p4cbffb6cff)\" d=\"M 207.995545 282.149437 \nL 248.577364 282.149437 \nL 248.577364 277.97466 \nL 207.995545 277.97466 \nz\n\" style=\"fill:#a5c3e0;\"/>\n   </g>\n   <g id=\"patch_7\">\n    <path clip-path=\"url(#p4cbffb6cff)\" d=\"M 258.722818 282.149437 \nL 299.304636 282.149437 \nL 299.304636 278.194385 \nL 258.722818 278.194385 \nz\n\" style=\"fill:#d5739f;\"/>\n   </g>\n   <g id=\"patch_8\">\n    <path clip-path=\"url(#p4cbffb6cff)\" d=\"M 309.450091 282.149437 \nL 350.031909 282.149437 \nL 350.031909 265.779914 \nL 309.450091 265.779914 \nz\n\" style=\"fill:#e7afc8;\"/>\n   </g>\n   <g id=\"patch_9\">\n    <path clip-path=\"url(#p4cbffb6cff)\" d=\"M 360.177364 282.149437 \nL 400.759182 282.149437 \nL 400.759182 232.821143 \nL 360.177364 232.821143 \nz\n\" style=\"fill:#d7c659;\"/>\n   </g>\n   <g id=\"patch_10\">\n    <path clip-path=\"url(#p4cbffb6cff)\" d=\"M 410.904636 282.149437 \nL 451.486455 282.149437 \nL 451.486455 242.598912 \nL 410.904636 242.598912 \nz\n\" style=\"fill:#e9dfa1;\"/>\n   </g>\n   <g id=\"patch_11\">\n    <path clip-path=\"url(#p4cbffb6cff)\" d=\"M 461.631909 282.149437 \nL 502.213727 282.149437 \nL 502.213727 233.590181 \nL 461.631909 233.590181 \nz\n\" style=\"fill:#da6b64;\"/>\n   </g>\n   <g id=\"patch_12\">\n    <path clip-path=\"url(#p4cbffb6cff)\" d=\"M 512.359182 282.149437 \nL 552.941 282.149437 \nL 552.941 225.460351 \nL 512.359182 225.460351 \nz\n\" style=\"fill:#eaaba7;\"/>\n   </g>\n   <g id=\"patch_13\">\n    <path clip-path=\"url(#p4cbffb6cff)\" d=\"M 563.086455 282.149437 \nL 603.668273 282.149437 \nL 603.668273 238.314272 \nL 563.086455 238.314272 \nz\n\" style=\"fill:#a5b945;\"/>\n   </g>\n   <g id=\"line2d_18\">\n    <path clip-path=\"url(#p4cbffb6cff)\" d=\"M 0 0 \n\" style=\"fill:none;stroke:#424242;stroke-linecap:round;stroke-width:2.16;\"/>\n   </g>\n   <g id=\"line2d_19\">\n    <path clip-path=\"url(#p4cbffb6cff)\" d=\"M 0 0 \n\" style=\"fill:none;stroke:#424242;stroke-linecap:round;stroke-width:2.16;\"/>\n   </g>\n   <g id=\"line2d_20\">\n    <path clip-path=\"url(#p4cbffb6cff)\" d=\"M 0 0 \n\" style=\"fill:none;stroke:#424242;stroke-linecap:round;stroke-width:2.16;\"/>\n   </g>\n   <g id=\"line2d_21\">\n    <path clip-path=\"url(#p4cbffb6cff)\" d=\"M 0 0 \n\" style=\"fill:none;stroke:#424242;stroke-linecap:round;stroke-width:2.16;\"/>\n   </g>\n   <g id=\"line2d_22\">\n    <path clip-path=\"url(#p4cbffb6cff)\" d=\"M 0 0 \n\" style=\"fill:none;stroke:#424242;stroke-linecap:round;stroke-width:2.16;\"/>\n   </g>\n   <g id=\"line2d_23\">\n    <path clip-path=\"url(#p4cbffb6cff)\" d=\"M 0 0 \n\" style=\"fill:none;stroke:#424242;stroke-linecap:round;stroke-width:2.16;\"/>\n   </g>\n   <g id=\"line2d_24\">\n    <path clip-path=\"url(#p4cbffb6cff)\" d=\"M 0 0 \n\" style=\"fill:none;stroke:#424242;stroke-linecap:round;stroke-width:2.16;\"/>\n   </g>\n   <g id=\"line2d_25\">\n    <path clip-path=\"url(#p4cbffb6cff)\" d=\"M 0 0 \n\" style=\"fill:none;stroke:#424242;stroke-linecap:round;stroke-width:2.16;\"/>\n   </g>\n   <g id=\"line2d_26\">\n    <path clip-path=\"url(#p4cbffb6cff)\" d=\"M 0 0 \n\" style=\"fill:none;stroke:#424242;stroke-linecap:round;stroke-width:2.16;\"/>\n   </g>\n   <g id=\"line2d_27\">\n    <path clip-path=\"url(#p4cbffb6cff)\" d=\"M 0 0 \n\" style=\"fill:none;stroke:#424242;stroke-linecap:round;stroke-width:2.16;\"/>\n   </g>\n   <g id=\"line2d_28\">\n    <path clip-path=\"url(#p4cbffb6cff)\" d=\"M 0 0 \n\" style=\"fill:none;stroke:#424242;stroke-linecap:round;stroke-width:2.16;\"/>\n   </g>\n   <g id=\"patch_14\">\n    <path d=\"M 40.741 282.149437 \nL 40.741 10.349437 \n\" style=\"fill:none;stroke:#262626;stroke-linecap:square;stroke-linejoin:miter;\"/>\n   </g>\n   <g id=\"patch_15\">\n    <path d=\"M 50.741 292.149437 \nL 608.741 292.149437 \n\" style=\"fill:none;stroke:#262626;stroke-linecap:square;stroke-linejoin:miter;\"/>\n   </g>\n   <g id=\"text_20\">\n    <!-- 0.01 -->\n    <g style=\"fill:#262626;\" transform=\"translate(66.763386 273.527423)scale(0.096 -0.096)\">\n     <use xlink:href=\"#ArialMT-48\"/>\n     <use x=\"55.615234\" xlink:href=\"#ArialMT-46\"/>\n     <use x=\"83.398438\" xlink:href=\"#ArialMT-48\"/>\n     <use x=\"139.013672\" xlink:href=\"#ArialMT-49\"/>\n    </g>\n   </g>\n   <g id=\"text_21\">\n    <!-- 0.00 -->\n    <g style=\"fill:#262626;\" transform=\"translate(117.490659 276.054262)scale(0.096 -0.096)\">\n     <use xlink:href=\"#ArialMT-48\"/>\n     <use x=\"55.615234\" xlink:href=\"#ArialMT-46\"/>\n     <use x=\"83.398438\" xlink:href=\"#ArialMT-48\"/>\n     <use x=\"139.013672\" xlink:href=\"#ArialMT-48\"/>\n    </g>\n   </g>\n   <g id=\"text_22\">\n    <!-- 0.02 -->\n    <g style=\"fill:#262626;\" transform=\"translate(168.217932 271.220309)scale(0.096 -0.096)\">\n     <use xlink:href=\"#ArialMT-48\"/>\n     <use x=\"55.615234\" xlink:href=\"#ArialMT-46\"/>\n     <use x=\"83.398438\" xlink:href=\"#ArialMT-48\"/>\n     <use x=\"139.013672\" xlink:href=\"#ArialMT-50\"/>\n    </g>\n   </g>\n   <g id=\"text_23\">\n    <!-- 0.02 -->\n    <g style=\"fill:#262626;\" transform=\"translate(218.945205 272.53866)scale(0.096 -0.096)\">\n     <use xlink:href=\"#ArialMT-48\"/>\n     <use x=\"55.615234\" xlink:href=\"#ArialMT-46\"/>\n     <use x=\"83.398438\" xlink:href=\"#ArialMT-48\"/>\n     <use x=\"139.013672\" xlink:href=\"#ArialMT-50\"/>\n    </g>\n   </g>\n   <g id=\"text_24\">\n    <!-- 0.01 -->\n    <g style=\"fill:#262626;\" transform=\"translate(269.672477 272.758385)scale(0.096 -0.096)\">\n     <use xlink:href=\"#ArialMT-48\"/>\n     <use x=\"55.615234\" xlink:href=\"#ArialMT-46\"/>\n     <use x=\"83.398438\" xlink:href=\"#ArialMT-48\"/>\n     <use x=\"139.013672\" xlink:href=\"#ArialMT-49\"/>\n    </g>\n   </g>\n   <g id=\"text_25\">\n    <!-- 0.06 -->\n    <g style=\"fill:#262626;\" transform=\"translate(320.39975 260.343914)scale(0.096 -0.096)\">\n     <use xlink:href=\"#ArialMT-48\"/>\n     <use x=\"55.615234\" xlink:href=\"#ArialMT-46\"/>\n     <use x=\"83.398438\" xlink:href=\"#ArialMT-48\"/>\n     <use x=\"139.013672\" xlink:href=\"#ArialMT-54\"/>\n    </g>\n   </g>\n   <g id=\"text_26\">\n    <!-- 0.18 -->\n    <g style=\"fill:#262626;\" transform=\"translate(371.127023 227.385143)scale(0.096 -0.096)\">\n     <use xlink:href=\"#ArialMT-48\"/>\n     <use x=\"55.615234\" xlink:href=\"#ArialMT-46\"/>\n     <use x=\"83.398438\" xlink:href=\"#ArialMT-49\"/>\n     <use x=\"139.013672\" xlink:href=\"#ArialMT-56\"/>\n    </g>\n   </g>\n   <g id=\"text_27\">\n    <!-- 0.15 -->\n    <g style=\"fill:#262626;\" transform=\"translate(421.854295 237.162912)scale(0.096 -0.096)\">\n     <use xlink:href=\"#ArialMT-48\"/>\n     <use x=\"55.615234\" xlink:href=\"#ArialMT-46\"/>\n     <use x=\"83.398438\" xlink:href=\"#ArialMT-49\"/>\n     <use x=\"139.013672\" xlink:href=\"#ArialMT-53\"/>\n    </g>\n   </g>\n   <g id=\"text_28\">\n    <!-- 0.18 -->\n    <g style=\"fill:#262626;\" transform=\"translate(472.581568 228.154181)scale(0.096 -0.096)\">\n     <use xlink:href=\"#ArialMT-48\"/>\n     <use x=\"55.615234\" xlink:href=\"#ArialMT-46\"/>\n     <use x=\"83.398438\" xlink:href=\"#ArialMT-49\"/>\n     <use x=\"139.013672\" xlink:href=\"#ArialMT-56\"/>\n    </g>\n   </g>\n   <g id=\"text_29\">\n    <!-- 0.21 -->\n    <g style=\"fill:#262626;\" transform=\"translate(523.308841 220.024351)scale(0.096 -0.096)\">\n     <use xlink:href=\"#ArialMT-48\"/>\n     <use x=\"55.615234\" xlink:href=\"#ArialMT-46\"/>\n     <use x=\"83.398438\" xlink:href=\"#ArialMT-50\"/>\n     <use x=\"139.013672\" xlink:href=\"#ArialMT-49\"/>\n    </g>\n   </g>\n   <g id=\"text_30\">\n    <!-- 0.16 -->\n    <g style=\"fill:#262626;\" transform=\"translate(574.036114 232.878272)scale(0.096 -0.096)\">\n     <use xlink:href=\"#ArialMT-48\"/>\n     <use x=\"55.615234\" xlink:href=\"#ArialMT-46\"/>\n     <use x=\"83.398438\" xlink:href=\"#ArialMT-49\"/>\n     <use x=\"139.013672\" xlink:href=\"#ArialMT-54\"/>\n    </g>\n   </g>\n  </g>\n </g>\n <defs>\n  <clipPath id=\"p4cbffb6cff\">\n   <rect height=\"271.8\" width=\"558\" x=\"50.741\" y=\"10.349437\"/>\n  </clipPath>\n </defs>\n</svg>\n",
      "image/png": "[encoded data removed]"
     },
     "metadata": {}
    }
   ],
   "source": [
    "# historical core\n",
    "data = joined.loc[joined['cluster'].isin([8])]['year'].value_counts(sort=False, normalize=True)\n",
    "\n",
    "sns.set(context=\"paper\", style=\"ticks\", rc={'patch.force_edgecolor': False})\n",
    "fig, ax = plt.subplots(figsize=(10, 5))\n",
    "sns.barplot(ax=ax, x=data.index, y=data, order=data.index, palette=cols)\n",
    "sns.despine(offset=10)\n",
    "plt.ylabel('frequency')\n",
    "plt.xlabel('historical period')\n",
    "plt.ylim(0, 1)\n",
    "show_values_on_bars(ax)"
   ]
  },
  {
   "cell_type": "code",
   "execution_count": 16,
   "metadata": {},
   "outputs": [],
   "source": [
    "import scipy.stats as ss\n",
    "import numpy as np\n",
    "\n",
    "def cramers_v(x, y):\n",
    "    confusion_matrix = pd.crosstab(x,y)\n",
    "    chi2 = ss.chi2_contingency(confusion_matrix)[0]\n",
    "    n = confusion_matrix.sum().sum()\n",
    "    phi2 = chi2/n\n",
    "    r,k = confusion_matrix.shape\n",
    "    phi2corr = max(0, phi2-((k-1)*(r-1))/(n-1))\n",
    "    rcorr = r-((r-1)**2)/(n-1)\n",
    "    kcorr = k-((k-1)**2)/(n-1)\n",
    "    return np.sqrt(phi2corr/min((kcorr-1),(rcorr-1)))"
   ]
  },
  {
   "cell_type": "code",
   "execution_count": 17,
   "metadata": {},
   "outputs": [
    {
     "output_type": "execute_result",
     "data": {
      "text/plain": "0.35271919336786556"
     },
     "metadata": {},
     "execution_count": 17
    }
   ],
   "source": [
    "cramers_v(joined.cluster, joined.year)"
   ]
  },
  {
   "cell_type": "code",
   "execution_count": 31,
   "metadata": {},
   "outputs": [],
   "source": [
    "confusion_matrix = pd.crosstab(joined.cluster, joined.year)"
   ]
  },
  {
   "cell_type": "code",
   "execution_count": 32,
   "metadata": {},
   "outputs": [],
   "source": [
    "chi, p, dof, exp = ss.chi2_contingency(confusion_matrix)"
   ]
  },
  {
   "cell_type": "code",
   "execution_count": 33,
   "metadata": {},
   "outputs": [
    {
     "output_type": "execute_result",
     "data": {
      "text/plain": "0.0"
     },
     "metadata": {},
     "execution_count": 33
    }
   ],
   "source": [
    "p"
   ]
  },
  {
   "cell_type": "code",
   "execution_count": 37,
   "metadata": {},
   "outputs": [
    {
     "output_type": "execute_result",
     "data": {
      "text/plain": "312903.3126042255"
     },
     "metadata": {},
     "execution_count": 37
    }
   ],
   "source": [
    "chi"
   ]
  },
  {
   "cell_type": "code",
   "execution_count": 38,
   "metadata": {},
   "outputs": [
    {
     "output_type": "execute_result",
     "data": {
      "text/plain": "290"
     },
     "metadata": {},
     "execution_count": 38
    }
   ],
   "source": [
    "dof"
   ]
  },
  {
   "cell_type": "code",
   "execution_count": 39,
   "metadata": {},
   "outputs": [
    {
     "output_type": "execute_result",
     "data": {
      "text/plain": "(312903.3126042255,\n 0.0,\n 290,\n array([[3.43229803e+02, 1.13616053e+01, 4.26548242e+02, 1.69815004e+03,\n         8.12413347e+02, 1.25863942e+03, 1.40692594e+03, 9.64994632e+02,\n         1.34730680e+03, 8.18191758e+02, 7.23238411e+02],\n        [9.10323382e+02, 3.01335575e+01, 1.13130280e+03, 4.50387956e+03,\n         2.15470469e+03, 3.33819757e+03, 3.73148710e+03, 2.55938491e+03,\n         3.57336358e+03, 2.17003035e+03, 1.91819251e+03],\n        [2.46253652e+02, 8.15149730e+00, 3.06031299e+02, 1.21835472e+03,\n         5.82874075e+02, 9.03023432e+02, 1.00941308e+03, 6.92345042e+02,\n         9.66638725e+02, 5.87019854e+02, 5.18894626e+02],\n        [1.19750853e+02, 3.96399706e+00, 1.48820164e+02, 5.92474529e+02,\n         2.83446222e+02, 4.39131866e+02, 4.90868158e+02, 3.36680932e+02,\n         4.70067390e+02, 2.85462276e+02, 2.52333613e+02],\n        [3.22309262e+02, 1.06690929e+01, 4.00549277e+02, 1.59464442e+03,\n         7.62895135e+02, 1.18192284e+03, 1.32117100e+03, 9.06176286e+02,\n         1.26518576e+03, 7.68321340e+02, 6.79155588e+02],\n        [5.30325204e+02, 1.75548441e+01, 6.59060728e+02, 2.62381577e+03,\n         1.25526184e+03, 1.94472684e+03, 2.17384470e+03, 1.49101556e+03,\n         2.08172701e+03, 1.26419008e+03, 1.11747743e+03],\n        [3.12828549e+02, 1.03552620e+01, 3.88767137e+02, 1.54773802e+03,\n         7.40454607e+02, 1.14715663e+03, 1.28230881e+03, 8.79521149e+02,\n         1.22797038e+03, 7.45721201e+02, 6.59178256e+02],\n        [4.78373695e+02, 1.58351434e+01, 5.94498080e+02, 2.36678256e+03,\n         1.13229437e+03, 1.75421827e+03, 1.96089138e+03, 1.34495328e+03,\n         1.87779769e+03, 1.14034799e+03, 1.00800755e+03],\n        [8.65508646e+01, 2.86500985e+00, 1.07560937e+02, 4.28215596e+02,\n         2.04862972e+02, 3.17385988e+02, 3.54778797e+02, 2.43338775e+02,\n         3.39744879e+02, 2.06320091e+02, 1.82376091e+02],\n        [6.37306831e+02, 2.10961538e+01, 7.92011959e+02, 3.15311379e+03,\n         1.50848374e+03, 2.33703336e+03, 2.61237079e+03, 1.79179566e+03,\n         2.50167036e+03, 1.51921305e+03, 1.34290430e+03],\n        [5.89168597e+02, 1.95026802e+01, 7.32188252e+02, 2.91494699e+03,\n         1.39454217e+03, 2.16050826e+03, 2.41504839e+03, 1.65645445e+03,\n         2.31270958e+03, 1.40446105e+03, 1.24146958e+03],\n        [3.53480168e+02, 1.17009133e+01, 4.39286866e+02, 1.74886434e+03,\n         8.36675615e+02, 1.29622798e+03, 1.44894299e+03, 9.93813654e+02,\n         1.38754336e+03, 8.42626595e+02, 7.44837519e+02],\n        [1.76670116e+02, 5.84814056e+00, 2.19556480e+02, 8.74085998e+02,\n         4.18172195e+02, 6.47857413e+02, 7.24184691e+02, 4.96710110e+02,\n         6.93497025e+02, 4.21146507e+02, 3.72271325e+02],\n        [1.47283403e+02, 4.87538054e+00, 1.83036194e+02, 7.28693476e+02,\n         3.48614840e+02, 5.40094992e+02, 6.03726247e+02, 4.14089022e+02,\n         5.78143065e+02, 3.51094415e+02, 3.10348966e+02],\n        [5.75769656e+02, 1.90591480e+01, 7.15536741e+02, 2.84865492e+03,\n         1.36282732e+03, 2.11137372e+03, 2.36012508e+03, 1.61878317e+03,\n         2.26011367e+03, 1.37252064e+03, 1.21323594e+03],\n        [1.07751278e+02, 3.56678672e+00, 1.33907714e+02, 5.33105916e+02,\n         2.55043636e+02, 3.95128878e+02, 4.41680960e+02, 3.02943988e+02,\n         4.22964522e+02, 2.56857672e+02, 2.27048650e+02],\n        [3.86575203e+01, 1.27964264e+00, 4.80415663e+01, 1.91260402e+02,\n         9.15010446e+01, 1.41758899e+02, 1.58460214e+02, 1.08686074e+02,\n         1.51745389e+02, 9.21518594e+01, 8.14573890e+01],\n        [2.70742579e+02, 8.96213065e+00, 3.36464871e+02, 1.33951516e+03,\n         6.40838538e+02, 9.92825449e+02, 1.10979511e+03, 7.61195949e+02,\n         1.06276703e+03, 6.45396597e+02, 5.70496592e+02],\n        [4.70152413e+02, 1.55630022e+01, 5.84281095e+02, 2.32610727e+03,\n         1.11283488e+03, 1.72407045e+03, 1.92719169e+03, 1.32183904e+03,\n         1.84552604e+03, 1.12075008e+03, 9.90684028e+02],\n        [7.91342181e+01, 2.61950375e+00, 9.83439123e+01, 3.91521293e+02,\n         1.87308021e+02, 2.90188806e+02, 3.24377380e+02, 2.22486786e+02,\n         3.10631737e+02, 1.88640277e+02, 1.66748067e+02],\n        [2.91523183e+02, 9.65001094e+00, 3.62289930e+02, 1.44232844e+03,\n         6.90025525e+02, 1.06902888e+03, 1.19497644e+03, 8.19620861e+02,\n         1.14433875e+03, 6.94933434e+02, 6.14284545e+02],\n        [6.80092485e+01, 2.25124460e+00, 8.45183755e+01, 3.36479838e+02,\n         1.60975593e+02, 2.49393032e+02, 2.78775255e+02, 1.91208803e+02,\n         2.66962023e+02, 1.62120556e+02, 1.43306031e+02],\n        [2.65774825e+02, 8.79768788e+00, 3.30291203e+02, 1.31493690e+03,\n         6.29080033e+02, 9.74608468e+02, 1.08943190e+03, 7.47229051e+02,\n         1.04326671e+03, 6.33554458e+02, 5.60028764e+02],\n        [2.10954613e+01, 6.98302724e-01, 2.62163480e+01, 1.04371061e+02,\n         4.99322443e+01, 7.73580238e+01, 8.64719542e+01, 5.93101379e+01,\n         8.28076646e+01, 5.02873948e+01, 4.44514078e+01],\n        [4.31424924e+02, 1.42810434e+01, 5.36152576e+02, 2.13450070e+03,\n         1.02116822e+03, 1.58205497e+03, 1.76844467e+03, 1.21295625e+03,\n         1.69350600e+03, 1.02843143e+03, 9.09079205e+02],\n        [2.36982844e+02, 7.84461468e+00, 2.94510019e+02, 1.17248684e+03,\n         5.60930386e+02, 8.69026953e+02, 9.71411306e+02, 6.66280057e+02,\n         9.30247297e+02, 5.64920087e+02, 4.99359596e+02],\n        [9.05740454e+01, 2.99818533e+00, 1.12560738e+02, 4.48120525e+02,\n         2.14385705e+02, 3.32139177e+02, 3.71270132e+02, 2.54649995e+02,\n         3.55537386e+02, 2.15910556e+02, 1.90853557e+02],\n        [1.23669081e+02, 4.09369839e+00, 1.53689536e+02, 6.11860199e+02,\n         2.92720536e+02, 4.53500189e+02, 5.06929283e+02, 3.47697077e+02,\n         4.85447918e+02, 2.94802555e+02, 2.60589928e+02],\n        [2.90438673e+02, 9.61411147e+00, 3.60942157e+02, 1.43696276e+03,\n         6.87458527e+02, 1.06505193e+03, 1.19053095e+03, 8.16571749e+02,\n         1.14008164e+03, 6.92348178e+02, 6.11999316e+02],\n        [1.75445669e+02, 5.80760889e+00, 2.18034801e+02, 8.68027976e+02,\n         4.15273972e+02, 6.43367312e+02, 7.19165589e+02, 4.93267565e+02,\n         6.88690610e+02, 4.18227670e+02, 3.69691227e+02]]))"
     },
     "metadata": {},
     "execution_count": 39
    }
   ],
   "source": [
    "ss.chi2_contingency(confusion_matrix)"
   ]
  },
  {
   "cell_type": "code",
   "execution_count": 25,
   "metadata": {},
   "outputs": [
    {
     "output_type": "stream",
     "name": "stdout",
     "text": "|   cluster |   (0, 1800] |   (1800, 1850] |   (1850, 1900] |   (1900, 1930] |   (1930, 1945] |   (1945, 1960] |   (1960, 1975] |   (1975, 1985] |   (1985, 1995] |   (1995, 2005] |   (2005, 2020] |\n|----------:|------------:|---------------:|---------------:|---------------:|---------------:|---------------:|---------------:|---------------:|---------------:|---------------:|---------------:|\n|         0 |         827 |              4 |           3012 |           2560 |            484 |            154 |             86 |            311 |            471 |           1048 |            854 |\n|         1 |           2 |              1 |             23 |            752 |            748 |           5678 |           5841 |           2048 |           5582 |           2136 |           3210 |\n|         2 |         761 |             10 |            625 |           2307 |            839 |            431 |            207 |            495 |            593 |            590 |            181 |\n|         3 |          14 |             21 |            116 |            584 |            251 |            381 |            546 |            385 |            337 |            460 |            328 |\n|         4 |          38 |              0 |            526 |           5743 |           2771 |             75 |              6 |              6 |             20 |             23 |              5 |\n|         5 |          80 |             52 |            698 |           4214 |           2126 |           2132 |           2034 |           1208 |            932 |            920 |            763 |\n|         6 |           6 |              4 |             83 |            821 |            490 |            679 |           1521 |            693 |           1993 |           1365 |           1287 |\n|         7 |           0 |              0 |              1 |              0 |              7 |            604 |           5455 |           3455 |           3282 |            503 |            367 |\n|         8 |          29 |              6 |             50 |             38 |             36 |            149 |            449 |            360 |            442 |            516 |            399 |\n|         9 |           4 |              6 |            136 |           3151 |           4444 |           5095 |           1579 |            578 |           1154 |            791 |           1279 |\n|        10 |           1 |              0 |             13 |            498 |            340 |           5379 |           3086 |            839 |           2949 |           1940 |           1796 |\n|        11 |         980 |              0 |           3526 |           4324 |            272 |             38 |             50 |            200 |            452 |            204 |             58 |\n|        12 |           2 |              0 |             35 |            272 |            114 |            252 |            630 |            178 |            718 |           1582 |           1267 |\n|        13 |        2815 |             41 |            287 |            462 |            170 |             42 |             57 |             68 |            124 |            121 |             23 |\n|        14 |          35 |             14 |            165 |           1525 |            911 |           2398 |           4149 |           1916 |           2511 |           1529 |           1305 |\n|        15 |          12 |              9 |            154 |            498 |            209 |            302 |            408 |            369 |            390 |            375 |            354 |\n|        16 |           0 |              0 |             23 |             19 |              0 |            277 |            321 |            171 |            136 |             65 |             93 |\n|        17 |          50 |             19 |            225 |            553 |            238 |            691 |           1578 |            998 |           1197 |           1228 |            962 |\n|        18 |          33 |              0 |            312 |           8359 |           3280 |            573 |             45 |            357 |            344 |            102 |             34 |\n|        19 |          14 |              0 |             16 |            270 |             37 |            208 |            499 |            504 |            560 |              9 |            145 |\n|        20 |           3 |              0 |              3 |             30 |             19 |             77 |           2031 |           4203 |           1475 |            325 |            167 |\n|        21 |          18 |             11 |             96 |            323 |             94 |            207 |            340 |            228 |            219 |            243 |            165 |\n|        22 |           1 |              0 |             83 |            152 |            317 |           1901 |           1108 |           1160 |           1023 |            709 |           1143 |\n|        23 |           0 |              0 |             11 |             10 |              2 |             12 |             51 |             84 |            158 |            158 |            117 |\n|        24 |           0 |              0 |              0 |           2696 |            942 |           2457 |            932 |            107 |           3806 |            768 |            624 |\n|        25 |          46 |             14 |            142 |           1459 |            796 |            632 |           1112 |            597 |            675 |            692 |            609 |\n|        26 |           1 |              1 |             38 |            229 |            164 |            344 |            569 |            315 |            329 |            371 |            228 |\n|        27 |          48 |             16 |            128 |            687 |            319 |            336 |            421 |            308 |            325 |            638 |            309 |\n|        28 |           0 |              0 |             31 |            255 |            155 |            685 |            859 |           2430 |           2032 |           1453 |            402 |\n|        29 |        2971 |             62 |            367 |            703 |            233 |             48 |             65 |            145 |            279 |             92 |             50 |\n"
    }
   ],
   "source": [
    "confusion_matrix = pd.crosstab(joined.cluster, joined.year)\n",
    "print(confusion_matrix.to_markdown())"
   ]
  },
  {
   "cell_type": "code",
   "execution_count": null,
   "metadata": {},
   "outputs": [],
   "source": []
  }
 ],
 "metadata": {
  "language_info": {
   "codemirror_mode": {
    "name": "ipython",
    "version": 3
   },
   "file_extension": ".py",
   "mimetype": "text/x-python",
   "name": "python",
   "nbconvert_exporter": "python",
   "pygments_lexer": "ipython3",
   "version": "3.8.2-final"
  },
  "orig_nbformat": 2,
  "kernelspec": {
   "name": "geo_dev",
   "display_name": "geo_dev"
  }
 },
 "nbformat": 4,
 "nbformat_minor": 2
}